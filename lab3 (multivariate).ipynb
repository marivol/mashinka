{
  "nbformat": 4,
  "nbformat_minor": 0,
  "metadata": {
    "colab": {
      "provenance": []
    },
    "kernelspec": {
      "name": "python3",
      "display_name": "Python 3"
    },
    "language_info": {
      "name": "python"
    }
  },
  "cells": [
    {
      "cell_type": "code",
      "execution_count": null,
      "metadata": {
        "id": "oRWWl6Z8__GK"
      },
      "outputs": [],
      "source": [
        "import numpy as np\n",
        "import pandas as pd\n",
        "import matplotlib.pyplot as plt\n",
        "from sklearn.linear_model import LinearRegression\n",
        "from sklearn.preprocessing import PolynomialFeatures"
      ]
    },
    {
      "cell_type": "code",
      "source": [
        "class Model(object):    #    возвращал массив ошибок на каждой итерации спуска и номер итерации\n",
        "    \"\"\"Модель парной линейной регрессии\"\"\"\n",
        "    def __init__(self):\n",
        "        self.b0 = 0\n",
        "        self.b1 = 0\n",
        "\n",
        "    def predict(self, X):\n",
        "        return self.b0 + self.b1 * X\n",
        "\n",
        "    def error(self, X, Y):\n",
        "        return sum(((self.predict(X) - Y)**2) / (2 * len(X)))\n",
        "\n",
        "    def fit(self, X, Y, alpha=0.001, accuracy=0.01, max_steps=5000):\n",
        "        steps, errors = [], []\n",
        "        step = 0\n",
        "        for _ in range(10000):\n",
        "            dJ0 = sum(self.predict(X) - Y) /len(X)\n",
        "            dJ1 = sum((self.predict(X) - Y) * X) /len(X)\n",
        "            self.b0 -= alpha * dJ0\n",
        "            self.b1 -= alpha * dJ1\n",
        "            new_err = hyp.error(X, Y)\n",
        "            step += 1\n",
        "            steps.append(step)\n",
        "            errors.append(new_err)\n",
        "        return steps, errors"
      ],
      "metadata": {
        "id": "QWcOdid5D1dc"
      },
      "execution_count": null,
      "outputs": []
    },
    {
      "cell_type": "code",
      "source": [
        "x = pd.read_csv('https://raw.githubusercontent.com/koroteevmv/ML_course/main/ML1.1_sgd/data/x.csv', index_col=0)['0']\n",
        "y = pd.read_csv('https://raw.githubusercontent.com/koroteevmv/ML_course/main/ML1.1_sgd/data/y.csv', index_col=0)['0']"
      ],
      "metadata": {
        "id": "9wCY6NsFP7DX"
      },
      "execution_count": null,
      "outputs": []
    },
    {
      "cell_type": "code",
      "source": [
        "hyp = Model()\n",
        "steps, errors = hyp.fit(x, y)\n",
        "J = hyp.error(x, y)\n",
        "print(\"error after gradient descent:\", J)"
      ],
      "metadata": {
        "colab": {
          "base_uri": "https://localhost:8080/"
        },
        "id": "3l7oLxaYEFT9",
        "outputId": "b40b7ac1-d412-4725-ac71-baf6ab8d5831"
      },
      "execution_count": null,
      "outputs": [
        {
          "output_type": "stream",
          "name": "stdout",
          "text": [
            "error after gradient descent: 2.776975306057215e-06\n"
          ]
        }
      ]
    },
    {
      "cell_type": "code",
      "source": [
        "x,y"
      ],
      "metadata": {
        "colab": {
          "base_uri": "https://localhost:8080/"
        },
        "id": "FsezSYa7QGcM",
        "outputId": "d17a840b-137a-4bda-a6d6-8b3a44c2fdcc"
      },
      "execution_count": null,
      "outputs": [
        {
          "output_type": "execute_result",
          "data": {
            "text/plain": [
              "(0     1.462108\n",
              " 1     1.133769\n",
              " 2    -2.301539\n",
              " 3     1.744812\n",
              " 4     0.042214\n",
              " 5    -0.611756\n",
              " 6     0.319039\n",
              " 7    -0.761207\n",
              " 8     0.582815\n",
              " 9    -1.099891\n",
              " 10    0.865408\n",
              " 11    1.624345\n",
              " 12   -0.528172\n",
              " 13   -0.249370\n",
              " 14   -1.072969\n",
              " 15   -0.384054\n",
              " 16   -0.172428\n",
              " 17   -0.322417\n",
              " 18   -2.060141\n",
              " 19   -0.877858\n",
              " Name: 0, dtype: float64,\n",
              " 0     101.159902\n",
              " 1      78.442913\n",
              " 2    -159.238195\n",
              " 3     120.719533\n",
              " 4       2.920673\n",
              " 5     -42.326026\n",
              " 6      22.073585\n",
              " 7     -52.666163\n",
              " 8      40.323651\n",
              " 9     -76.098960\n",
              " 10     59.875573\n",
              " 11    112.384738\n",
              " 12    -36.542995\n",
              " 13    -17.253366\n",
              " 14    -74.236243\n",
              " 15    -26.571842\n",
              " 16    -11.929913\n",
              " 17    -22.307308\n",
              " 18   -142.536421\n",
              " 19    -60.737015\n",
              " Name: 0, dtype: float64)"
            ]
          },
          "metadata": {},
          "execution_count": 80
        }
      ]
    },
    {
      "cell_type": "code",
      "source": [
        "x = pd.read_csv('https://raw.githubusercontent.com/koroteevmv/ML_course/2023_new/ML1.2%20multivariate/data/10_x.csv',\n",
        "                header=None)\n",
        "y = pd.read_csv('https://raw.githubusercontent.com/koroteevmv/ML_course/2023_new/ML1.2%20multivariate/data/10_y.csv',\n",
        "                header=None)"
      ],
      "metadata": {
        "id": "JkXa8pJlGO8I"
      },
      "execution_count": null,
      "outputs": []
    },
    {
      "cell_type": "code",
      "source": [
        "x, y"
      ],
      "metadata": {
        "colab": {
          "base_uri": "https://localhost:8080/"
        },
        "id": "p4K-fDeKHenh",
        "outputId": "f21827e0-8464-43db-98e1-86e986b5c120"
      },
      "execution_count": null,
      "outputs": [
        {
          "output_type": "execute_result",
          "data": {
            "text/plain": [
              "(            0         1         2         3         4\n",
              " 0   -1.590103 -1.023308  0.139891  1.351945  0.998685\n",
              " 1   -0.235861 -1.108386  2.553156 -1.911015  0.859437\n",
              " 2    0.037993 -2.136154  0.903113  1.095856  1.024503\n",
              " 3   -1.170747 -1.549586  1.827438 -0.519883  1.216156\n",
              " 4    1.060144 -1.086193 -1.251762 -0.571059 -0.107315\n",
              " ..        ...       ...       ...       ...       ...\n",
              " 432  1.118841  0.345085  1.847087  1.138165 -1.680933\n",
              " 433 -0.749348  1.154446 -0.006490 -0.515298  0.514873\n",
              " 434 -0.064161 -0.576409 -0.831027  0.690439 -1.472990\n",
              " 435 -0.016386  0.189571 -0.952488 -0.283293  1.204598\n",
              " 436 -0.360963 -1.719303  0.088247  1.262523  0.161783\n",
              " \n",
              " [437 rows x 5 columns],\n",
              "               0\n",
              " 0    -20.511355\n",
              " 1   -137.884100\n",
              " 2     77.084302\n",
              " 3   -137.669480\n",
              " 4    -44.044335\n",
              " ..          ...\n",
              " 432  212.106146\n",
              " 433  -32.541704\n",
              " 434  -51.624014\n",
              " 435  -12.461232\n",
              " 436   17.243884\n",
              " \n",
              " [437 rows x 1 columns])"
            ]
          },
          "metadata": {},
          "execution_count": 108
        }
      ]
    },
    {
      "cell_type": "markdown",
      "source": [
        "Самостоятельно постройте парные регрессии от каждого атрибута с целевой переменной"
      ],
      "metadata": {
        "id": "r8eQPJcGNFJE"
      }
    },
    {
      "cell_type": "code",
      "source": [
        "binary_1 = LinearRegression()\n",
        "binary_1.fit(x[[1]], y)\n",
        "binary_2 = LinearRegression()\n",
        "binary_2.fit(x[[2]], y)\n",
        "binary_3 = LinearRegression()\n",
        "binary_3.fit(x[[3]], y)\n",
        "binary_4 = LinearRegression()\n",
        "binary_4.fit(x[[4]], y)"
      ],
      "metadata": {
        "colab": {
          "base_uri": "https://localhost:8080/",
          "height": 75
        },
        "id": "dATGk_DfI4Rd",
        "outputId": "12635205-ee28-4cd7-8064-ab2c3312375d"
      },
      "execution_count": null,
      "outputs": [
        {
          "output_type": "execute_result",
          "data": {
            "text/plain": [
              "LinearRegression()"
            ],
            "text/html": [
              "<style>#sk-container-id-12 {color: black;background-color: white;}#sk-container-id-12 pre{padding: 0;}#sk-container-id-12 div.sk-toggleable {background-color: white;}#sk-container-id-12 label.sk-toggleable__label {cursor: pointer;display: block;width: 100%;margin-bottom: 0;padding: 0.3em;box-sizing: border-box;text-align: center;}#sk-container-id-12 label.sk-toggleable__label-arrow:before {content: \"▸\";float: left;margin-right: 0.25em;color: #696969;}#sk-container-id-12 label.sk-toggleable__label-arrow:hover:before {color: black;}#sk-container-id-12 div.sk-estimator:hover label.sk-toggleable__label-arrow:before {color: black;}#sk-container-id-12 div.sk-toggleable__content {max-height: 0;max-width: 0;overflow: hidden;text-align: left;background-color: #f0f8ff;}#sk-container-id-12 div.sk-toggleable__content pre {margin: 0.2em;color: black;border-radius: 0.25em;background-color: #f0f8ff;}#sk-container-id-12 input.sk-toggleable__control:checked~div.sk-toggleable__content {max-height: 200px;max-width: 100%;overflow: auto;}#sk-container-id-12 input.sk-toggleable__control:checked~label.sk-toggleable__label-arrow:before {content: \"▾\";}#sk-container-id-12 div.sk-estimator input.sk-toggleable__control:checked~label.sk-toggleable__label {background-color: #d4ebff;}#sk-container-id-12 div.sk-label input.sk-toggleable__control:checked~label.sk-toggleable__label {background-color: #d4ebff;}#sk-container-id-12 input.sk-hidden--visually {border: 0;clip: rect(1px 1px 1px 1px);clip: rect(1px, 1px, 1px, 1px);height: 1px;margin: -1px;overflow: hidden;padding: 0;position: absolute;width: 1px;}#sk-container-id-12 div.sk-estimator {font-family: monospace;background-color: #f0f8ff;border: 1px dotted black;border-radius: 0.25em;box-sizing: border-box;margin-bottom: 0.5em;}#sk-container-id-12 div.sk-estimator:hover {background-color: #d4ebff;}#sk-container-id-12 div.sk-parallel-item::after {content: \"\";width: 100%;border-bottom: 1px solid gray;flex-grow: 1;}#sk-container-id-12 div.sk-label:hover label.sk-toggleable__label {background-color: #d4ebff;}#sk-container-id-12 div.sk-serial::before {content: \"\";position: absolute;border-left: 1px solid gray;box-sizing: border-box;top: 0;bottom: 0;left: 50%;z-index: 0;}#sk-container-id-12 div.sk-serial {display: flex;flex-direction: column;align-items: center;background-color: white;padding-right: 0.2em;padding-left: 0.2em;position: relative;}#sk-container-id-12 div.sk-item {position: relative;z-index: 1;}#sk-container-id-12 div.sk-parallel {display: flex;align-items: stretch;justify-content: center;background-color: white;position: relative;}#sk-container-id-12 div.sk-item::before, #sk-container-id-12 div.sk-parallel-item::before {content: \"\";position: absolute;border-left: 1px solid gray;box-sizing: border-box;top: 0;bottom: 0;left: 50%;z-index: -1;}#sk-container-id-12 div.sk-parallel-item {display: flex;flex-direction: column;z-index: 1;position: relative;background-color: white;}#sk-container-id-12 div.sk-parallel-item:first-child::after {align-self: flex-end;width: 50%;}#sk-container-id-12 div.sk-parallel-item:last-child::after {align-self: flex-start;width: 50%;}#sk-container-id-12 div.sk-parallel-item:only-child::after {width: 0;}#sk-container-id-12 div.sk-dashed-wrapped {border: 1px dashed gray;margin: 0 0.4em 0.5em 0.4em;box-sizing: border-box;padding-bottom: 0.4em;background-color: white;}#sk-container-id-12 div.sk-label label {font-family: monospace;font-weight: bold;display: inline-block;line-height: 1.2em;}#sk-container-id-12 div.sk-label-container {text-align: center;}#sk-container-id-12 div.sk-container {/* jupyter's `normalize.less` sets `[hidden] { display: none; }` but bootstrap.min.css set `[hidden] { display: none !important; }` so we also need the `!important` here to be able to override the default hidden behavior on the sphinx rendered scikit-learn.org. See: https://github.com/scikit-learn/scikit-learn/issues/21755 */display: inline-block !important;position: relative;}#sk-container-id-12 div.sk-text-repr-fallback {display: none;}</style><div id=\"sk-container-id-12\" class=\"sk-top-container\"><div class=\"sk-text-repr-fallback\"><pre>LinearRegression()</pre><b>In a Jupyter environment, please rerun this cell to show the HTML representation or trust the notebook. <br />On GitHub, the HTML representation is unable to render, please try loading this page with nbviewer.org.</b></div><div class=\"sk-container\" hidden><div class=\"sk-item\"><div class=\"sk-estimator sk-toggleable\"><input class=\"sk-toggleable__control sk-hidden--visually\" id=\"sk-estimator-id-12\" type=\"checkbox\" checked><label for=\"sk-estimator-id-12\" class=\"sk-toggleable__label sk-toggleable__label-arrow\">LinearRegression</label><div class=\"sk-toggleable__content\"><pre>LinearRegression()</pre></div></div></div></div></div>"
            ]
          },
          "metadata": {},
          "execution_count": 64
        }
      ]
    },
    {
      "cell_type": "markdown",
      "source": [
        "(*) Модифицируйте код из предыдущей работы так, чтобы модель регрессии умела работать с входными данными, состоящими из произвольного количества столбцов."
      ],
      "metadata": {
        "id": "buOSi1_VNNS_"
      }
    },
    {
      "cell_type": "code",
      "source": [
        "class Model(object):\n",
        "    \"\"\"Модель парной линейной регрессии\"\"\"\n",
        "    def __init__(self):\n",
        "        self.b = None\n",
        "\n",
        "    def predict(self, X):\n",
        "        return X.dot(self.b)\n",
        "\n",
        "    def error(self, X, Y):\n",
        "        return np.mean((self.predict(X) - Y)**2, axis=0) / 2\n",
        "\n",
        "    def fit(self, X, Y, alpha=0.001, accuracy=0.01, max_steps=5000):\n",
        "        m, n = X.shape\n",
        "        self.b = np.zeros(n)\n",
        "        steps, errors = [], []\n",
        "        step = 0\n",
        "        for _ in range(max_steps):\n",
        "            dJ = X.T.dot(self.predict(X) - Y) / m\n",
        "            self.b -= alpha * dJ\n",
        "            new_err = self.error(X, Y)\n",
        "            step += 1\n",
        "            steps.append(step)\n",
        "            errors.append(new_err)\n",
        "            if np.all(np.abs(new_err - errors[-2]) < accuracy):\n",
        "                break\n",
        "        return steps, errors"
      ],
      "metadata": {
        "id": "R96B9GQ6NP37"
      },
      "execution_count": null,
      "outputs": []
    },
    {
      "cell_type": "code",
      "source": [
        "model = Model()\n",
        "steps, errors = model.fit(x, y)\n",
        "print(\"Коэффициенты модели:\", model.coefficients)\n",
        "\n",
        "plt.plot(steps, errors)\n",
        "plt.xlabel('Шаг')\n",
        "plt.ylabel('Ошибка')\n",
        "plt.title('График обучения')\n",
        "plt.show()"
      ],
      "metadata": {
        "colab": {
          "base_uri": "https://localhost:8080/",
          "height": 390
        },
        "id": "ggKdepPXPW0c",
        "outputId": "b771c0be-318a-43b8-b8cd-187e0b51d4c5"
      },
      "execution_count": null,
      "outputs": [
        {
          "output_type": "error",
          "ename": "ValueError",
          "evalue": "ignored",
          "traceback": [
            "\u001b[0;31m---------------------------------------------------------------------------\u001b[0m",
            "\u001b[0;31mValueError\u001b[0m                                Traceback (most recent call last)",
            "\u001b[0;32m<ipython-input-110-caa2ad12414b>\u001b[0m in \u001b[0;36m<cell line: 2>\u001b[0;34m()\u001b[0m\n\u001b[1;32m      1\u001b[0m \u001b[0mmodel\u001b[0m \u001b[0;34m=\u001b[0m \u001b[0mModel\u001b[0m\u001b[0;34m(\u001b[0m\u001b[0;34m)\u001b[0m\u001b[0;34m\u001b[0m\u001b[0;34m\u001b[0m\u001b[0m\n\u001b[0;32m----> 2\u001b[0;31m \u001b[0msteps\u001b[0m\u001b[0;34m,\u001b[0m \u001b[0merrors\u001b[0m \u001b[0;34m=\u001b[0m \u001b[0mmodel\u001b[0m\u001b[0;34m.\u001b[0m\u001b[0mfit\u001b[0m\u001b[0;34m(\u001b[0m\u001b[0mx\u001b[0m\u001b[0;34m,\u001b[0m \u001b[0my\u001b[0m\u001b[0;34m)\u001b[0m\u001b[0;34m\u001b[0m\u001b[0;34m\u001b[0m\u001b[0m\n\u001b[0m\u001b[1;32m      3\u001b[0m \u001b[0mprint\u001b[0m\u001b[0;34m(\u001b[0m\u001b[0;34m\"Коэффициенты модели:\"\u001b[0m\u001b[0;34m,\u001b[0m \u001b[0mmodel\u001b[0m\u001b[0;34m.\u001b[0m\u001b[0mcoefficients\u001b[0m\u001b[0;34m)\u001b[0m\u001b[0;34m\u001b[0m\u001b[0;34m\u001b[0m\u001b[0m\n\u001b[1;32m      4\u001b[0m \u001b[0;34m\u001b[0m\u001b[0m\n\u001b[1;32m      5\u001b[0m \u001b[0mplt\u001b[0m\u001b[0;34m.\u001b[0m\u001b[0mplot\u001b[0m\u001b[0;34m(\u001b[0m\u001b[0msteps\u001b[0m\u001b[0;34m,\u001b[0m \u001b[0merrors\u001b[0m\u001b[0;34m)\u001b[0m\u001b[0;34m\u001b[0m\u001b[0;34m\u001b[0m\u001b[0m\n",
            "\u001b[0;32m<ipython-input-109-9e28ac445d07>\u001b[0m in \u001b[0;36mfit\u001b[0;34m(self, X, Y, alpha, accuracy, max_steps)\u001b[0m\n\u001b[1;32m     17\u001b[0m         \u001b[0;32mfor\u001b[0m \u001b[0m_\u001b[0m \u001b[0;32min\u001b[0m \u001b[0mrange\u001b[0m\u001b[0;34m(\u001b[0m\u001b[0mmax_steps\u001b[0m\u001b[0;34m)\u001b[0m\u001b[0;34m:\u001b[0m\u001b[0;34m\u001b[0m\u001b[0;34m\u001b[0m\u001b[0m\n\u001b[1;32m     18\u001b[0m             \u001b[0mdJ\u001b[0m \u001b[0;34m=\u001b[0m \u001b[0mX\u001b[0m\u001b[0;34m.\u001b[0m\u001b[0mT\u001b[0m\u001b[0;34m.\u001b[0m\u001b[0mdot\u001b[0m\u001b[0;34m(\u001b[0m\u001b[0mself\u001b[0m\u001b[0;34m.\u001b[0m\u001b[0mpredict\u001b[0m\u001b[0;34m(\u001b[0m\u001b[0mX\u001b[0m\u001b[0;34m)\u001b[0m \u001b[0;34m-\u001b[0m \u001b[0mY\u001b[0m\u001b[0;34m)\u001b[0m \u001b[0;34m/\u001b[0m \u001b[0mm\u001b[0m\u001b[0;34m\u001b[0m\u001b[0;34m\u001b[0m\u001b[0m\n\u001b[0;32m---> 19\u001b[0;31m             \u001b[0mself\u001b[0m\u001b[0;34m.\u001b[0m\u001b[0mb\u001b[0m \u001b[0;34m-=\u001b[0m \u001b[0malpha\u001b[0m \u001b[0;34m*\u001b[0m \u001b[0mdJ\u001b[0m\u001b[0;34m\u001b[0m\u001b[0;34m\u001b[0m\u001b[0m\n\u001b[0m\u001b[1;32m     20\u001b[0m             \u001b[0mnew_err\u001b[0m \u001b[0;34m=\u001b[0m \u001b[0mself\u001b[0m\u001b[0;34m.\u001b[0m\u001b[0merror\u001b[0m\u001b[0;34m(\u001b[0m\u001b[0mX\u001b[0m\u001b[0;34m,\u001b[0m \u001b[0mY\u001b[0m\u001b[0;34m)\u001b[0m\u001b[0;34m\u001b[0m\u001b[0;34m\u001b[0m\u001b[0m\n\u001b[1;32m     21\u001b[0m             \u001b[0mstep\u001b[0m \u001b[0;34m+=\u001b[0m \u001b[0;36m1\u001b[0m\u001b[0;34m\u001b[0m\u001b[0;34m\u001b[0m\u001b[0m\n",
            "\u001b[0;32m/usr/local/lib/python3.10/dist-packages/pandas/core/generic.py\u001b[0m in \u001b[0;36m__array_ufunc__\u001b[0;34m(self, ufunc, method, *inputs, **kwargs)\u001b[0m\n\u001b[1;32m   2111\u001b[0m         \u001b[0mself\u001b[0m\u001b[0;34m,\u001b[0m \u001b[0mufunc\u001b[0m\u001b[0;34m:\u001b[0m \u001b[0mnp\u001b[0m\u001b[0;34m.\u001b[0m\u001b[0mufunc\u001b[0m\u001b[0;34m,\u001b[0m \u001b[0mmethod\u001b[0m\u001b[0;34m:\u001b[0m \u001b[0mstr\u001b[0m\u001b[0;34m,\u001b[0m \u001b[0;34m*\u001b[0m\u001b[0minputs\u001b[0m\u001b[0;34m:\u001b[0m \u001b[0mAny\u001b[0m\u001b[0;34m,\u001b[0m \u001b[0;34m**\u001b[0m\u001b[0mkwargs\u001b[0m\u001b[0;34m:\u001b[0m \u001b[0mAny\u001b[0m\u001b[0;34m\u001b[0m\u001b[0;34m\u001b[0m\u001b[0m\n\u001b[1;32m   2112\u001b[0m     ):\n\u001b[0;32m-> 2113\u001b[0;31m         \u001b[0;32mreturn\u001b[0m \u001b[0marraylike\u001b[0m\u001b[0;34m.\u001b[0m\u001b[0marray_ufunc\u001b[0m\u001b[0;34m(\u001b[0m\u001b[0mself\u001b[0m\u001b[0;34m,\u001b[0m \u001b[0mufunc\u001b[0m\u001b[0;34m,\u001b[0m \u001b[0mmethod\u001b[0m\u001b[0;34m,\u001b[0m \u001b[0;34m*\u001b[0m\u001b[0minputs\u001b[0m\u001b[0;34m,\u001b[0m \u001b[0;34m**\u001b[0m\u001b[0mkwargs\u001b[0m\u001b[0;34m)\u001b[0m\u001b[0;34m\u001b[0m\u001b[0;34m\u001b[0m\u001b[0m\n\u001b[0m\u001b[1;32m   2114\u001b[0m \u001b[0;34m\u001b[0m\u001b[0m\n\u001b[1;32m   2115\u001b[0m     \u001b[0;31m# ----------------------------------------------------------------------\u001b[0m\u001b[0;34m\u001b[0m\u001b[0;34m\u001b[0m\u001b[0m\n",
            "\u001b[0;32m/usr/local/lib/python3.10/dist-packages/pandas/core/arraylike.py\u001b[0m in \u001b[0;36marray_ufunc\u001b[0;34m(self, ufunc, method, *inputs, **kwargs)\u001b[0m\n\u001b[1;32m    372\u001b[0m     \u001b[0;32mif\u001b[0m \u001b[0;34m\"out\"\u001b[0m \u001b[0;32min\u001b[0m \u001b[0mkwargs\u001b[0m\u001b[0;34m:\u001b[0m\u001b[0;34m\u001b[0m\u001b[0;34m\u001b[0m\u001b[0m\n\u001b[1;32m    373\u001b[0m         \u001b[0;31m# e.g. test_multiindex_get_loc\u001b[0m\u001b[0;34m\u001b[0m\u001b[0;34m\u001b[0m\u001b[0m\n\u001b[0;32m--> 374\u001b[0;31m         \u001b[0mresult\u001b[0m \u001b[0;34m=\u001b[0m \u001b[0mdispatch_ufunc_with_out\u001b[0m\u001b[0;34m(\u001b[0m\u001b[0mself\u001b[0m\u001b[0;34m,\u001b[0m \u001b[0mufunc\u001b[0m\u001b[0;34m,\u001b[0m \u001b[0mmethod\u001b[0m\u001b[0;34m,\u001b[0m \u001b[0;34m*\u001b[0m\u001b[0minputs\u001b[0m\u001b[0;34m,\u001b[0m \u001b[0;34m**\u001b[0m\u001b[0mkwargs\u001b[0m\u001b[0;34m)\u001b[0m\u001b[0;34m\u001b[0m\u001b[0;34m\u001b[0m\u001b[0m\n\u001b[0m\u001b[1;32m    375\u001b[0m         \u001b[0;32mreturn\u001b[0m \u001b[0mreconstruct\u001b[0m\u001b[0;34m(\u001b[0m\u001b[0mresult\u001b[0m\u001b[0;34m)\u001b[0m\u001b[0;34m\u001b[0m\u001b[0;34m\u001b[0m\u001b[0m\n\u001b[1;32m    376\u001b[0m \u001b[0;34m\u001b[0m\u001b[0m\n",
            "\u001b[0;32m/usr/local/lib/python3.10/dist-packages/pandas/core/arraylike.py\u001b[0m in \u001b[0;36mdispatch_ufunc_with_out\u001b[0;34m(self, ufunc, method, *inputs, **kwargs)\u001b[0m\n\u001b[1;32m    444\u001b[0m     \u001b[0mwhere\u001b[0m \u001b[0;34m=\u001b[0m \u001b[0mkwargs\u001b[0m\u001b[0;34m.\u001b[0m\u001b[0mpop\u001b[0m\u001b[0;34m(\u001b[0m\u001b[0;34m\"where\"\u001b[0m\u001b[0;34m,\u001b[0m \u001b[0;32mNone\u001b[0m\u001b[0;34m)\u001b[0m\u001b[0;34m\u001b[0m\u001b[0;34m\u001b[0m\u001b[0m\n\u001b[1;32m    445\u001b[0m \u001b[0;34m\u001b[0m\u001b[0m\n\u001b[0;32m--> 446\u001b[0;31m     \u001b[0mresult\u001b[0m \u001b[0;34m=\u001b[0m \u001b[0mgetattr\u001b[0m\u001b[0;34m(\u001b[0m\u001b[0mufunc\u001b[0m\u001b[0;34m,\u001b[0m \u001b[0mmethod\u001b[0m\u001b[0;34m)\u001b[0m\u001b[0;34m(\u001b[0m\u001b[0;34m*\u001b[0m\u001b[0minputs\u001b[0m\u001b[0;34m,\u001b[0m \u001b[0;34m**\u001b[0m\u001b[0mkwargs\u001b[0m\u001b[0;34m)\u001b[0m\u001b[0;34m\u001b[0m\u001b[0;34m\u001b[0m\u001b[0m\n\u001b[0m\u001b[1;32m    447\u001b[0m \u001b[0;34m\u001b[0m\u001b[0m\n\u001b[1;32m    448\u001b[0m     \u001b[0;32mif\u001b[0m \u001b[0mresult\u001b[0m \u001b[0;32mis\u001b[0m \u001b[0mNotImplemented\u001b[0m\u001b[0;34m:\u001b[0m\u001b[0;34m\u001b[0m\u001b[0;34m\u001b[0m\u001b[0m\n",
            "\u001b[0;32m/usr/local/lib/python3.10/dist-packages/pandas/core/generic.py\u001b[0m in \u001b[0;36m__array_ufunc__\u001b[0;34m(self, ufunc, method, *inputs, **kwargs)\u001b[0m\n\u001b[1;32m   2111\u001b[0m         \u001b[0mself\u001b[0m\u001b[0;34m,\u001b[0m \u001b[0mufunc\u001b[0m\u001b[0;34m:\u001b[0m \u001b[0mnp\u001b[0m\u001b[0;34m.\u001b[0m\u001b[0mufunc\u001b[0m\u001b[0;34m,\u001b[0m \u001b[0mmethod\u001b[0m\u001b[0;34m:\u001b[0m \u001b[0mstr\u001b[0m\u001b[0;34m,\u001b[0m \u001b[0;34m*\u001b[0m\u001b[0minputs\u001b[0m\u001b[0;34m:\u001b[0m \u001b[0mAny\u001b[0m\u001b[0;34m,\u001b[0m \u001b[0;34m**\u001b[0m\u001b[0mkwargs\u001b[0m\u001b[0;34m:\u001b[0m \u001b[0mAny\u001b[0m\u001b[0;34m\u001b[0m\u001b[0;34m\u001b[0m\u001b[0m\n\u001b[1;32m   2112\u001b[0m     ):\n\u001b[0;32m-> 2113\u001b[0;31m         \u001b[0;32mreturn\u001b[0m \u001b[0marraylike\u001b[0m\u001b[0;34m.\u001b[0m\u001b[0marray_ufunc\u001b[0m\u001b[0;34m(\u001b[0m\u001b[0mself\u001b[0m\u001b[0;34m,\u001b[0m \u001b[0mufunc\u001b[0m\u001b[0;34m,\u001b[0m \u001b[0mmethod\u001b[0m\u001b[0;34m,\u001b[0m \u001b[0;34m*\u001b[0m\u001b[0minputs\u001b[0m\u001b[0;34m,\u001b[0m \u001b[0;34m**\u001b[0m\u001b[0mkwargs\u001b[0m\u001b[0;34m)\u001b[0m\u001b[0;34m\u001b[0m\u001b[0;34m\u001b[0m\u001b[0m\n\u001b[0m\u001b[1;32m   2114\u001b[0m \u001b[0;34m\u001b[0m\u001b[0m\n\u001b[1;32m   2115\u001b[0m     \u001b[0;31m# ----------------------------------------------------------------------\u001b[0m\u001b[0;34m\u001b[0m\u001b[0;34m\u001b[0m\u001b[0m\n",
            "\u001b[0;32m/usr/local/lib/python3.10/dist-packages/pandas/core/arraylike.py\u001b[0m in \u001b[0;36marray_ufunc\u001b[0;34m(self, ufunc, method, *inputs, **kwargs)\u001b[0m\n\u001b[1;32m    263\u001b[0m \u001b[0;34m\u001b[0m\u001b[0m\n\u001b[1;32m    264\u001b[0m     \u001b[0;31m# for binary ops, use our custom dunder methods\u001b[0m\u001b[0;34m\u001b[0m\u001b[0;34m\u001b[0m\u001b[0m\n\u001b[0;32m--> 265\u001b[0;31m     \u001b[0mresult\u001b[0m \u001b[0;34m=\u001b[0m \u001b[0mmaybe_dispatch_ufunc_to_dunder_op\u001b[0m\u001b[0;34m(\u001b[0m\u001b[0mself\u001b[0m\u001b[0;34m,\u001b[0m \u001b[0mufunc\u001b[0m\u001b[0;34m,\u001b[0m \u001b[0mmethod\u001b[0m\u001b[0;34m,\u001b[0m \u001b[0;34m*\u001b[0m\u001b[0minputs\u001b[0m\u001b[0;34m,\u001b[0m \u001b[0;34m**\u001b[0m\u001b[0mkwargs\u001b[0m\u001b[0;34m)\u001b[0m\u001b[0;34m\u001b[0m\u001b[0;34m\u001b[0m\u001b[0m\n\u001b[0m\u001b[1;32m    266\u001b[0m     \u001b[0;32mif\u001b[0m \u001b[0mresult\u001b[0m \u001b[0;32mis\u001b[0m \u001b[0;32mnot\u001b[0m \u001b[0mNotImplemented\u001b[0m\u001b[0;34m:\u001b[0m\u001b[0;34m\u001b[0m\u001b[0;34m\u001b[0m\u001b[0m\n\u001b[1;32m    267\u001b[0m         \u001b[0;32mreturn\u001b[0m \u001b[0mresult\u001b[0m\u001b[0;34m\u001b[0m\u001b[0;34m\u001b[0m\u001b[0m\n",
            "\u001b[0;32m/usr/local/lib/python3.10/dist-packages/pandas/_libs/ops_dispatch.pyx\u001b[0m in \u001b[0;36mpandas._libs.ops_dispatch.maybe_dispatch_ufunc_to_dunder_op\u001b[0;34m()\u001b[0m\n",
            "\u001b[0;32m/usr/local/lib/python3.10/dist-packages/pandas/core/ops/common.py\u001b[0m in \u001b[0;36mnew_method\u001b[0;34m(self, other)\u001b[0m\n\u001b[1;32m     70\u001b[0m         \u001b[0mother\u001b[0m \u001b[0;34m=\u001b[0m \u001b[0mitem_from_zerodim\u001b[0m\u001b[0;34m(\u001b[0m\u001b[0mother\u001b[0m\u001b[0;34m)\u001b[0m\u001b[0;34m\u001b[0m\u001b[0;34m\u001b[0m\u001b[0m\n\u001b[1;32m     71\u001b[0m \u001b[0;34m\u001b[0m\u001b[0m\n\u001b[0;32m---> 72\u001b[0;31m         \u001b[0;32mreturn\u001b[0m \u001b[0mmethod\u001b[0m\u001b[0;34m(\u001b[0m\u001b[0mself\u001b[0m\u001b[0;34m,\u001b[0m \u001b[0mother\u001b[0m\u001b[0;34m)\u001b[0m\u001b[0;34m\u001b[0m\u001b[0;34m\u001b[0m\u001b[0m\n\u001b[0m\u001b[1;32m     73\u001b[0m \u001b[0;34m\u001b[0m\u001b[0m\n\u001b[1;32m     74\u001b[0m     \u001b[0;32mreturn\u001b[0m \u001b[0mnew_method\u001b[0m\u001b[0;34m\u001b[0m\u001b[0;34m\u001b[0m\u001b[0m\n",
            "\u001b[0;32m/usr/local/lib/python3.10/dist-packages/pandas/core/arraylike.py\u001b[0m in \u001b[0;36m__rsub__\u001b[0;34m(self, other)\u001b[0m\n\u001b[1;32m    112\u001b[0m     \u001b[0;34m@\u001b[0m\u001b[0munpack_zerodim_and_defer\u001b[0m\u001b[0;34m(\u001b[0m\u001b[0;34m\"__rsub__\"\u001b[0m\u001b[0;34m)\u001b[0m\u001b[0;34m\u001b[0m\u001b[0;34m\u001b[0m\u001b[0m\n\u001b[1;32m    113\u001b[0m     \u001b[0;32mdef\u001b[0m \u001b[0m__rsub__\u001b[0m\u001b[0;34m(\u001b[0m\u001b[0mself\u001b[0m\u001b[0;34m,\u001b[0m \u001b[0mother\u001b[0m\u001b[0;34m)\u001b[0m\u001b[0;34m:\u001b[0m\u001b[0;34m\u001b[0m\u001b[0;34m\u001b[0m\u001b[0m\n\u001b[0;32m--> 114\u001b[0;31m         \u001b[0;32mreturn\u001b[0m \u001b[0mself\u001b[0m\u001b[0;34m.\u001b[0m\u001b[0m_arith_method\u001b[0m\u001b[0;34m(\u001b[0m\u001b[0mother\u001b[0m\u001b[0;34m,\u001b[0m \u001b[0mroperator\u001b[0m\u001b[0;34m.\u001b[0m\u001b[0mrsub\u001b[0m\u001b[0;34m)\u001b[0m\u001b[0;34m\u001b[0m\u001b[0;34m\u001b[0m\u001b[0m\n\u001b[0m\u001b[1;32m    115\u001b[0m \u001b[0;34m\u001b[0m\u001b[0m\n\u001b[1;32m    116\u001b[0m     \u001b[0;34m@\u001b[0m\u001b[0munpack_zerodim_and_defer\u001b[0m\u001b[0;34m(\u001b[0m\u001b[0;34m\"__mul__\"\u001b[0m\u001b[0;34m)\u001b[0m\u001b[0;34m\u001b[0m\u001b[0;34m\u001b[0m\u001b[0m\n",
            "\u001b[0;32m/usr/local/lib/python3.10/dist-packages/pandas/core/frame.py\u001b[0m in \u001b[0;36m_arith_method\u001b[0;34m(self, other, op)\u001b[0m\n\u001b[1;32m   7590\u001b[0m         \u001b[0mother\u001b[0m \u001b[0;34m=\u001b[0m \u001b[0mops\u001b[0m\u001b[0;34m.\u001b[0m\u001b[0mmaybe_prepare_scalar_for_op\u001b[0m\u001b[0;34m(\u001b[0m\u001b[0mother\u001b[0m\u001b[0;34m,\u001b[0m \u001b[0;34m(\u001b[0m\u001b[0mself\u001b[0m\u001b[0;34m.\u001b[0m\u001b[0mshape\u001b[0m\u001b[0;34m[\u001b[0m\u001b[0maxis\u001b[0m\u001b[0;34m]\u001b[0m\u001b[0;34m,\u001b[0m\u001b[0;34m)\u001b[0m\u001b[0;34m)\u001b[0m\u001b[0;34m\u001b[0m\u001b[0;34m\u001b[0m\u001b[0m\n\u001b[1;32m   7591\u001b[0m \u001b[0;34m\u001b[0m\u001b[0m\n\u001b[0;32m-> 7592\u001b[0;31m         \u001b[0mself\u001b[0m\u001b[0;34m,\u001b[0m \u001b[0mother\u001b[0m \u001b[0;34m=\u001b[0m \u001b[0mops\u001b[0m\u001b[0;34m.\u001b[0m\u001b[0malign_method_FRAME\u001b[0m\u001b[0;34m(\u001b[0m\u001b[0mself\u001b[0m\u001b[0;34m,\u001b[0m \u001b[0mother\u001b[0m\u001b[0;34m,\u001b[0m \u001b[0maxis\u001b[0m\u001b[0;34m,\u001b[0m \u001b[0mflex\u001b[0m\u001b[0;34m=\u001b[0m\u001b[0;32mTrue\u001b[0m\u001b[0;34m,\u001b[0m \u001b[0mlevel\u001b[0m\u001b[0;34m=\u001b[0m\u001b[0;32mNone\u001b[0m\u001b[0;34m)\u001b[0m\u001b[0;34m\u001b[0m\u001b[0;34m\u001b[0m\u001b[0m\n\u001b[0m\u001b[1;32m   7593\u001b[0m \u001b[0;34m\u001b[0m\u001b[0m\n\u001b[1;32m   7594\u001b[0m         \u001b[0mnew_data\u001b[0m \u001b[0;34m=\u001b[0m \u001b[0mself\u001b[0m\u001b[0;34m.\u001b[0m\u001b[0m_dispatch_frame_op\u001b[0m\u001b[0;34m(\u001b[0m\u001b[0mother\u001b[0m\u001b[0;34m,\u001b[0m \u001b[0mop\u001b[0m\u001b[0;34m,\u001b[0m \u001b[0maxis\u001b[0m\u001b[0;34m=\u001b[0m\u001b[0maxis\u001b[0m\u001b[0;34m)\u001b[0m\u001b[0;34m\u001b[0m\u001b[0;34m\u001b[0m\u001b[0m\n",
            "\u001b[0;32m/usr/local/lib/python3.10/dist-packages/pandas/core/ops/__init__.py\u001b[0m in \u001b[0;36malign_method_FRAME\u001b[0;34m(left, right, axis, flex, level)\u001b[0m\n\u001b[1;32m    246\u001b[0m \u001b[0;34m\u001b[0m\u001b[0m\n\u001b[1;32m    247\u001b[0m         \u001b[0;32mif\u001b[0m \u001b[0mright\u001b[0m\u001b[0;34m.\u001b[0m\u001b[0mndim\u001b[0m \u001b[0;34m==\u001b[0m \u001b[0;36m1\u001b[0m\u001b[0;34m:\u001b[0m\u001b[0;34m\u001b[0m\u001b[0;34m\u001b[0m\u001b[0m\n\u001b[0;32m--> 248\u001b[0;31m             \u001b[0mright\u001b[0m \u001b[0;34m=\u001b[0m \u001b[0mto_series\u001b[0m\u001b[0;34m(\u001b[0m\u001b[0mright\u001b[0m\u001b[0;34m)\u001b[0m\u001b[0;34m\u001b[0m\u001b[0;34m\u001b[0m\u001b[0m\n\u001b[0m\u001b[1;32m    249\u001b[0m \u001b[0;34m\u001b[0m\u001b[0m\n\u001b[1;32m    250\u001b[0m         \u001b[0;32melif\u001b[0m \u001b[0mright\u001b[0m\u001b[0;34m.\u001b[0m\u001b[0mndim\u001b[0m \u001b[0;34m==\u001b[0m \u001b[0;36m2\u001b[0m\u001b[0;34m:\u001b[0m\u001b[0;34m\u001b[0m\u001b[0;34m\u001b[0m\u001b[0m\n",
            "\u001b[0;32m/usr/local/lib/python3.10/dist-packages/pandas/core/ops/__init__.py\u001b[0m in \u001b[0;36mto_series\u001b[0;34m(right)\u001b[0m\n\u001b[1;32m    237\u001b[0m         \u001b[0;32melse\u001b[0m\u001b[0;34m:\u001b[0m\u001b[0;34m\u001b[0m\u001b[0;34m\u001b[0m\u001b[0m\n\u001b[1;32m    238\u001b[0m             \u001b[0;32mif\u001b[0m \u001b[0mlen\u001b[0m\u001b[0;34m(\u001b[0m\u001b[0mleft\u001b[0m\u001b[0;34m.\u001b[0m\u001b[0mcolumns\u001b[0m\u001b[0;34m)\u001b[0m \u001b[0;34m!=\u001b[0m \u001b[0mlen\u001b[0m\u001b[0;34m(\u001b[0m\u001b[0mright\u001b[0m\u001b[0;34m)\u001b[0m\u001b[0;34m:\u001b[0m\u001b[0;34m\u001b[0m\u001b[0;34m\u001b[0m\u001b[0m\n\u001b[0;32m--> 239\u001b[0;31m                 raise ValueError(\n\u001b[0m\u001b[1;32m    240\u001b[0m                     \u001b[0mmsg\u001b[0m\u001b[0;34m.\u001b[0m\u001b[0mformat\u001b[0m\u001b[0;34m(\u001b[0m\u001b[0mreq_len\u001b[0m\u001b[0;34m=\u001b[0m\u001b[0mlen\u001b[0m\u001b[0;34m(\u001b[0m\u001b[0mleft\u001b[0m\u001b[0;34m.\u001b[0m\u001b[0mcolumns\u001b[0m\u001b[0;34m)\u001b[0m\u001b[0;34m,\u001b[0m \u001b[0mgiven_len\u001b[0m\u001b[0;34m=\u001b[0m\u001b[0mlen\u001b[0m\u001b[0;34m(\u001b[0m\u001b[0mright\u001b[0m\u001b[0;34m)\u001b[0m\u001b[0;34m)\u001b[0m\u001b[0;34m\u001b[0m\u001b[0;34m\u001b[0m\u001b[0m\n\u001b[1;32m    241\u001b[0m                 )\n",
            "\u001b[0;31mValueError\u001b[0m: Unable to coerce to Series, length must be 437: given 5"
          ]
        }
      ]
    },
    {
      "cell_type": "markdown",
      "source": [
        "Для целевой переменной и каждого из признаков постройте полиномиальную регрессию второго, третьего и десятого порядков. Сделайте вывод о значимости регрессии."
      ],
      "metadata": {
        "id": "9eudgXXONLs-"
      }
    },
    {
      "cell_type": "code",
      "source": [
        "def generate_degrees(source_data: list, degree: int):\n",
        "       return np.array([source_data**n for n in range(1, degree + 1)]).T\n",
        "generate_degrees(x[[1]],2)"
      ],
      "metadata": {
        "colab": {
          "base_uri": "https://localhost:8080/"
        },
        "id": "2uK4iXseVN0v",
        "outputId": "134ef14d-a061-4a9a-f7dd-a65d836fc53f"
      },
      "execution_count": null,
      "outputs": [
        {
          "output_type": "execute_result",
          "data": {
            "text/plain": [
              "array([[[-1.02330755e+00,  1.04715835e+00],\n",
              "        [-1.10838575e+00,  1.22851898e+00],\n",
              "        [-2.13615380e+00,  4.56315305e+00],\n",
              "        [-1.54958635e+00,  2.40121785e+00],\n",
              "        [-1.08619268e+00,  1.17981454e+00],\n",
              "        [-2.54209973e+00,  6.46227105e+00],\n",
              "        [-2.35820493e-01,  5.56113047e-02],\n",
              "        [-2.75026389e-01,  7.56395146e-02],\n",
              "        [ 3.66380165e-01,  1.34234425e-01],\n",
              "        [ 4.90892708e-01,  2.40975651e-01],\n",
              "        [-5.76717395e-02,  3.32602954e-03],\n",
              "        [ 2.26291825e+00,  5.12079900e+00],\n",
              "        [ 1.65304419e+00,  2.73255508e+00],\n",
              "        [ 3.78454105e-01,  1.43227510e-01],\n",
              "        [ 2.73692021e-01,  7.49073222e-02],\n",
              "        [-1.62593790e-01,  2.64367404e-02],\n",
              "        [-2.49339057e-01,  6.21699654e-02],\n",
              "        [-1.78268397e-01,  3.17796212e-02],\n",
              "        [-8.94080890e-01,  7.99380638e-01],\n",
              "        [ 3.81292915e-01,  1.45384287e-01],\n",
              "        [-3.84404385e-01,  1.47766731e-01],\n",
              "        [-4.71787951e-01,  2.22583871e-01],\n",
              "        [ 1.38920929e-01,  1.92990244e-02],\n",
              "        [-7.87143674e-01,  6.19595164e-01],\n",
              "        [-8.93961592e-01,  7.99167328e-01],\n",
              "        [ 1.57699822e-01,  2.48692340e-02],\n",
              "        [-2.59822993e+00,  6.75079879e+00],\n",
              "        [ 3.23789725e-01,  1.04839786e-01],\n",
              "        [ 1.78759654e+00,  3.19550138e+00],\n",
              "        [ 2.26107880e-01,  5.11247734e-02],\n",
              "        [ 1.65650045e+00,  2.74399373e+00],\n",
              "        [ 9.24176562e-02,  8.54102317e-03],\n",
              "        [ 1.04722736e+00,  1.09668515e+00],\n",
              "        [ 1.00092778e+00,  1.00185643e+00],\n",
              "        [-2.81639458e-01,  7.93207841e-02],\n",
              "        [-7.06805248e-01,  4.99573659e-01],\n",
              "        [-3.48407367e-01,  1.21387693e-01],\n",
              "        [ 6.41503526e-01,  4.11526773e-01],\n",
              "        [-8.99993552e-01,  8.09988394e-01],\n",
              "        [-1.94369121e+00,  3.77793552e+00],\n",
              "        [-1.12014261e+00,  1.25471946e+00],\n",
              "        [ 2.04613047e-01,  4.18664991e-02],\n",
              "        [-5.27149483e-01,  2.77886578e-01],\n",
              "        [ 8.50920733e-01,  7.24066093e-01],\n",
              "        [-3.14530121e-01,  9.89291970e-02],\n",
              "        [ 6.08499160e-01,  3.70271228e-01],\n",
              "        [-4.12131291e-01,  1.69852201e-01],\n",
              "        [ 2.61999357e-01,  6.86436632e-02],\n",
              "        [ 4.44621021e-01,  1.97687853e-01],\n",
              "        [-6.85772652e-01,  4.70284131e-01],\n",
              "        [-6.79452369e-01,  4.61655522e-01],\n",
              "        [ 8.39836597e-01,  7.05325509e-01],\n",
              "        [ 2.34982372e-01,  5.52167150e-02],\n",
              "        [ 3.68295270e-01,  1.35641406e-01],\n",
              "        [ 2.95471585e-01,  8.73034577e-02],\n",
              "        [-9.29452882e-02,  8.63882659e-03],\n",
              "        [-5.06645429e-01,  2.56689590e-01],\n",
              "        [ 1.38547028e+00,  1.91952789e+00],\n",
              "        [ 6.05799295e-01,  3.66992786e-01],\n",
              "        [ 7.74822664e-01,  6.00350161e-01],\n",
              "        [-1.48561054e+00,  2.20703868e+00],\n",
              "        [ 1.78404741e+00,  3.18282517e+00],\n",
              "        [ 3.81553770e-01,  1.45583280e-01],\n",
              "        [ 1.60274178e+00,  2.56878120e+00],\n",
              "        [ 3.19644421e-01,  1.02172556e-01],\n",
              "        [-1.30080272e+00,  1.69208771e+00],\n",
              "        [-1.19718648e-01,  1.43325548e-02],\n",
              "        [ 1.30255108e+00,  1.69663932e+00],\n",
              "        [ 1.03460812e+00,  1.07041395e+00],\n",
              "        [ 1.98000488e+00,  3.92041932e+00],\n",
              "        [ 9.86458008e-02,  9.73099401e-03],\n",
              "        [-5.20120356e-01,  2.70525184e-01],\n",
              "        [-7.79270549e-01,  6.07262589e-01],\n",
              "        [ 1.72749233e+00,  2.98422973e+00],\n",
              "        [ 5.97769685e-01,  3.57328596e-01],\n",
              "        [ 9.94301672e-01,  9.88635816e-01],\n",
              "        [ 1.36875392e+00,  1.87348728e+00],\n",
              "        [ 6.16868139e-01,  3.80526301e-01],\n",
              "        [-2.08644602e+00,  4.35325699e+00],\n",
              "        [ 1.85960340e+00,  3.45812480e+00],\n",
              "        [ 1.44296926e+00,  2.08216027e+00],\n",
              "        [-2.42375977e+00,  5.87461140e+00],\n",
              "        [ 1.90885691e-02,  3.64373472e-04],\n",
              "        [ 9.75269488e-01,  9.51150573e-01],\n",
              "        [ 5.08537806e-01,  2.58610700e-01],\n",
              "        [ 3.98262793e-01,  1.58613252e-01],\n",
              "        [ 5.16077236e-01,  2.66335714e-01],\n",
              "        [-6.40950166e-01,  4.10817115e-01],\n",
              "        [ 7.09524620e-01,  5.03425187e-01],\n",
              "        [ 1.34272031e+00,  1.80289782e+00],\n",
              "        [ 8.72515446e-01,  7.61283203e-01],\n",
              "        [-2.40556472e-02,  5.78674162e-04],\n",
              "        [ 7.11766174e-01,  5.06611087e-01],\n",
              "        [ 3.60583329e-01,  1.30020337e-01],\n",
              "        [-8.58389152e-01,  7.36831936e-01],\n",
              "        [-9.42189954e-01,  8.87721910e-01],\n",
              "        [-2.19109663e-01,  4.80090442e-02],\n",
              "        [-1.82331791e+00,  3.32448821e+00],\n",
              "        [ 3.22568258e-01,  1.04050281e-01],\n",
              "        [-3.61432704e-01,  1.30633600e-01],\n",
              "        [-7.81369353e-01,  6.10538065e-01],\n",
              "        [-1.42973755e+00,  2.04414946e+00],\n",
              "        [-3.97682526e-01,  1.58151392e-01],\n",
              "        [ 2.50394534e-01,  6.26974227e-02],\n",
              "        [-1.11703414e+00,  1.24776527e+00],\n",
              "        [ 3.47659223e-01,  1.20866935e-01],\n",
              "        [ 9.70693978e-01,  9.42246799e-01],\n",
              "        [-7.11878231e-01,  5.06770616e-01],\n",
              "        [ 1.15899659e+00,  1.34327309e+00],\n",
              "        [ 9.70015945e-01,  9.40930934e-01],\n",
              "        [-9.03611462e-01,  8.16513675e-01],\n",
              "        [-1.51299356e+00,  2.28914953e+00],\n",
              "        [-6.30405190e-01,  3.97410703e-01],\n",
              "        [ 8.20167342e-01,  6.72674468e-01],\n",
              "        [-3.13388579e-01,  9.82124012e-02],\n",
              "        [-1.06483843e+00,  1.13388089e+00],\n",
              "        [ 5.70382308e-01,  3.25335977e-01],\n",
              "        [ 1.52095009e+00,  2.31328919e+00],\n",
              "        [ 5.42656297e-01,  2.94475856e-01],\n",
              "        [-3.49463086e-01,  1.22124449e-01],\n",
              "        [-2.74889070e-01,  7.55640008e-02],\n",
              "        [ 8.29318910e-01,  6.87769855e-01],\n",
              "        [-2.37957776e-01,  5.66239031e-02],\n",
              "        [ 6.51709533e-02,  4.24725315e-03],\n",
              "        [-8.71563426e-02,  7.59622806e-03],\n",
              "        [-5.96308766e-01,  3.55584145e-01],\n",
              "        [-9.56847587e-01,  9.15557305e-01],\n",
              "        [-8.75300381e-02,  7.66150758e-03],\n",
              "        [-9.91824293e-01,  9.83715429e-01],\n",
              "        [-2.67770521e+00,  7.17010522e+00],\n",
              "        [ 1.02153588e+00,  1.04353556e+00],\n",
              "        [-1.00119127e+00,  1.00238396e+00],\n",
              "        [ 3.25406938e-01,  1.05889675e-01],\n",
              "        [-2.03209415e-01,  4.12940662e-02],\n",
              "        [-9.07651278e-01,  8.23830843e-01],\n",
              "        [ 1.28753451e+00,  1.65774511e+00],\n",
              "        [-8.14377844e-02,  6.63211273e-03],\n",
              "        [-2.16871506e-01,  4.70332500e-02],\n",
              "        [ 1.55736932e+00,  2.42539918e+00],\n",
              "        [ 1.99280569e+00,  3.97127451e+00],\n",
              "        [ 1.22606702e-01,  1.50324034e-02],\n",
              "        [-1.95143646e-01,  3.80810426e-02],\n",
              "        [ 1.05969473e+00,  1.12295291e+00],\n",
              "        [ 1.10857718e+00,  1.22894337e+00],\n",
              "        [-1.61427975e+00,  2.60589910e+00],\n",
              "        [-4.01075571e-01,  1.60861614e-01],\n",
              "        [-5.82584938e-02,  3.39405210e-03],\n",
              "        [ 2.35632716e+00,  5.55227769e+00],\n",
              "        [ 2.02882906e-01,  4.11614737e-02],\n",
              "        [ 1.37367675e+00,  1.88698781e+00],\n",
              "        [-3.04386323e-01,  9.26510334e-02],\n",
              "        [-4.03745406e-01,  1.63010353e-01],\n",
              "        [-5.05461797e-01,  2.55491628e-01],\n",
              "        [-2.11192740e+00,  4.46023733e+00],\n",
              "        [ 9.28967210e-01,  8.62980078e-01],\n",
              "        [ 1.19194035e+00,  1.42072179e+00],\n",
              "        [ 1.55858501e+00,  2.42918724e+00],\n",
              "        [-2.18992742e-01,  4.79578210e-02],\n",
              "        [ 7.92977236e-01,  6.28812897e-01],\n",
              "        [ 1.29975488e+00,  1.68936274e+00],\n",
              "        [-1.51645288e-01,  2.29962933e-02],\n",
              "        [-5.25083615e-01,  2.75712802e-01],\n",
              "        [ 2.29619547e+00,  5.27251362e+00],\n",
              "        [-3.29047707e-01,  1.08272393e-01],\n",
              "        [-3.49109122e-01,  1.21877179e-01],\n",
              "        [-1.00921586e+00,  1.01851666e+00],\n",
              "        [-3.85024072e-01,  1.48243536e-01],\n",
              "        [ 1.81728674e-01,  3.30253108e-02],\n",
              "        [-6.25360709e-01,  3.91076017e-01],\n",
              "        [ 1.85338434e+00,  3.43503352e+00],\n",
              "        [ 6.95402493e-02,  4.83584627e-03],\n",
              "        [ 1.06623938e-01,  1.13686641e-02],\n",
              "        [ 7.31481500e-01,  5.35065184e-01],\n",
              "        [ 5.39748738e-01,  2.91328700e-01],\n",
              "        [ 2.41873029e-01,  5.85025622e-02],\n",
              "        [-4.37972235e-01,  1.91819679e-01],\n",
              "        [-1.08713317e+00,  1.18185852e+00],\n",
              "        [ 9.05113302e-01,  8.19230089e-01],\n",
              "        [ 5.40122351e-01,  2.91732154e-01],\n",
              "        [ 6.19273765e-01,  3.83499996e-01],\n",
              "        [-7.56095969e-02,  5.71681114e-03],\n",
              "        [-6.76043982e-01,  4.57035466e-01],\n",
              "        [ 3.74991459e-01,  1.40618594e-01],\n",
              "        [ 1.34203184e-01,  1.80104946e-02],\n",
              "        [ 1.06983931e+00,  1.14455615e+00],\n",
              "        [-6.15172044e-01,  3.78436643e-01],\n",
              "        [-6.06160672e-01,  3.67430761e-01],\n",
              "        [-4.99698566e-01,  2.49698657e-01],\n",
              "        [-1.80262927e+00,  3.24947228e+00],\n",
              "        [ 1.84689324e-01,  3.41101463e-02],\n",
              "        [ 3.93198603e-01,  1.54605142e-01],\n",
              "        [ 8.21915244e-01,  6.75544668e-01],\n",
              "        [ 5.32711143e-01,  2.83781162e-01],\n",
              "        [ 8.88118446e-01,  7.88754375e-01],\n",
              "        [-5.82783535e-01,  3.39636648e-01],\n",
              "        [-4.43869615e-01,  1.97020235e-01],\n",
              "        [ 1.25000459e+00,  1.56251148e+00],\n",
              "        [ 1.22990742e-01,  1.51267227e-02],\n",
              "        [-7.71262710e-01,  5.94846168e-01],\n",
              "        [-1.44943432e+00,  2.10085985e+00],\n",
              "        [-2.97890218e-02,  8.87385818e-04],\n",
              "        [-1.44908072e+00,  2.09983494e+00],\n",
              "        [ 1.07735130e+00,  1.16068583e+00],\n",
              "        [ 2.76091276e-01,  7.62263929e-02],\n",
              "        [ 1.72073782e+00,  2.96093866e+00],\n",
              "        [-9.01290131e-01,  8.12323900e-01],\n",
              "        [ 6.09011024e-02,  3.70894427e-03],\n",
              "        [ 4.66706345e-01,  2.17814813e-01],\n",
              "        [ 1.03535398e+00,  1.07195786e+00],\n",
              "        [-8.14203094e-01,  6.62926678e-01],\n",
              "        [-1.28726280e-02,  1.65704552e-04],\n",
              "        [ 2.79464403e-01,  7.81003523e-02],\n",
              "        [ 6.45850569e-01,  4.17122957e-01],\n",
              "        [ 4.89682134e-01,  2.39788592e-01],\n",
              "        [ 7.41958404e-01,  5.50502273e-01],\n",
              "        [-9.53422116e-01,  9.09013732e-01],\n",
              "        [ 9.03810545e-04,  8.16873501e-07],\n",
              "        [ 1.70489894e+00,  2.90668039e+00],\n",
              "        [-6.36043344e-01,  4.04551136e-01],\n",
              "        [ 3.76870548e-01,  1.42031410e-01],\n",
              "        [-3.81104011e-01,  1.45240267e-01],\n",
              "        [ 6.01875178e-01,  3.62253730e-01],\n",
              "        [ 2.08418998e+00,  4.34384785e+00],\n",
              "        [ 8.25394330e-01,  6.81275799e-01],\n",
              "        [-5.72988549e-01,  3.28315877e-01],\n",
              "        [-7.65955095e-01,  5.86687207e-01],\n",
              "        [-1.50595204e+00,  2.26789154e+00],\n",
              "        [-7.71089354e-01,  5.94578792e-01],\n",
              "        [ 8.52304789e-01,  7.26423453e-01],\n",
              "        [-1.89321615e-01,  3.58426738e-02],\n",
              "        [-5.67912734e-01,  3.22524874e-01],\n",
              "        [ 1.56315021e-01,  2.44343857e-02],\n",
              "        [ 1.64061564e+00,  2.69161968e+00],\n",
              "        [ 3.58354083e-02,  1.28417649e-03],\n",
              "        [-1.12565462e+00,  1.26709833e+00],\n",
              "        [ 6.56561173e-02,  4.31072574e-03],\n",
              "        [-1.72373589e-01,  2.97126542e-02],\n",
              "        [-1.10963852e+00,  1.23129765e+00],\n",
              "        [ 1.96569027e+00,  3.86393824e+00],\n",
              "        [ 7.70846627e-01,  5.94204522e-01],\n",
              "        [ 1.06365697e-01,  1.13136616e-02],\n",
              "        [ 4.85936106e-01,  2.36133900e-01],\n",
              "        [-4.61546450e-01,  2.13025125e-01],\n",
              "        [-4.27686814e-01,  1.82916011e-01],\n",
              "        [-8.18561765e-01,  6.70043364e-01],\n",
              "        [-6.10567075e-01,  3.72792154e-01],\n",
              "        [ 5.96360213e-01,  3.55645504e-01],\n",
              "        [ 3.69793706e-01,  1.36747385e-01],\n",
              "        [ 5.87555570e-01,  3.45221548e-01],\n",
              "        [ 9.96941604e-03,  9.93892561e-05],\n",
              "        [ 5.52999617e-02,  3.05808576e-03],\n",
              "        [ 3.15568349e-01,  9.95833828e-02],\n",
              "        [ 1.30088436e+00,  1.69230011e+00],\n",
              "        [-5.70459265e-01,  3.25423773e-01],\n",
              "        [ 6.36641916e-01,  4.05312930e-01],\n",
              "        [-1.26729030e+00,  1.60602470e+00],\n",
              "        [-6.24078473e-01,  3.89473941e-01],\n",
              "        [-1.76225928e+00,  3.10555778e+00],\n",
              "        [ 9.97920298e-01,  9.95844922e-01],\n",
              "        [ 6.96634972e-02,  4.85300284e-03],\n",
              "        [ 1.57121683e+00,  2.46872232e+00],\n",
              "        [ 2.64640003e+00,  7.00343311e+00],\n",
              "        [-1.88157350e+00,  3.54031884e+00],\n",
              "        [-7.11140232e-01,  5.05720430e-01],\n",
              "        [-1.75998461e-01,  3.09754583e-02],\n",
              "        [ 1.32250614e+00,  1.74902248e+00],\n",
              "        [ 7.42118238e-01,  5.50739479e-01],\n",
              "        [ 6.69847199e-01,  4.48695270e-01],\n",
              "        [-8.89886380e-01,  7.91897770e-01],\n",
              "        [-4.63401346e-01,  2.14740808e-01],\n",
              "        [ 2.53797331e-01,  6.44130854e-02],\n",
              "        [ 7.47929643e-01,  5.59398751e-01],\n",
              "        [-9.42376332e-01,  8.88073151e-01],\n",
              "        [ 3.97435601e-01,  1.57955057e-01],\n",
              "        [-5.29937793e-01,  2.80834064e-01],\n",
              "        [-6.24992209e-01,  3.90615261e-01],\n",
              "        [-5.23004153e-01,  2.73533344e-01],\n",
              "        [-8.73623199e-01,  7.63217494e-01],\n",
              "        [-6.50681987e-01,  4.23387048e-01],\n",
              "        [-1.49781332e+00,  2.24344475e+00],\n",
              "        [-3.65435967e-01,  1.33543446e-01],\n",
              "        [ 1.98792434e+00,  3.95184318e+00],\n",
              "        [-1.62819628e-01,  2.65102312e-02],\n",
              "        [-5.81008769e-01,  3.37571190e-01],\n",
              "        [ 2.78564878e-01,  7.75983915e-02],\n",
              "        [-1.25397749e-01,  1.57245956e-02],\n",
              "        [-9.07180711e-01,  8.22976843e-01],\n",
              "        [-5.43318369e-01,  2.95194850e-01],\n",
              "        [ 6.00142510e-01,  3.60171032e-01],\n",
              "        [ 1.12675119e+00,  1.26956823e+00],\n",
              "        [-1.57931717e-01,  2.49424273e-02],\n",
              "        [-1.98977352e+00,  3.95919864e+00],\n",
              "        [-1.33883946e+00,  1.79249109e+00],\n",
              "        [ 9.37639008e-02,  8.79166910e-03],\n",
              "        [ 3.18165944e-01,  1.01229568e-01],\n",
              "        [-5.04672147e-01,  2.54693976e-01],\n",
              "        [-1.80843814e+00,  3.27044851e+00],\n",
              "        [-3.23323180e-01,  1.04537879e-01],\n",
              "        [-6.85828252e-01,  4.70360391e-01],\n",
              "        [-6.54375917e-01,  4.28207840e-01],\n",
              "        [ 1.48329542e+00,  2.20016531e+00],\n",
              "        [ 1.30176035e+00,  1.69458001e+00],\n",
              "        [-3.33833542e-01,  1.11444834e-01],\n",
              "        [-2.39140250e-01,  5.71880591e-02],\n",
              "        [ 7.74293381e-01,  5.99530239e-01],\n",
              "        [-1.16818803e-01,  1.36466329e-02],\n",
              "        [ 1.80099034e-01,  3.24356622e-02],\n",
              "        [-1.43031115e-02,  2.04579000e-04],\n",
              "        [ 1.60691249e+00,  2.58216774e+00],\n",
              "        [-8.72484546e-01,  7.61229284e-01],\n",
              "        [ 6.14938727e-01,  3.78149638e-01],\n",
              "        [-5.26231540e-01,  2.76919633e-01],\n",
              "        [ 4.68726910e-01,  2.19704916e-01],\n",
              "        [ 9.84639089e-01,  9.69514136e-01],\n",
              "        [ 9.14594184e-01,  8.36482521e-01],\n",
              "        [-6.61406904e-01,  4.37459093e-01],\n",
              "        [ 1.23498450e+00,  1.52518672e+00],\n",
              "        [-3.65803758e-02,  1.33812389e-03],\n",
              "        [-5.25768590e-01,  2.76432610e-01],\n",
              "        [ 9.23905824e-01,  8.53601972e-01],\n",
              "        [-9.42990430e-01,  8.89230952e-01],\n",
              "        [-4.98495565e-01,  2.48497829e-01],\n",
              "        [-6.18109898e-01,  3.82059846e-01],\n",
              "        [-8.91206779e-01,  7.94249523e-01],\n",
              "        [ 7.13265374e-01,  5.08747494e-01],\n",
              "        [ 3.37473363e-01,  1.13888270e-01],\n",
              "        [-7.35750122e-01,  5.41328242e-01],\n",
              "        [-1.44351399e+00,  2.08373263e+00],\n",
              "        [-1.46969614e+00,  2.16000675e+00],\n",
              "        [-2.27429240e-01,  5.17240593e-02],\n",
              "        [-1.47736675e-01,  2.18261251e-02],\n",
              "        [ 1.04885172e+00,  1.10008992e+00],\n",
              "        [-1.11830713e+00,  1.25061083e+00],\n",
              "        [-2.83806849e-01,  8.05463276e-02],\n",
              "        [-8.37332074e-01,  7.01125002e-01],\n",
              "        [ 1.01978371e+00,  1.03995882e+00],\n",
              "        [-5.97581419e-01,  3.57103552e-01],\n",
              "        [ 1.65691410e+00,  2.74536435e+00],\n",
              "        [-5.75601029e-01,  3.31316545e-01],\n",
              "        [-5.42208597e-01,  2.93990162e-01],\n",
              "        [ 7.18658066e-01,  5.16469415e-01],\n",
              "        [ 6.03773980e-01,  3.64543019e-01],\n",
              "        [-9.98319324e-01,  9.96641472e-01],\n",
              "        [ 3.62158120e-01,  1.31158504e-01],\n",
              "        [-2.51438398e+00,  6.32212682e+00],\n",
              "        [-1.23564694e+00,  1.52682336e+00],\n",
              "        [ 1.95750973e-01,  3.83184433e-02],\n",
              "        [-5.60324887e-01,  3.13963979e-01],\n",
              "        [ 1.37885317e+00,  1.90123607e+00],\n",
              "        [ 1.25536909e+00,  1.57595156e+00],\n",
              "        [-1.83931986e-02,  3.38309756e-04],\n",
              "        [-7.02468341e-01,  4.93461770e-01],\n",
              "        [ 2.33546268e-01,  5.45438593e-02],\n",
              "        [-3.85430008e-01,  1.48556291e-01],\n",
              "        [ 4.26698225e-01,  1.82071375e-01],\n",
              "        [ 1.56293088e+00,  2.44275295e+00],\n",
              "        [ 5.64241772e-01,  3.18368777e-01],\n",
              "        [ 2.71117813e-01,  7.35048683e-02],\n",
              "        [-1.78006831e+00,  3.16864319e+00],\n",
              "        [-1.48083954e+00,  2.19288575e+00],\n",
              "        [-1.06654840e+00,  1.13752548e+00],\n",
              "        [-2.66286530e-01,  7.09085163e-02],\n",
              "        [-9.29766462e-01,  8.64465675e-01],\n",
              "        [ 1.24437125e+00,  1.54845981e+00],\n",
              "        [-1.68255257e+00,  2.83098316e+00],\n",
              "        [ 1.79748765e-01,  3.23096185e-02],\n",
              "        [-8.75637579e-01,  7.66741169e-01],\n",
              "        [ 1.19148260e+00,  1.41963080e+00],\n",
              "        [ 6.07387091e-01,  3.68919078e-01],\n",
              "        [-1.16779138e+00,  1.36373670e+00],\n",
              "        [ 1.48779624e-01,  2.21353764e-02],\n",
              "        [-1.31879135e+00,  1.73921063e+00],\n",
              "        [ 1.17798381e+00,  1.38764587e+00],\n",
              "        [-2.69885902e-01,  7.28384002e-02],\n",
              "        [ 1.21722854e+00,  1.48164531e+00],\n",
              "        [-4.89203278e-01,  2.39319848e-01],\n",
              "        [-2.15799571e-01,  4.65694547e-02],\n",
              "        [-7.76787360e-02,  6.03398602e-03],\n",
              "        [ 1.26633117e+00,  1.60359463e+00],\n",
              "        [-9.12588052e-01,  8.32816952e-01],\n",
              "        [-4.49110907e-02,  2.01700607e-03],\n",
              "        [ 3.09989384e-01,  9.60934181e-02],\n",
              "        [ 2.35258034e-01,  5.53463425e-02],\n",
              "        [ 7.44108850e-01,  5.53697981e-01],\n",
              "        [ 2.48116251e+00,  6.15616739e+00],\n",
              "        [-1.91267271e+00,  3.65831689e+00],\n",
              "        [-2.07227860e-01,  4.29433861e-02],\n",
              "        [-5.32777140e-01,  2.83851481e-01],\n",
              "        [-6.00047144e-01,  3.60056575e-01],\n",
              "        [ 6.05053475e-01,  3.66089707e-01],\n",
              "        [ 5.47792234e-01,  3.00076332e-01],\n",
              "        [ 1.91857008e-01,  3.68091117e-02],\n",
              "        [-1.78066961e+00,  3.17078425e+00],\n",
              "        [-2.58766971e-01,  6.69603450e-02],\n",
              "        [ 5.75311182e-01,  3.30982956e-01],\n",
              "        [ 1.44099776e+00,  2.07647455e+00],\n",
              "        [ 7.58289544e-01,  5.75003033e-01],\n",
              "        [ 1.68599066e+00,  2.84256452e+00],\n",
              "        [ 1.64946105e-01,  2.72072175e-02],\n",
              "        [ 7.09755817e-01,  5.03753319e-01],\n",
              "        [-3.47768013e-01,  1.20942591e-01],\n",
              "        [-7.64351660e-01,  5.84233460e-01],\n",
              "        [ 4.05565902e-01,  1.64483701e-01],\n",
              "        [ 1.15371866e+00,  1.33106675e+00],\n",
              "        [-2.98852840e-01,  8.93130199e-02],\n",
              "        [ 4.92213016e-01,  2.42273653e-01],\n",
              "        [-4.29409073e-01,  1.84392152e-01],\n",
              "        [ 2.71460211e-01,  7.36906463e-02],\n",
              "        [ 4.91418534e-01,  2.41492175e-01],\n",
              "        [-8.60839534e-01,  7.41044703e-01],\n",
              "        [ 1.91879260e+00,  3.68176503e+00],\n",
              "        [ 1.24508819e+00,  1.55024461e+00],\n",
              "        [-4.82214028e-01,  2.32530369e-01],\n",
              "        [ 1.43396872e-01,  2.05626628e-02],\n",
              "        [ 1.05655176e-02,  1.11630162e-04],\n",
              "        [ 2.11977815e-02,  4.49345941e-04],\n",
              "        [-1.33449309e+00,  1.78087180e+00],\n",
              "        [ 9.20681036e-01,  8.47653570e-01],\n",
              "        [ 1.31530920e+00,  1.73003830e+00],\n",
              "        [ 1.47017302e-01,  2.16140870e-02],\n",
              "        [-8.12467222e-01,  6.60102986e-01],\n",
              "        [ 5.57997743e-01,  3.11361481e-01],\n",
              "        [ 9.26025634e-01,  8.57523476e-01],\n",
              "        [ 1.79683776e+00,  3.22862592e+00],\n",
              "        [ 3.74089074e-01,  1.39942636e-01],\n",
              "        [ 2.91885787e-02,  8.51973124e-04],\n",
              "        [-2.83329421e+00,  8.02755609e+00],\n",
              "        [ 5.68565340e-01,  3.23266545e-01],\n",
              "        [-5.77674940e-01,  3.33708336e-01],\n",
              "        [-2.33911334e+00,  5.47145123e+00],\n",
              "        [ 1.18274308e+00,  1.39888119e+00],\n",
              "        [ 1.43567503e+00,  2.06116278e+00],\n",
              "        [ 3.45084618e-01,  1.19083394e-01],\n",
              "        [ 1.15444593e+00,  1.33274540e+00],\n",
              "        [-5.76409045e-01,  3.32247387e-01],\n",
              "        [ 1.89570972e-01,  3.59371535e-02],\n",
              "        [-1.71930334e+00,  2.95600397e+00]]])"
            ]
          },
          "metadata": {},
          "execution_count": 269
        }
      ]
    },
    {
      "cell_type": "code",
      "source": [
        "def generate_degrees(source_data: list, degree: int):\n",
        "       return np.array([source_data**n for n in range(1, degree + 1)]).T\n",
        "generate_degrees(x[[1]],3)"
      ],
      "metadata": {
        "colab": {
          "base_uri": "https://localhost:8080/"
        },
        "id": "-atC2lTBlzLq",
        "outputId": "c73073f9-8017-47fe-f547-a26ea078dde5"
      },
      "execution_count": null,
      "outputs": [
        {
          "output_type": "execute_result",
          "data": {
            "text/plain": [
              "array([[[-1.02330755e+00,  1.04715835e+00, -1.07156505e+00],\n",
              "        [-1.10838575e+00,  1.22851898e+00, -1.36167294e+00],\n",
              "        [-2.13615380e+00,  4.56315305e+00, -9.74759671e+00],\n",
              "        ...,\n",
              "        [-5.76409045e-01,  3.32247387e-01, -1.91510399e-01],\n",
              "        [ 1.89570972e-01,  3.59371535e-02,  6.81264113e-03],\n",
              "        [-1.71930334e+00,  2.95600397e+00, -5.08226749e+00]]])"
            ]
          },
          "metadata": {},
          "execution_count": 270
        }
      ]
    },
    {
      "cell_type": "code",
      "source": [
        "def generate_degrees(source_data: list, degree: int):\n",
        "       return np.array([source_data**n for n in range(1, degree + 1)]).T\n",
        "generate_degrees(x[[1]],10)"
      ],
      "metadata": {
        "colab": {
          "base_uri": "https://localhost:8080/"
        },
        "id": "d_5hG7ocl3yT",
        "outputId": "22180ad0-dcce-415f-cb25-afa3e0a86885"
      },
      "execution_count": null,
      "outputs": [
        {
          "output_type": "execute_result",
          "data": {
            "text/plain": [
              "array([[[-1.02330755e+00,  1.04715835e+00, -1.07156505e+00, ...,\n",
              "          1.20240132e+00, -1.23042635e+00,  1.25910458e+00],\n",
              "        [-1.10838575e+00,  1.22851898e+00, -1.36167294e+00, ...,\n",
              "          2.27786239e+00, -2.52475022e+00,  2.79839718e+00],\n",
              "        [-2.13615380e+00,  4.56315305e+00, -9.74759671e+00, ...,\n",
              "          4.33570915e+02, -9.26174156e+02,  1.97845044e+03],\n",
              "        ...,\n",
              "        [-5.76409045e-01,  3.32247387e-01, -1.91510399e-01, ...,\n",
              "          1.21855826e-02, -7.02388003e-03,  4.04862798e-03],\n",
              "        [ 1.89570972e-01,  3.59371535e-02,  6.81264113e-03, ...,\n",
              "          1.66791802e-06,  3.16188840e-07,  5.99402258e-08],\n",
              "        [-1.71930334e+00,  2.95600397e+00, -5.08226749e+00, ...,\n",
              "          7.63519355e+01, -1.31272138e+02,  2.25696624e+02]]])"
            ]
          },
          "metadata": {},
          "execution_count": 271
        }
      ]
    },
    {
      "cell_type": "code",
      "source": [
        "np.polyfit(x[1], y, 3)"
      ],
      "metadata": {
        "colab": {
          "base_uri": "https://localhost:8080/"
        },
        "id": "XVAupxH-Wqbm",
        "outputId": "e12ecbf1-a564-4981-ce16-6b8afc5fa145"
      },
      "execution_count": null,
      "outputs": [
        {
          "output_type": "execute_result",
          "data": {
            "text/plain": [
              "array([[-0.24175132],\n",
              "       [ 7.12088562],\n",
              "       [46.71200693],\n",
              "       [ 5.43573566]])"
            ]
          },
          "metadata": {},
          "execution_count": 138
        }
      ]
    },
    {
      "cell_type": "code",
      "source": [
        "np.polyfit(x[1], y, 2)"
      ],
      "metadata": {
        "colab": {
          "base_uri": "https://localhost:8080/"
        },
        "id": "DLx0JqLcmDRN",
        "outputId": "b68373f0-c452-4b11-fbd6-9ba78cb8e6da"
      },
      "execution_count": null,
      "outputs": [
        {
          "output_type": "execute_result",
          "data": {
            "text/plain": [
              "array([[ 7.19827831],\n",
              "       [46.03318008],\n",
              "       [ 5.38366731]])"
            ]
          },
          "metadata": {},
          "execution_count": 272
        }
      ]
    },
    {
      "cell_type": "code",
      "source": [
        "np.polyfit(x[1], y, 10)"
      ],
      "metadata": {
        "colab": {
          "base_uri": "https://localhost:8080/"
        },
        "id": "-MRGB88JmFGa",
        "outputId": "c28e45a6-83c3-4a9a-9654-6d82fe942232"
      },
      "execution_count": null,
      "outputs": [
        {
          "output_type": "execute_result",
          "data": {
            "text/plain": [
              "array([[  0.09830788],\n",
              "       [ -0.21676212],\n",
              "       [ -2.5057122 ],\n",
              "       [  3.11152195],\n",
              "       [ 16.91523419],\n",
              "       [-17.39217541],\n",
              "       [-30.79803503],\n",
              "       [ 41.54113547],\n",
              "       [  3.12976528],\n",
              "       [ 20.6732917 ],\n",
              "       [ 12.48511149]])"
            ]
          },
          "metadata": {},
          "execution_count": 273
        }
      ]
    },
    {
      "cell_type": "code",
      "source": [
        "\n",
        "def polyfit(x, y, degree):\n",
        " results = {}\n",
        " coeffs = np.polyfit(x, y, degree)\n",
        " p = np.poly1d(coeffs)\n",
        " #calculate r-squared\n",
        " yhat = p(x)\n",
        " ybar = np.sum(y)/len(y)\n",
        " ssreg = np.sum((yhat-ybar)\\*\\*2)\n",
        " sstot = np.sum((y - ybar)\\*\\*2)\n",
        " results['r_squared'] = ssreg / sstot\n",
        "\n",
        " return results\n",
        "\n",
        "#find r-squared of polynomial model with degree = 3\n",
        "polyfit(x[1], y, 3)"
      ],
      "metadata": {
        "colab": {
          "base_uri": "https://localhost:8080/",
          "height": 140
        },
        "id": "wNy7PTg3V7Ce",
        "outputId": "a96e3a39-a14c-4d9c-87ee-95f1571249e8"
      },
      "execution_count": null,
      "outputs": [
        {
          "output_type": "error",
          "ename": "SyntaxError",
          "evalue": "ignored",
          "traceback": [
            "\u001b[0;36m  File \u001b[0;32m\"<ipython-input-120-dcebb8483231>\"\u001b[0;36m, line \u001b[0;32m8\u001b[0m\n\u001b[0;31m    ssreg = np.sum((yhat-ybar)\\*\\*2)\u001b[0m\n\u001b[0m                               ^\u001b[0m\n\u001b[0;31mSyntaxError\u001b[0m\u001b[0;31m:\u001b[0m unexpected character after line continuation character\n"
          ]
        }
      ]
    },
    {
      "cell_type": "code",
      "source": [
        "x1=x[1]\n",
        "x1= x1.values.reshape(-1, 1)\n",
        "x1"
      ],
      "metadata": {
        "colab": {
          "base_uri": "https://localhost:8080/"
        },
        "id": "SW1mgJUJZsw8",
        "outputId": "39b29682-0369-4418-bbca-3b44338d354a"
      },
      "execution_count": null,
      "outputs": [
        {
          "output_type": "execute_result",
          "data": {
            "text/plain": [
              "array([[-1.02330755e+00],\n",
              "       [-1.10838575e+00],\n",
              "       [-2.13615380e+00],\n",
              "       [-1.54958635e+00],\n",
              "       [-1.08619268e+00],\n",
              "       [-2.54209973e+00],\n",
              "       [-2.35820493e-01],\n",
              "       [-2.75026389e-01],\n",
              "       [ 3.66380165e-01],\n",
              "       [ 4.90892708e-01],\n",
              "       [-5.76717395e-02],\n",
              "       [ 2.26291825e+00],\n",
              "       [ 1.65304419e+00],\n",
              "       [ 3.78454105e-01],\n",
              "       [ 2.73692021e-01],\n",
              "       [-1.62593790e-01],\n",
              "       [-2.49339057e-01],\n",
              "       [-1.78268397e-01],\n",
              "       [-8.94080890e-01],\n",
              "       [ 3.81292915e-01],\n",
              "       [-3.84404385e-01],\n",
              "       [-4.71787951e-01],\n",
              "       [ 1.38920929e-01],\n",
              "       [-7.87143674e-01],\n",
              "       [-8.93961592e-01],\n",
              "       [ 1.57699822e-01],\n",
              "       [-2.59822993e+00],\n",
              "       [ 3.23789725e-01],\n",
              "       [ 1.78759654e+00],\n",
              "       [ 2.26107880e-01],\n",
              "       [ 1.65650045e+00],\n",
              "       [ 9.24176562e-02],\n",
              "       [ 1.04722736e+00],\n",
              "       [ 1.00092778e+00],\n",
              "       [-2.81639458e-01],\n",
              "       [-7.06805248e-01],\n",
              "       [-3.48407367e-01],\n",
              "       [ 6.41503526e-01],\n",
              "       [-8.99993552e-01],\n",
              "       [-1.94369121e+00],\n",
              "       [-1.12014261e+00],\n",
              "       [ 2.04613047e-01],\n",
              "       [-5.27149483e-01],\n",
              "       [ 8.50920733e-01],\n",
              "       [-3.14530121e-01],\n",
              "       [ 6.08499160e-01],\n",
              "       [-4.12131291e-01],\n",
              "       [ 2.61999357e-01],\n",
              "       [ 4.44621021e-01],\n",
              "       [-6.85772652e-01],\n",
              "       [-6.79452369e-01],\n",
              "       [ 8.39836597e-01],\n",
              "       [ 2.34982372e-01],\n",
              "       [ 3.68295270e-01],\n",
              "       [ 2.95471585e-01],\n",
              "       [-9.29452882e-02],\n",
              "       [-5.06645429e-01],\n",
              "       [ 1.38547028e+00],\n",
              "       [ 6.05799295e-01],\n",
              "       [ 7.74822664e-01],\n",
              "       [-1.48561054e+00],\n",
              "       [ 1.78404741e+00],\n",
              "       [ 3.81553770e-01],\n",
              "       [ 1.60274178e+00],\n",
              "       [ 3.19644421e-01],\n",
              "       [-1.30080272e+00],\n",
              "       [-1.19718648e-01],\n",
              "       [ 1.30255108e+00],\n",
              "       [ 1.03460812e+00],\n",
              "       [ 1.98000488e+00],\n",
              "       [ 9.86458008e-02],\n",
              "       [-5.20120356e-01],\n",
              "       [-7.79270549e-01],\n",
              "       [ 1.72749233e+00],\n",
              "       [ 5.97769685e-01],\n",
              "       [ 9.94301672e-01],\n",
              "       [ 1.36875392e+00],\n",
              "       [ 6.16868139e-01],\n",
              "       [-2.08644602e+00],\n",
              "       [ 1.85960340e+00],\n",
              "       [ 1.44296926e+00],\n",
              "       [-2.42375977e+00],\n",
              "       [ 1.90885691e-02],\n",
              "       [ 9.75269488e-01],\n",
              "       [ 5.08537806e-01],\n",
              "       [ 3.98262793e-01],\n",
              "       [ 5.16077236e-01],\n",
              "       [-6.40950166e-01],\n",
              "       [ 7.09524620e-01],\n",
              "       [ 1.34272031e+00],\n",
              "       [ 8.72515446e-01],\n",
              "       [-2.40556472e-02],\n",
              "       [ 7.11766174e-01],\n",
              "       [ 3.60583329e-01],\n",
              "       [-8.58389152e-01],\n",
              "       [-9.42189954e-01],\n",
              "       [-2.19109663e-01],\n",
              "       [-1.82331791e+00],\n",
              "       [ 3.22568258e-01],\n",
              "       [-3.61432704e-01],\n",
              "       [-7.81369353e-01],\n",
              "       [-1.42973755e+00],\n",
              "       [-3.97682526e-01],\n",
              "       [ 2.50394534e-01],\n",
              "       [-1.11703414e+00],\n",
              "       [ 3.47659223e-01],\n",
              "       [ 9.70693978e-01],\n",
              "       [-7.11878231e-01],\n",
              "       [ 1.15899659e+00],\n",
              "       [ 9.70015945e-01],\n",
              "       [-9.03611462e-01],\n",
              "       [-1.51299356e+00],\n",
              "       [-6.30405190e-01],\n",
              "       [ 8.20167342e-01],\n",
              "       [-3.13388579e-01],\n",
              "       [-1.06483843e+00],\n",
              "       [ 5.70382308e-01],\n",
              "       [ 1.52095009e+00],\n",
              "       [ 5.42656297e-01],\n",
              "       [-3.49463086e-01],\n",
              "       [-2.74889070e-01],\n",
              "       [ 8.29318910e-01],\n",
              "       [-2.37957776e-01],\n",
              "       [ 6.51709533e-02],\n",
              "       [-8.71563426e-02],\n",
              "       [-5.96308766e-01],\n",
              "       [-9.56847587e-01],\n",
              "       [-8.75300381e-02],\n",
              "       [-9.91824293e-01],\n",
              "       [-2.67770521e+00],\n",
              "       [ 1.02153588e+00],\n",
              "       [-1.00119127e+00],\n",
              "       [ 3.25406938e-01],\n",
              "       [-2.03209415e-01],\n",
              "       [-9.07651278e-01],\n",
              "       [ 1.28753451e+00],\n",
              "       [-8.14377844e-02],\n",
              "       [-2.16871506e-01],\n",
              "       [ 1.55736932e+00],\n",
              "       [ 1.99280569e+00],\n",
              "       [ 1.22606702e-01],\n",
              "       [-1.95143646e-01],\n",
              "       [ 1.05969473e+00],\n",
              "       [ 1.10857718e+00],\n",
              "       [-1.61427975e+00],\n",
              "       [-4.01075571e-01],\n",
              "       [-5.82584938e-02],\n",
              "       [ 2.35632716e+00],\n",
              "       [ 2.02882906e-01],\n",
              "       [ 1.37367675e+00],\n",
              "       [-3.04386323e-01],\n",
              "       [-4.03745406e-01],\n",
              "       [-5.05461797e-01],\n",
              "       [-2.11192740e+00],\n",
              "       [ 9.28967210e-01],\n",
              "       [ 1.19194035e+00],\n",
              "       [ 1.55858501e+00],\n",
              "       [-2.18992742e-01],\n",
              "       [ 7.92977236e-01],\n",
              "       [ 1.29975488e+00],\n",
              "       [-1.51645288e-01],\n",
              "       [-5.25083615e-01],\n",
              "       [ 2.29619547e+00],\n",
              "       [-3.29047707e-01],\n",
              "       [-3.49109122e-01],\n",
              "       [-1.00921586e+00],\n",
              "       [-3.85024072e-01],\n",
              "       [ 1.81728674e-01],\n",
              "       [-6.25360709e-01],\n",
              "       [ 1.85338434e+00],\n",
              "       [ 6.95402493e-02],\n",
              "       [ 1.06623938e-01],\n",
              "       [ 7.31481500e-01],\n",
              "       [ 5.39748738e-01],\n",
              "       [ 2.41873029e-01],\n",
              "       [-4.37972235e-01],\n",
              "       [-1.08713317e+00],\n",
              "       [ 9.05113302e-01],\n",
              "       [ 5.40122351e-01],\n",
              "       [ 6.19273765e-01],\n",
              "       [-7.56095969e-02],\n",
              "       [-6.76043982e-01],\n",
              "       [ 3.74991459e-01],\n",
              "       [ 1.34203184e-01],\n",
              "       [ 1.06983931e+00],\n",
              "       [-6.15172044e-01],\n",
              "       [-6.06160672e-01],\n",
              "       [-4.99698566e-01],\n",
              "       [-1.80262927e+00],\n",
              "       [ 1.84689324e-01],\n",
              "       [ 3.93198603e-01],\n",
              "       [ 8.21915244e-01],\n",
              "       [ 5.32711143e-01],\n",
              "       [ 8.88118446e-01],\n",
              "       [-5.82783535e-01],\n",
              "       [-4.43869615e-01],\n",
              "       [ 1.25000459e+00],\n",
              "       [ 1.22990742e-01],\n",
              "       [-7.71262710e-01],\n",
              "       [-1.44943432e+00],\n",
              "       [-2.97890218e-02],\n",
              "       [-1.44908072e+00],\n",
              "       [ 1.07735130e+00],\n",
              "       [ 2.76091276e-01],\n",
              "       [ 1.72073782e+00],\n",
              "       [-9.01290131e-01],\n",
              "       [ 6.09011024e-02],\n",
              "       [ 4.66706345e-01],\n",
              "       [ 1.03535398e+00],\n",
              "       [-8.14203094e-01],\n",
              "       [-1.28726280e-02],\n",
              "       [ 2.79464403e-01],\n",
              "       [ 6.45850569e-01],\n",
              "       [ 4.89682134e-01],\n",
              "       [ 7.41958404e-01],\n",
              "       [-9.53422116e-01],\n",
              "       [ 9.03810545e-04],\n",
              "       [ 1.70489894e+00],\n",
              "       [-6.36043344e-01],\n",
              "       [ 3.76870548e-01],\n",
              "       [-3.81104011e-01],\n",
              "       [ 6.01875178e-01],\n",
              "       [ 2.08418998e+00],\n",
              "       [ 8.25394330e-01],\n",
              "       [-5.72988549e-01],\n",
              "       [-7.65955095e-01],\n",
              "       [-1.50595204e+00],\n",
              "       [-7.71089354e-01],\n",
              "       [ 8.52304789e-01],\n",
              "       [-1.89321615e-01],\n",
              "       [-5.67912734e-01],\n",
              "       [ 1.56315021e-01],\n",
              "       [ 1.64061564e+00],\n",
              "       [ 3.58354083e-02],\n",
              "       [-1.12565462e+00],\n",
              "       [ 6.56561173e-02],\n",
              "       [-1.72373589e-01],\n",
              "       [-1.10963852e+00],\n",
              "       [ 1.96569027e+00],\n",
              "       [ 7.70846627e-01],\n",
              "       [ 1.06365697e-01],\n",
              "       [ 4.85936106e-01],\n",
              "       [-4.61546450e-01],\n",
              "       [-4.27686814e-01],\n",
              "       [-8.18561765e-01],\n",
              "       [-6.10567075e-01],\n",
              "       [ 5.96360213e-01],\n",
              "       [ 3.69793706e-01],\n",
              "       [ 5.87555570e-01],\n",
              "       [ 9.96941604e-03],\n",
              "       [ 5.52999617e-02],\n",
              "       [ 3.15568349e-01],\n",
              "       [ 1.30088436e+00],\n",
              "       [-5.70459265e-01],\n",
              "       [ 6.36641916e-01],\n",
              "       [-1.26729030e+00],\n",
              "       [-6.24078473e-01],\n",
              "       [-1.76225928e+00],\n",
              "       [ 9.97920298e-01],\n",
              "       [ 6.96634972e-02],\n",
              "       [ 1.57121683e+00],\n",
              "       [ 2.64640003e+00],\n",
              "       [-1.88157350e+00],\n",
              "       [-7.11140232e-01],\n",
              "       [-1.75998461e-01],\n",
              "       [ 1.32250614e+00],\n",
              "       [ 7.42118238e-01],\n",
              "       [ 6.69847199e-01],\n",
              "       [-8.89886380e-01],\n",
              "       [-4.63401346e-01],\n",
              "       [ 2.53797331e-01],\n",
              "       [ 7.47929643e-01],\n",
              "       [-9.42376332e-01],\n",
              "       [ 3.97435601e-01],\n",
              "       [-5.29937793e-01],\n",
              "       [-6.24992209e-01],\n",
              "       [-5.23004153e-01],\n",
              "       [-8.73623199e-01],\n",
              "       [-6.50681987e-01],\n",
              "       [-1.49781332e+00],\n",
              "       [-3.65435967e-01],\n",
              "       [ 1.98792434e+00],\n",
              "       [-1.62819628e-01],\n",
              "       [-5.81008769e-01],\n",
              "       [ 2.78564878e-01],\n",
              "       [-1.25397749e-01],\n",
              "       [-9.07180711e-01],\n",
              "       [-5.43318369e-01],\n",
              "       [ 6.00142510e-01],\n",
              "       [ 1.12675119e+00],\n",
              "       [-1.57931717e-01],\n",
              "       [-1.98977352e+00],\n",
              "       [-1.33883946e+00],\n",
              "       [ 9.37639008e-02],\n",
              "       [ 3.18165944e-01],\n",
              "       [-5.04672147e-01],\n",
              "       [-1.80843814e+00],\n",
              "       [-3.23323180e-01],\n",
              "       [-6.85828252e-01],\n",
              "       [-6.54375917e-01],\n",
              "       [ 1.48329542e+00],\n",
              "       [ 1.30176035e+00],\n",
              "       [-3.33833542e-01],\n",
              "       [-2.39140250e-01],\n",
              "       [ 7.74293381e-01],\n",
              "       [-1.16818803e-01],\n",
              "       [ 1.80099034e-01],\n",
              "       [-1.43031115e-02],\n",
              "       [ 1.60691249e+00],\n",
              "       [-8.72484546e-01],\n",
              "       [ 6.14938727e-01],\n",
              "       [-5.26231540e-01],\n",
              "       [ 4.68726910e-01],\n",
              "       [ 9.84639089e-01],\n",
              "       [ 9.14594184e-01],\n",
              "       [-6.61406904e-01],\n",
              "       [ 1.23498450e+00],\n",
              "       [-3.65803758e-02],\n",
              "       [-5.25768590e-01],\n",
              "       [ 9.23905824e-01],\n",
              "       [-9.42990430e-01],\n",
              "       [-4.98495565e-01],\n",
              "       [-6.18109898e-01],\n",
              "       [-8.91206779e-01],\n",
              "       [ 7.13265374e-01],\n",
              "       [ 3.37473363e-01],\n",
              "       [-7.35750122e-01],\n",
              "       [-1.44351399e+00],\n",
              "       [-1.46969614e+00],\n",
              "       [-2.27429240e-01],\n",
              "       [-1.47736675e-01],\n",
              "       [ 1.04885172e+00],\n",
              "       [-1.11830713e+00],\n",
              "       [-2.83806849e-01],\n",
              "       [-8.37332074e-01],\n",
              "       [ 1.01978371e+00],\n",
              "       [-5.97581419e-01],\n",
              "       [ 1.65691410e+00],\n",
              "       [-5.75601029e-01],\n",
              "       [-5.42208597e-01],\n",
              "       [ 7.18658066e-01],\n",
              "       [ 6.03773980e-01],\n",
              "       [-9.98319324e-01],\n",
              "       [ 3.62158120e-01],\n",
              "       [-2.51438398e+00],\n",
              "       [-1.23564694e+00],\n",
              "       [ 1.95750973e-01],\n",
              "       [-5.60324887e-01],\n",
              "       [ 1.37885317e+00],\n",
              "       [ 1.25536909e+00],\n",
              "       [-1.83931986e-02],\n",
              "       [-7.02468341e-01],\n",
              "       [ 2.33546268e-01],\n",
              "       [-3.85430008e-01],\n",
              "       [ 4.26698225e-01],\n",
              "       [ 1.56293088e+00],\n",
              "       [ 5.64241772e-01],\n",
              "       [ 2.71117813e-01],\n",
              "       [-1.78006831e+00],\n",
              "       [-1.48083954e+00],\n",
              "       [-1.06654840e+00],\n",
              "       [-2.66286530e-01],\n",
              "       [-9.29766462e-01],\n",
              "       [ 1.24437125e+00],\n",
              "       [-1.68255257e+00],\n",
              "       [ 1.79748765e-01],\n",
              "       [-8.75637579e-01],\n",
              "       [ 1.19148260e+00],\n",
              "       [ 6.07387091e-01],\n",
              "       [-1.16779138e+00],\n",
              "       [ 1.48779624e-01],\n",
              "       [-1.31879135e+00],\n",
              "       [ 1.17798381e+00],\n",
              "       [-2.69885902e-01],\n",
              "       [ 1.21722854e+00],\n",
              "       [-4.89203278e-01],\n",
              "       [-2.15799571e-01],\n",
              "       [-7.76787360e-02],\n",
              "       [ 1.26633117e+00],\n",
              "       [-9.12588052e-01],\n",
              "       [-4.49110907e-02],\n",
              "       [ 3.09989384e-01],\n",
              "       [ 2.35258034e-01],\n",
              "       [ 7.44108850e-01],\n",
              "       [ 2.48116251e+00],\n",
              "       [-1.91267271e+00],\n",
              "       [-2.07227860e-01],\n",
              "       [-5.32777140e-01],\n",
              "       [-6.00047144e-01],\n",
              "       [ 6.05053475e-01],\n",
              "       [ 5.47792234e-01],\n",
              "       [ 1.91857008e-01],\n",
              "       [-1.78066961e+00],\n",
              "       [-2.58766971e-01],\n",
              "       [ 5.75311182e-01],\n",
              "       [ 1.44099776e+00],\n",
              "       [ 7.58289544e-01],\n",
              "       [ 1.68599066e+00],\n",
              "       [ 1.64946105e-01],\n",
              "       [ 7.09755817e-01],\n",
              "       [-3.47768013e-01],\n",
              "       [-7.64351660e-01],\n",
              "       [ 4.05565902e-01],\n",
              "       [ 1.15371866e+00],\n",
              "       [-2.98852840e-01],\n",
              "       [ 4.92213016e-01],\n",
              "       [-4.29409073e-01],\n",
              "       [ 2.71460211e-01],\n",
              "       [ 4.91418534e-01],\n",
              "       [-8.60839534e-01],\n",
              "       [ 1.91879260e+00],\n",
              "       [ 1.24508819e+00],\n",
              "       [-4.82214028e-01],\n",
              "       [ 1.43396872e-01],\n",
              "       [ 1.05655176e-02],\n",
              "       [ 2.11977815e-02],\n",
              "       [-1.33449309e+00],\n",
              "       [ 9.20681036e-01],\n",
              "       [ 1.31530920e+00],\n",
              "       [ 1.47017302e-01],\n",
              "       [-8.12467222e-01],\n",
              "       [ 5.57997743e-01],\n",
              "       [ 9.26025634e-01],\n",
              "       [ 1.79683776e+00],\n",
              "       [ 3.74089074e-01],\n",
              "       [ 2.91885787e-02],\n",
              "       [-2.83329421e+00],\n",
              "       [ 5.68565340e-01],\n",
              "       [-5.77674940e-01],\n",
              "       [-2.33911334e+00],\n",
              "       [ 1.18274308e+00],\n",
              "       [ 1.43567503e+00],\n",
              "       [ 3.45084618e-01],\n",
              "       [ 1.15444593e+00],\n",
              "       [-5.76409045e-01],\n",
              "       [ 1.89570972e-01],\n",
              "       [-1.71930334e+00]])"
            ]
          },
          "metadata": {},
          "execution_count": 158
        }
      ]
    },
    {
      "cell_type": "code",
      "source": [
        "degrees = [2, 3, 10]\n",
        "models = []\n",
        "\n",
        "for degree in degrees:\n",
        "    poly_features = PolynomialFeatures(degree=degree)\n",
        "    x_poly = poly_features.fit_transform(x[1])\n",
        "    model = LinearRegression()\n",
        "    model.fit(x_poly, y)\n",
        "    models.append(model)\n",
        "\n",
        "# Check significance of regression\n",
        "for i, model in enumerate(models):\n",
        "    print(f\"Polynomial regression of degree {degrees[i]}:\")\n"
      ],
      "metadata": {
        "colab": {
          "base_uri": "https://localhost:8080/",
          "height": 1000
        },
        "id": "zf-4aKLMZqUG",
        "outputId": "de22d846-eb59-4c44-a3f1-c00e0315adbb"
      },
      "execution_count": null,
      "outputs": [
        {
          "output_type": "error",
          "ename": "ValueError",
          "evalue": "ignored",
          "traceback": [
            "\u001b[0;31m---------------------------------------------------------------------------\u001b[0m",
            "\u001b[0;31mValueError\u001b[0m                                Traceback (most recent call last)",
            "\u001b[0;32m<ipython-input-166-7a234c421ea3>\u001b[0m in \u001b[0;36m<cell line: 4>\u001b[0;34m()\u001b[0m\n\u001b[1;32m      4\u001b[0m \u001b[0;32mfor\u001b[0m \u001b[0mdegree\u001b[0m \u001b[0;32min\u001b[0m \u001b[0mdegrees\u001b[0m\u001b[0;34m:\u001b[0m\u001b[0;34m\u001b[0m\u001b[0;34m\u001b[0m\u001b[0m\n\u001b[1;32m      5\u001b[0m     \u001b[0mpoly_features\u001b[0m \u001b[0;34m=\u001b[0m \u001b[0mPolynomialFeatures\u001b[0m\u001b[0;34m(\u001b[0m\u001b[0mdegree\u001b[0m\u001b[0;34m=\u001b[0m\u001b[0mdegree\u001b[0m\u001b[0;34m)\u001b[0m\u001b[0;34m\u001b[0m\u001b[0;34m\u001b[0m\u001b[0m\n\u001b[0;32m----> 6\u001b[0;31m     \u001b[0mx_poly\u001b[0m \u001b[0;34m=\u001b[0m \u001b[0mpoly_features\u001b[0m\u001b[0;34m.\u001b[0m\u001b[0mfit_transform\u001b[0m\u001b[0;34m(\u001b[0m\u001b[0mx\u001b[0m\u001b[0;34m[\u001b[0m\u001b[0;36m1\u001b[0m\u001b[0;34m]\u001b[0m\u001b[0;34m)\u001b[0m\u001b[0;34m\u001b[0m\u001b[0;34m\u001b[0m\u001b[0m\n\u001b[0m\u001b[1;32m      7\u001b[0m     \u001b[0mmodel\u001b[0m \u001b[0;34m=\u001b[0m \u001b[0mLinearRegression\u001b[0m\u001b[0;34m(\u001b[0m\u001b[0;34m)\u001b[0m\u001b[0;34m\u001b[0m\u001b[0;34m\u001b[0m\u001b[0m\n\u001b[1;32m      8\u001b[0m     \u001b[0mmodel\u001b[0m\u001b[0;34m.\u001b[0m\u001b[0mfit\u001b[0m\u001b[0;34m(\u001b[0m\u001b[0mx_poly\u001b[0m\u001b[0;34m,\u001b[0m \u001b[0my\u001b[0m\u001b[0;34m)\u001b[0m\u001b[0;34m\u001b[0m\u001b[0;34m\u001b[0m\u001b[0m\n",
            "\u001b[0;32m/usr/local/lib/python3.10/dist-packages/sklearn/utils/_set_output.py\u001b[0m in \u001b[0;36mwrapped\u001b[0;34m(self, X, *args, **kwargs)\u001b[0m\n\u001b[1;32m    138\u001b[0m     \u001b[0;34m@\u001b[0m\u001b[0mwraps\u001b[0m\u001b[0;34m(\u001b[0m\u001b[0mf\u001b[0m\u001b[0;34m)\u001b[0m\u001b[0;34m\u001b[0m\u001b[0;34m\u001b[0m\u001b[0m\n\u001b[1;32m    139\u001b[0m     \u001b[0;32mdef\u001b[0m \u001b[0mwrapped\u001b[0m\u001b[0;34m(\u001b[0m\u001b[0mself\u001b[0m\u001b[0;34m,\u001b[0m \u001b[0mX\u001b[0m\u001b[0;34m,\u001b[0m \u001b[0;34m*\u001b[0m\u001b[0margs\u001b[0m\u001b[0;34m,\u001b[0m \u001b[0;34m**\u001b[0m\u001b[0mkwargs\u001b[0m\u001b[0;34m)\u001b[0m\u001b[0;34m:\u001b[0m\u001b[0;34m\u001b[0m\u001b[0;34m\u001b[0m\u001b[0m\n\u001b[0;32m--> 140\u001b[0;31m         \u001b[0mdata_to_wrap\u001b[0m \u001b[0;34m=\u001b[0m \u001b[0mf\u001b[0m\u001b[0;34m(\u001b[0m\u001b[0mself\u001b[0m\u001b[0;34m,\u001b[0m \u001b[0mX\u001b[0m\u001b[0;34m,\u001b[0m \u001b[0;34m*\u001b[0m\u001b[0margs\u001b[0m\u001b[0;34m,\u001b[0m \u001b[0;34m**\u001b[0m\u001b[0mkwargs\u001b[0m\u001b[0;34m)\u001b[0m\u001b[0;34m\u001b[0m\u001b[0;34m\u001b[0m\u001b[0m\n\u001b[0m\u001b[1;32m    141\u001b[0m         \u001b[0;32mif\u001b[0m \u001b[0misinstance\u001b[0m\u001b[0;34m(\u001b[0m\u001b[0mdata_to_wrap\u001b[0m\u001b[0;34m,\u001b[0m \u001b[0mtuple\u001b[0m\u001b[0;34m)\u001b[0m\u001b[0;34m:\u001b[0m\u001b[0;34m\u001b[0m\u001b[0;34m\u001b[0m\u001b[0m\n\u001b[1;32m    142\u001b[0m             \u001b[0;31m# only wrap the first output for cross decomposition\u001b[0m\u001b[0;34m\u001b[0m\u001b[0;34m\u001b[0m\u001b[0m\n",
            "\u001b[0;32m/usr/local/lib/python3.10/dist-packages/sklearn/base.py\u001b[0m in \u001b[0;36mfit_transform\u001b[0;34m(self, X, y, **fit_params)\u001b[0m\n\u001b[1;32m    876\u001b[0m         \u001b[0;32mif\u001b[0m \u001b[0my\u001b[0m \u001b[0;32mis\u001b[0m \u001b[0;32mNone\u001b[0m\u001b[0;34m:\u001b[0m\u001b[0;34m\u001b[0m\u001b[0;34m\u001b[0m\u001b[0m\n\u001b[1;32m    877\u001b[0m             \u001b[0;31m# fit method of arity 1 (unsupervised transformation)\u001b[0m\u001b[0;34m\u001b[0m\u001b[0;34m\u001b[0m\u001b[0m\n\u001b[0;32m--> 878\u001b[0;31m             \u001b[0;32mreturn\u001b[0m \u001b[0mself\u001b[0m\u001b[0;34m.\u001b[0m\u001b[0mfit\u001b[0m\u001b[0;34m(\u001b[0m\u001b[0mX\u001b[0m\u001b[0;34m,\u001b[0m \u001b[0;34m**\u001b[0m\u001b[0mfit_params\u001b[0m\u001b[0;34m)\u001b[0m\u001b[0;34m.\u001b[0m\u001b[0mtransform\u001b[0m\u001b[0;34m(\u001b[0m\u001b[0mX\u001b[0m\u001b[0;34m)\u001b[0m\u001b[0;34m\u001b[0m\u001b[0;34m\u001b[0m\u001b[0m\n\u001b[0m\u001b[1;32m    879\u001b[0m         \u001b[0;32melse\u001b[0m\u001b[0;34m:\u001b[0m\u001b[0;34m\u001b[0m\u001b[0;34m\u001b[0m\u001b[0m\n\u001b[1;32m    880\u001b[0m             \u001b[0;31m# fit method of arity 2 (supervised transformation)\u001b[0m\u001b[0;34m\u001b[0m\u001b[0;34m\u001b[0m\u001b[0m\n",
            "\u001b[0;32m/usr/local/lib/python3.10/dist-packages/sklearn/preprocessing/_polynomial.py\u001b[0m in \u001b[0;36mfit\u001b[0;34m(self, X, y)\u001b[0m\n\u001b[1;32m    250\u001b[0m         \"\"\"\n\u001b[1;32m    251\u001b[0m         \u001b[0mself\u001b[0m\u001b[0;34m.\u001b[0m\u001b[0m_validate_params\u001b[0m\u001b[0;34m(\u001b[0m\u001b[0;34m)\u001b[0m\u001b[0;34m\u001b[0m\u001b[0;34m\u001b[0m\u001b[0m\n\u001b[0;32m--> 252\u001b[0;31m         \u001b[0m_\u001b[0m\u001b[0;34m,\u001b[0m \u001b[0mn_features\u001b[0m \u001b[0;34m=\u001b[0m \u001b[0mself\u001b[0m\u001b[0;34m.\u001b[0m\u001b[0m_validate_data\u001b[0m\u001b[0;34m(\u001b[0m\u001b[0mX\u001b[0m\u001b[0;34m,\u001b[0m \u001b[0maccept_sparse\u001b[0m\u001b[0;34m=\u001b[0m\u001b[0;32mTrue\u001b[0m\u001b[0;34m)\u001b[0m\u001b[0;34m.\u001b[0m\u001b[0mshape\u001b[0m\u001b[0;34m\u001b[0m\u001b[0;34m\u001b[0m\u001b[0m\n\u001b[0m\u001b[1;32m    253\u001b[0m \u001b[0;34m\u001b[0m\u001b[0m\n\u001b[1;32m    254\u001b[0m         \u001b[0;32mif\u001b[0m \u001b[0misinstance\u001b[0m\u001b[0;34m(\u001b[0m\u001b[0mself\u001b[0m\u001b[0;34m.\u001b[0m\u001b[0mdegree\u001b[0m\u001b[0;34m,\u001b[0m \u001b[0mIntegral\u001b[0m\u001b[0;34m)\u001b[0m\u001b[0;34m:\u001b[0m\u001b[0;34m\u001b[0m\u001b[0;34m\u001b[0m\u001b[0m\n",
            "\u001b[0;32m/usr/local/lib/python3.10/dist-packages/sklearn/base.py\u001b[0m in \u001b[0;36m_validate_data\u001b[0;34m(self, X, y, reset, validate_separately, **check_params)\u001b[0m\n\u001b[1;32m    563\u001b[0m             \u001b[0;32mraise\u001b[0m \u001b[0mValueError\u001b[0m\u001b[0;34m(\u001b[0m\u001b[0;34m\"Validation should be done on X, y or both.\"\u001b[0m\u001b[0;34m)\u001b[0m\u001b[0;34m\u001b[0m\u001b[0;34m\u001b[0m\u001b[0m\n\u001b[1;32m    564\u001b[0m         \u001b[0;32melif\u001b[0m \u001b[0;32mnot\u001b[0m \u001b[0mno_val_X\u001b[0m \u001b[0;32mand\u001b[0m \u001b[0mno_val_y\u001b[0m\u001b[0;34m:\u001b[0m\u001b[0;34m\u001b[0m\u001b[0;34m\u001b[0m\u001b[0m\n\u001b[0;32m--> 565\u001b[0;31m             \u001b[0mX\u001b[0m \u001b[0;34m=\u001b[0m \u001b[0mcheck_array\u001b[0m\u001b[0;34m(\u001b[0m\u001b[0mX\u001b[0m\u001b[0;34m,\u001b[0m \u001b[0minput_name\u001b[0m\u001b[0;34m=\u001b[0m\u001b[0;34m\"X\"\u001b[0m\u001b[0;34m,\u001b[0m \u001b[0;34m**\u001b[0m\u001b[0mcheck_params\u001b[0m\u001b[0;34m)\u001b[0m\u001b[0;34m\u001b[0m\u001b[0;34m\u001b[0m\u001b[0m\n\u001b[0m\u001b[1;32m    566\u001b[0m             \u001b[0mout\u001b[0m \u001b[0;34m=\u001b[0m \u001b[0mX\u001b[0m\u001b[0;34m\u001b[0m\u001b[0;34m\u001b[0m\u001b[0m\n\u001b[1;32m    567\u001b[0m         \u001b[0;32melif\u001b[0m \u001b[0mno_val_X\u001b[0m \u001b[0;32mand\u001b[0m \u001b[0;32mnot\u001b[0m \u001b[0mno_val_y\u001b[0m\u001b[0;34m:\u001b[0m\u001b[0;34m\u001b[0m\u001b[0;34m\u001b[0m\u001b[0m\n",
            "\u001b[0;32m/usr/local/lib/python3.10/dist-packages/sklearn/utils/validation.py\u001b[0m in \u001b[0;36mcheck_array\u001b[0;34m(array, accept_sparse, accept_large_sparse, dtype, order, copy, force_all_finite, ensure_2d, allow_nd, ensure_min_samples, ensure_min_features, estimator, input_name)\u001b[0m\n\u001b[1;32m    900\u001b[0m             \u001b[0;31m# If input is 1D raise error\u001b[0m\u001b[0;34m\u001b[0m\u001b[0;34m\u001b[0m\u001b[0m\n\u001b[1;32m    901\u001b[0m             \u001b[0;32mif\u001b[0m \u001b[0marray\u001b[0m\u001b[0;34m.\u001b[0m\u001b[0mndim\u001b[0m \u001b[0;34m==\u001b[0m \u001b[0;36m1\u001b[0m\u001b[0;34m:\u001b[0m\u001b[0;34m\u001b[0m\u001b[0;34m\u001b[0m\u001b[0m\n\u001b[0;32m--> 902\u001b[0;31m                 raise ValueError(\n\u001b[0m\u001b[1;32m    903\u001b[0m                     \u001b[0;34m\"Expected 2D array, got 1D array instead:\\narray={}.\\n\"\u001b[0m\u001b[0;34m\u001b[0m\u001b[0;34m\u001b[0m\u001b[0m\n\u001b[1;32m    904\u001b[0m                     \u001b[0;34m\"Reshape your data either using array.reshape(-1, 1) if \"\u001b[0m\u001b[0;34m\u001b[0m\u001b[0;34m\u001b[0m\u001b[0m\n",
            "\u001b[0;31mValueError\u001b[0m: Expected 2D array, got 1D array instead:\narray=[-1.02330755e+00 -1.10838575e+00 -2.13615380e+00 -1.54958635e+00\n -1.08619268e+00 -2.54209973e+00 -2.35820493e-01 -2.75026389e-01\n  3.66380165e-01  4.90892708e-01 -5.76717395e-02  2.26291825e+00\n  1.65304419e+00  3.78454105e-01  2.73692021e-01 -1.62593790e-01\n -2.49339057e-01 -1.78268397e-01 -8.94080890e-01  3.81292915e-01\n -3.84404385e-01 -4.71787951e-01  1.38920929e-01 -7.87143674e-01\n -8.93961592e-01  1.57699822e-01 -2.59822993e+00  3.23789725e-01\n  1.78759654e+00  2.26107880e-01  1.65650045e+00  9.24176562e-02\n  1.04722736e+00  1.00092778e+00 -2.81639458e-01 -7.06805248e-01\n -3.48407367e-01  6.41503526e-01 -8.99993552e-01 -1.94369121e+00\n -1.12014261e+00  2.04613047e-01 -5.27149483e-01  8.50920733e-01\n -3.14530121e-01  6.08499160e-01 -4.12131291e-01  2.61999357e-01\n  4.44621021e-01 -6.85772652e-01 -6.79452369e-01  8.39836597e-01\n  2.34982372e-01  3.68295270e-01  2.95471585e-01 -9.29452882e-02\n -5.06645429e-01  1.38547028e+00  6.05799295e-01  7.74822664e-01\n -1.48561054e+00  1.78404741e+00  3.81553770e-01  1.60274178e+00\n  3.19644421e-01 -1.30080272e+00 -1.19718648e-01  1.30255108e+00\n  1.03460812e+00  1.98000488e+00  9.86458008e-02 -5.20120356e-01\n -7.79270549e-01  1.72749233e+00  5.97769685e-01  9.94301672e-01\n  1.36875392e+00  6.16868139e-01 -2.08644602e+00  1.85960340e+00\n  1.44296926e+00 -2.42375977e+00  1.90885691e-02  9.75269488e-01\n  5.08537806e-01  3.98262793e-01  5.16077236e-01 -6.40950166e-01\n  7.09524620e-01  1.34272031e+00  8.72515446e-01 -2.40556472e-02\n  7.11766174e-01  3.60583329e-01 -8.58389152e-01 -9.42189954e-01\n -2.19109663e-01 -1.82331791e+00  3.22568258e-01 -3.61432704e-01\n -7.81369353e-01 -1.42973755e+00 -3.97682526e-01  2.50394534e-01\n -1.11703414e+00  3.47659223e-01  9.70693978e-01 -7.11878231e-01\n  1.15899659e+00  9.70015945e-01 -9.03611462e-01 -1.51299356e+00\n -6.30405190e-01  8.20167342e-01 -3.13388579e-01 -1.06483843e+00\n  5.70382308e-01  1.52095009e+00  5.42656297e-01 -3.49463086e-01\n -2.74889070e-01  8.29318910e-01 -2.37957776e-01  6.51709533e-02\n -8.71563426e-02 -5.96308766e-01 -9.56847587e-01 -8.75300381e-02\n -9.91824293e-01 -2.67770521e+00  1.02153588e+00 -1.00119127e+00\n  3.25406938e-01 -2.03209415e-01 -9.07651278e-01  1.28753451e+00\n -8.14377844e-02 -2.16871506e-01  1.55736932e+00  1.99280569e+00\n  1.22606702e-01 -1.95143646e-01  1.05969473e+00  1.10857718e+00\n -1.61427975e+00 -4.01075571e-01 -5.82584938e-02  2.35632716e+00\n  2.02882906e-01  1.37367675e+00 -3.04386323e-01 -4.03745406e-01\n -5.05461797e-01 -2.11192740e+00  9.28967210e-01  1.19194035e+00\n  1.55858501e+00 -2.18992742e-01  7.92977236e-01  1.29975488e+00\n -1.51645288e-01 -5.25083615e-01  2.29619547e+00 -3.29047707e-01\n -3.49109122e-01 -1.00921586e+00 -3.85024072e-01  1.81728674e-01\n -6.25360709e-01  1.85338434e+00  6.95402493e-02  1.06623938e-01\n  7.31481500e-01  5.39748738e-01  2.41873029e-01 -4.37972235e-01\n -1.08713317e+00  9.05113302e-01  5.40122351e-01  6.19273765e-01\n -7.56095969e-02 -6.76043982e-01  3.74991459e-01  1.34203184e-01\n  1.06983931e+00 -6.15172044e-01 -6.06160672e-01 -4.99698566e-01\n -1.80262927e+00  1.84689324e-01  3.93198603e-01  8.21915244e-01\n  5.32711143e-01  8.88118446e-01 -5.82783535e-01 -4.43869615e-01\n  1.25000459e+00  1.22990742e-01 -7.71262710e-01 -1.44943432e+00\n -2.97890218e-02 -1.44908072e+00  1.07735130e+00  2.76091276e-01\n  1.72073782e+00 -9.01290131e-01  6.09011024e-02  4.66706345e-01\n  1.03535398e+00 -8.14203094e-01 -1.28726280e-02  2.79464403e-01\n  6.45850569e-01  4.89682134e-01  7.41958404e-01 -9.53422116e-01\n  9.03810545e-04  1.70489894e+00 -6.36043344e-01  3.76870548e-01\n -3.81104011e-01  6.01875178e-01  2.08418998e+00  8.25394330e-01\n -5.72988549e-01 -7.65955095e-01 -1.50595204e+00 -7.71089354e-01\n  8.52304789e-01 -1.89321615e-01 -5.67912734e-01  1.56315021e-01\n  1.64061564e+00  3.58354083e-02 -1.12565462e+00  6.56561173e-02\n -1.72373589e-01 -1.10963852e+00  1.96569027e+00  7.70846627e-01\n  1.06365697e-01  4.85936106e-01 -4.61546450e-01 -4.27686814e-01\n -8.18561765e-01 -6.10567075e-01  5.96360213e-01  3.69793706e-01\n  5.87555570e-01  9.96941604e-03  5.52999617e-02  3.15568349e-01\n  1.30088436e+00 -5.70459265e-01  6.36641916e-01 -1.26729030e+00\n -6.24078473e-01 -1.76225928e+00  9.97920298e-01  6.96634972e-02\n  1.57121683e+00  2.64640003e+00 -1.88157350e+00 -7.11140232e-01\n -1.75998461e-01  1.32250614e+00  7.42118238e-01  6.69847199e-01\n -8.89886380e-01 -4.63401346e-01  2.53797331e-01  7.47929643e-01\n -9.42376332e-01  3.97435601e-01 -5.29937793e-01 -6.24992209e-01\n -5.23004153e-01 -8.73623199e-01 -6.50681987e-01 -1.49781332e+00\n -3.65435967e-01  1.98792434e+00 -1.62819628e-01 -5.81008769e-01\n  2.78564878e-01 -1.25397749e-01 -9.07180711e-01 -5.43318369e-01\n  6.00142510e-01  1.12675119e+00 -1.57931717e-01 -1.98977352e+00\n -1.33883946e+00  9.37639008e-02  3.18165944e-01 -5.04672147e-01\n -1.80843814e+00 -3.23323180e-01 -6.85828252e-01 -6.54375917e-01\n  1.48329542e+00  1.30176035e+00 -3.33833542e-01 -2.39140250e-01\n  7.74293381e-01 -1.16818803e-01  1.80099034e-01 -1.43031115e-02\n  1.60691249e+00 -8.72484546e-01  6.14938727e-01 -5.26231540e-01\n  4.68726910e-01  9.84639089e-01  9.14594184e-01 -6.61406904e-01\n  1.23498450e+00 -3.65803758e-02 -5.25768590e-01  9.23905824e-01\n -9.42990430e-01 -4.98495565e-01 -6.18109898e-01 -8.91206779e-01\n  7.13265374e-01  3.37473363e-01 -7.35750122e-01 -1.44351399e+00\n -1.46969614e+00 -2.27429240e-01 -1.47736675e-01  1.04885172e+00\n -1.11830713e+00 -2.83806849e-01 -8.37332074e-01  1.01978371e+00\n -5.97581419e-01  1.65691410e+00 -5.75601029e-01 -5.42208597e-01\n  7.18658066e-01  6.03773980e-01 -9.98319324e-01  3.62158120e-01\n -2.51438398e+00 -1.23564694e+00  1.95750973e-01 -5.60324887e-01\n  1.37885317e+00  1.25536909e+00 -1.83931986e-02 -7.02468341e-01\n  2.33546268e-01 -3.85430008e-01  4.26698225e-01  1.56293088e+00\n  5.64241772e-01  2.71117813e-01 -1.78006831e+00 -1.48083954e+00\n -1.06654840e+00 -2.66286530e-01 -9.29766462e-01  1.24437125e+00\n -1.68255257e+00  1.79748765e-01 -8.75637579e-01  1.19148260e+00\n  6.07387091e-01 -1.16779138e+00  1.48779624e-01 -1.31879135e+00\n  1.17798381e+00 -2.69885902e-01  1.21722854e+00 -4.89203278e-01\n -2.15799571e-01 -7.76787360e-02  1.26633117e+00 -9.12588052e-01\n -4.49110907e-02  3.09989384e-01  2.35258034e-01  7.44108850e-01\n  2.48116251e+00 -1.91267271e+00 -2.07227860e-01 -5.32777140e-01\n -6.00047144e-01  6.05053475e-01  5.47792234e-01  1.91857008e-01\n -1.78066961e+00 -2.58766971e-01  5.75311182e-01  1.44099776e+00\n  7.58289544e-01  1.68599066e+00  1.64946105e-01  7.09755817e-01\n -3.47768013e-01 -7.64351660e-01  4.05565902e-01  1.15371866e+00\n -2.98852840e-01  4.92213016e-01 -4.29409073e-01  2.71460211e-01\n  4.91418534e-01 -8.60839534e-01  1.91879260e+00  1.24508819e+00\n -4.82214028e-01  1.43396872e-01  1.05655176e-02  2.11977815e-02\n -1.33449309e+00  9.20681036e-01  1.31530920e+00  1.47017302e-01\n -8.12467222e-01  5.57997743e-01  9.26025634e-01  1.79683776e+00\n  3.74089074e-01  2.91885787e-02 -2.83329421e+00  5.68565340e-01\n -5.77674940e-01 -2.33911334e+00  1.18274308e+00  1.43567503e+00\n  3.45084618e-01  1.15444593e+00 -5.76409045e-01  1.89570972e-01\n -1.71930334e+00].\nReshape your data either using array.reshape(-1, 1) if your data has a single feature or array.reshape(1, -1) if it contains a single sample."
          ]
        }
      ]
    },
    {
      "cell_type": "code",
      "source": [
        "    print(f\"Coefficients: {model.coef_}\")\n",
        "    print(f\"\\nIntercept: {model.intercept_}\")\n",
        "    print(f\"\\nR-squared score: {model.score(x_poly, y)}\")"
      ],
      "metadata": {
        "colab": {
          "base_uri": "https://localhost:8080/"
        },
        "id": "hl9wNZpDbmhY",
        "outputId": "cbada1f3-aeb2-41e6-c6b0-2ed191ae4c1d"
      },
      "execution_count": null,
      "outputs": [
        {
          "output_type": "stream",
          "name": "stdout",
          "text": [
            "Coefficients: [[  0.          20.6732917    3.12976528  41.54113547 -30.79803503\n",
            "  -17.39217541  16.91523419   3.11152195  -2.5057122   -0.21676212\n",
            "    0.09830788]]\n",
            "\n",
            "Intercept: [12.48511149]\n",
            "\n",
            "R-squared score: 0.13757749216723691\n"
          ]
        }
      ]
    },
    {
      "cell_type": "markdown",
      "source": [
        "Постройте сводную таблицу показателей точности всех построенных моделей. Сделайте вывод, какие модели переобученнные, какие - недообученные."
      ],
      "metadata": {
        "id": "qUb5VcIgNQ_d"
      }
    },
    {
      "cell_type": "code",
      "source": [
        "for i in range(5):\n",
        "    print(f'\\nточность построенной модели {i} : {binary_1.score(x[[i]],y)}')\n",
        "    plt.scatter(x[i], y)\n",
        "    xx = np.linspace(x[i].min(), x[i].max(), 100).reshape((-1, 1))\n",
        "    plt.plot(xx, binary.predict(xx), c='r')"
      ],
      "metadata": {
        "colab": {
          "base_uri": "https://localhost:8080/",
          "height": 604
        },
        "id": "N_Vb2Uk0eZiF",
        "outputId": "eefe5b83-bb84-446b-e9af-74c9da8c5627"
      },
      "execution_count": null,
      "outputs": [
        {
          "output_type": "stream",
          "name": "stdout",
          "text": [
            "\n",
            "точность построенной модели 0 : 0.2743777773679985\n",
            "\n",
            "точность построенной модели 1 : 0.11065024455483086\n",
            "\n",
            "точность построенной модели 2 : -0.006963871141843159\n",
            "\n",
            "точность построенной модели 3 : 0.3373124676327227\n",
            "\n",
            "точность построенной модели 4 : 0.004615090705667568\n"
          ]
        },
        {
          "output_type": "display_data",
          "data": {
            "text/plain": [
              "<Figure size 640x480 with 1 Axes>"
            ],
            "image/png": "[encoded data removed]"
          },
          "metadata": {}
        }
      ]
    },
    {
      "cell_type": "code",
      "source": [
        "plt.scatter(x[1], y, c='orange')\n",
        "xx = np.linspace(x[1].min(), x[1].max(), 100).reshape((-1, 1))\n",
        "plt.plot(xx, binary.predict(xx), c='r')"
      ],
      "metadata": {
        "colab": {
          "base_uri": "https://localhost:8080/",
          "height": 447
        },
        "id": "C4AlwDq9gjpt",
        "outputId": "4c4f1bcf-4b65-443b-a2ee-cddc2ec6a92d"
      },
      "execution_count": null,
      "outputs": [
        {
          "output_type": "execute_result",
          "data": {
            "text/plain": [
              "[<matplotlib.lines.Line2D at 0x7c80e92b74f0>]"
            ]
          },
          "metadata": {},
          "execution_count": 236
        },
        {
          "output_type": "display_data",
          "data": {
            "text/plain": [
              "<Figure size 640x480 with 1 Axes>"
            ],
            "image/png": "[encoded data removed]"
          },
          "metadata": {}
        }
      ]
    },
    {
      "cell_type": "code",
      "source": [
        "plt.scatter(x[2], y, c='green')\n",
        "xx = np.linspace(x[2].min(), x[2].max(), 100).reshape((-1, 1))\n",
        "plt.plot(xx, binary.predict(xx), c='r')"
      ],
      "metadata": {
        "colab": {
          "base_uri": "https://localhost:8080/",
          "height": 447
        },
        "id": "-3cAmJHbhW6D",
        "outputId": "0036b6cb-dfee-49b4-829b-1493f17de313"
      },
      "execution_count": null,
      "outputs": [
        {
          "output_type": "execute_result",
          "data": {
            "text/plain": [
              "[<matplotlib.lines.Line2D at 0x7c80de833340>]"
            ]
          },
          "metadata": {},
          "execution_count": 229
        },
        {
          "output_type": "display_data",
          "data": {
            "text/plain": [
              "<Figure size 640x480 with 1 Axes>"
            ],
            "image/png": "[encoded data removed]"
          },
          "metadata": {}
        }
      ]
    },
    {
      "cell_type": "code",
      "source": [
        "plt.scatter(x[3], y, c='red')\n",
        "xx = np.linspace(x[3].min(), x[3].max(), 100).reshape((-1, 1))\n",
        "plt.plot(xx, binary.predict(xx), c='b')"
      ],
      "metadata": {
        "colab": {
          "base_uri": "https://localhost:8080/",
          "height": 447
        },
        "id": "aRytjGzohjDH",
        "outputId": "2bfe8b56-ad12-428d-ff02-34eea14a2ede"
      },
      "execution_count": null,
      "outputs": [
        {
          "output_type": "execute_result",
          "data": {
            "text/plain": [
              "[<matplotlib.lines.Line2D at 0x7c80de910f10>]"
            ]
          },
          "metadata": {},
          "execution_count": 232
        },
        {
          "output_type": "display_data",
          "data": {
            "text/plain": [
              "<Figure size 640x480 with 1 Axes>"
            ],
            "image/png": "[encoded data removed]"
          },
          "metadata": {}
        }
      ]
    },
    {
      "cell_type": "code",
      "source": [
        "plt.scatter(x[4], y, c='purple')\n",
        "xx = np.linspace(x[4].min(), x[4].max(), 100).reshape((-1, 1))\n",
        "plt.plot(xx, binary.predict(xx), c='b')"
      ],
      "metadata": {
        "colab": {
          "base_uri": "https://localhost:8080/",
          "height": 447
        },
        "id": "_75I2vGDhjaK",
        "outputId": "abae9997-a5bc-4137-88e4-73ab29b159ab"
      },
      "execution_count": null,
      "outputs": [
        {
          "output_type": "execute_result",
          "data": {
            "text/plain": [
              "[<matplotlib.lines.Line2D at 0x7c80dcd686d0>]"
            ]
          },
          "metadata": {},
          "execution_count": 246
        },
        {
          "output_type": "display_data",
          "data": {
            "text/plain": [
              "<Figure size 640x480 with 1 Axes>"
            ],
            "image/png": "[encoded data removed]"
          },
          "metadata": {}
        }
      ]
    },
    {
      "cell_type": "markdown",
      "source": [
        "Используйте другие метрики качества регрессионной модели в дополнение к коэффициенту детерминации."
      ],
      "metadata": {
        "id": "B3jiLxCQNUEg"
      }
    },
    {
      "cell_type": "code",
      "source": [
        "yr=binary_1.predict(x[[1]])\n",
        "from bokeh.plotting import figure, show, output_file\n",
        "p=figure( width=450, height=300)\n",
        "p.title.align = 'center'\n",
        "p.circle(x[[1]], y)\n",
        "p.line(x[[1]], y, line_width=3, line_alpha=0.4)\n",
        "p.circle(x[[1]], yr, color=\"red\")\n",
        "p.line(x[[1]],yr, color=\"red\",legend_label='Predicted Salary', line_width=3, line_alpha=0.4)\n",
        "show(p)"
      ],
      "metadata": {
        "colab": {
          "base_uri": "https://localhost:8080/",
          "height": 390
        },
        "id": "0ndzGdZuNVqO",
        "outputId": "b7541df7-5d70-400b-dfd6-2c4eddab6689"
      },
      "execution_count": null,
      "outputs": [
        {
          "output_type": "error",
          "ename": "RuntimeError",
          "evalue": "ignored",
          "traceback": [
            "\u001b[0;31m---------------------------------------------------------------------------\u001b[0m",
            "\u001b[0;31mRuntimeError\u001b[0m                              Traceback (most recent call last)",
            "\u001b[0;32m<ipython-input-274-b2145a08b09f>\u001b[0m in \u001b[0;36m<cell line: 7>\u001b[0;34m()\u001b[0m\n\u001b[1;32m      5\u001b[0m \u001b[0mp\u001b[0m\u001b[0;34m.\u001b[0m\u001b[0mcircle\u001b[0m\u001b[0;34m(\u001b[0m\u001b[0mx\u001b[0m\u001b[0;34m[\u001b[0m\u001b[0;34m[\u001b[0m\u001b[0;36m1\u001b[0m\u001b[0;34m]\u001b[0m\u001b[0;34m]\u001b[0m\u001b[0;34m,\u001b[0m \u001b[0my\u001b[0m\u001b[0;34m)\u001b[0m\u001b[0;34m\u001b[0m\u001b[0;34m\u001b[0m\u001b[0m\n\u001b[1;32m      6\u001b[0m \u001b[0mp\u001b[0m\u001b[0;34m.\u001b[0m\u001b[0mline\u001b[0m\u001b[0;34m(\u001b[0m\u001b[0mx\u001b[0m\u001b[0;34m[\u001b[0m\u001b[0;34m[\u001b[0m\u001b[0;36m1\u001b[0m\u001b[0;34m]\u001b[0m\u001b[0;34m]\u001b[0m\u001b[0;34m,\u001b[0m \u001b[0my\u001b[0m\u001b[0;34m,\u001b[0m \u001b[0mline_width\u001b[0m\u001b[0;34m=\u001b[0m\u001b[0;36m3\u001b[0m\u001b[0;34m,\u001b[0m \u001b[0mline_alpha\u001b[0m\u001b[0;34m=\u001b[0m\u001b[0;36m0.4\u001b[0m\u001b[0;34m)\u001b[0m\u001b[0;34m\u001b[0m\u001b[0;34m\u001b[0m\u001b[0m\n\u001b[0;32m----> 7\u001b[0;31m \u001b[0mp\u001b[0m\u001b[0;34m.\u001b[0m\u001b[0mcircle\u001b[0m\u001b[0;34m(\u001b[0m\u001b[0mx\u001b[0m\u001b[0;34m[\u001b[0m\u001b[0;34m[\u001b[0m\u001b[0;36m1\u001b[0m\u001b[0;34m]\u001b[0m\u001b[0;34m]\u001b[0m\u001b[0;34m,\u001b[0m \u001b[0myr\u001b[0m\u001b[0;34m,\u001b[0m \u001b[0mcolor\u001b[0m\u001b[0;34m=\u001b[0m\u001b[0;34m\"red\"\u001b[0m\u001b[0;34m)\u001b[0m\u001b[0;34m\u001b[0m\u001b[0;34m\u001b[0m\u001b[0m\n\u001b[0m\u001b[1;32m      8\u001b[0m \u001b[0mp\u001b[0m\u001b[0;34m.\u001b[0m\u001b[0mline\u001b[0m\u001b[0;34m(\u001b[0m\u001b[0mx\u001b[0m\u001b[0;34m[\u001b[0m\u001b[0;34m[\u001b[0m\u001b[0;36m1\u001b[0m\u001b[0;34m]\u001b[0m\u001b[0;34m]\u001b[0m\u001b[0;34m,\u001b[0m\u001b[0myr\u001b[0m\u001b[0;34m,\u001b[0m \u001b[0mcolor\u001b[0m\u001b[0;34m=\u001b[0m\u001b[0;34m\"red\"\u001b[0m\u001b[0;34m,\u001b[0m\u001b[0mlegend_label\u001b[0m\u001b[0;34m=\u001b[0m\u001b[0;34m'Predicted Salary'\u001b[0m\u001b[0;34m,\u001b[0m \u001b[0mline_width\u001b[0m\u001b[0;34m=\u001b[0m\u001b[0;36m3\u001b[0m\u001b[0;34m,\u001b[0m \u001b[0mline_alpha\u001b[0m\u001b[0;34m=\u001b[0m\u001b[0;36m0.4\u001b[0m\u001b[0;34m)\u001b[0m\u001b[0;34m\u001b[0m\u001b[0;34m\u001b[0m\u001b[0m\n\u001b[1;32m      9\u001b[0m \u001b[0mshow\u001b[0m\u001b[0;34m(\u001b[0m\u001b[0mp\u001b[0m\u001b[0;34m)\u001b[0m\u001b[0;34m\u001b[0m\u001b[0;34m\u001b[0m\u001b[0m\n",
            "\u001b[0;32m/usr/local/lib/python3.10/dist-packages/bokeh/plotting/_decorators.py\u001b[0m in \u001b[0;36mwrapped\u001b[0;34m(self, *args, **kwargs)\u001b[0m\n\u001b[1;32m     85\u001b[0m             \u001b[0;32mif\u001b[0m \u001b[0mself\u001b[0m\u001b[0;34m.\u001b[0m\u001b[0mcoordinates\u001b[0m \u001b[0;32mis\u001b[0m \u001b[0;32mnot\u001b[0m \u001b[0;32mNone\u001b[0m\u001b[0;34m:\u001b[0m\u001b[0;34m\u001b[0m\u001b[0;34m\u001b[0m\u001b[0m\n\u001b[1;32m     86\u001b[0m                 \u001b[0mkwargs\u001b[0m\u001b[0;34m.\u001b[0m\u001b[0msetdefault\u001b[0m\u001b[0;34m(\u001b[0m\u001b[0;34m\"coordinates\"\u001b[0m\u001b[0;34m,\u001b[0m \u001b[0mself\u001b[0m\u001b[0;34m.\u001b[0m\u001b[0mcoordinates\u001b[0m\u001b[0;34m)\u001b[0m\u001b[0;34m\u001b[0m\u001b[0;34m\u001b[0m\u001b[0m\n\u001b[0;32m---> 87\u001b[0;31m             \u001b[0;32mreturn\u001b[0m \u001b[0mcreate_renderer\u001b[0m\u001b[0;34m(\u001b[0m\u001b[0mglyphclass\u001b[0m\u001b[0;34m,\u001b[0m \u001b[0mself\u001b[0m\u001b[0;34m.\u001b[0m\u001b[0mplot\u001b[0m\u001b[0;34m,\u001b[0m \u001b[0;34m**\u001b[0m\u001b[0mkwargs\u001b[0m\u001b[0;34m)\u001b[0m\u001b[0;34m\u001b[0m\u001b[0;34m\u001b[0m\u001b[0m\n\u001b[0m\u001b[1;32m     88\u001b[0m \u001b[0;34m\u001b[0m\u001b[0m\n\u001b[1;32m     89\u001b[0m         \u001b[0mwrapped\u001b[0m\u001b[0;34m.\u001b[0m\u001b[0m__signature__\u001b[0m \u001b[0;34m=\u001b[0m \u001b[0mSignature\u001b[0m\u001b[0;34m(\u001b[0m\u001b[0mparameters\u001b[0m\u001b[0;34m=\u001b[0m\u001b[0msigparams\u001b[0m\u001b[0;34m)\u001b[0m\u001b[0;34m\u001b[0m\u001b[0;34m\u001b[0m\u001b[0m\n",
            "\u001b[0;32m/usr/local/lib/python3.10/dist-packages/bokeh/plotting/_renderer.py\u001b[0m in \u001b[0;36mcreate_renderer\u001b[0;34m(glyphclass, plot, **kwargs)\u001b[0m\n\u001b[1;32m     88\u001b[0m     \u001b[0mglyph_visuals\u001b[0m \u001b[0;34m=\u001b[0m \u001b[0mpop_visuals\u001b[0m\u001b[0;34m(\u001b[0m\u001b[0mglyphclass\u001b[0m\u001b[0;34m,\u001b[0m \u001b[0mkwargs\u001b[0m\u001b[0;34m)\u001b[0m\u001b[0;34m\u001b[0m\u001b[0;34m\u001b[0m\u001b[0m\n\u001b[1;32m     89\u001b[0m     \u001b[0mincompatible_literal_spec_values\u001b[0m \u001b[0;34m=\u001b[0m \u001b[0;34m[\u001b[0m\u001b[0;34m]\u001b[0m\u001b[0;34m\u001b[0m\u001b[0;34m\u001b[0m\u001b[0m\n\u001b[0;32m---> 90\u001b[0;31m     \u001b[0mincompatible_literal_spec_values\u001b[0m \u001b[0;34m+=\u001b[0m \u001b[0m_process_sequence_literals\u001b[0m\u001b[0;34m(\u001b[0m\u001b[0mglyphclass\u001b[0m\u001b[0;34m,\u001b[0m \u001b[0mkwargs\u001b[0m\u001b[0;34m,\u001b[0m \u001b[0msource\u001b[0m\u001b[0;34m,\u001b[0m \u001b[0mis_user_source\u001b[0m\u001b[0;34m)\u001b[0m\u001b[0;34m\u001b[0m\u001b[0;34m\u001b[0m\u001b[0m\n\u001b[0m\u001b[1;32m     91\u001b[0m     \u001b[0mincompatible_literal_spec_values\u001b[0m \u001b[0;34m+=\u001b[0m \u001b[0m_process_sequence_literals\u001b[0m\u001b[0;34m(\u001b[0m\u001b[0mglyphclass\u001b[0m\u001b[0;34m,\u001b[0m \u001b[0mglyph_visuals\u001b[0m\u001b[0;34m,\u001b[0m \u001b[0msource\u001b[0m\u001b[0;34m,\u001b[0m \u001b[0mis_user_source\u001b[0m\u001b[0;34m)\u001b[0m\u001b[0;34m\u001b[0m\u001b[0;34m\u001b[0m\u001b[0m\n\u001b[1;32m     92\u001b[0m     \u001b[0;32mif\u001b[0m \u001b[0mincompatible_literal_spec_values\u001b[0m\u001b[0;34m:\u001b[0m\u001b[0;34m\u001b[0m\u001b[0;34m\u001b[0m\u001b[0m\n",
            "\u001b[0;32m/usr/local/lib/python3.10/dist-packages/bokeh/plotting/_renderer.py\u001b[0m in \u001b[0;36m_process_sequence_literals\u001b[0;34m(glyphclass, kwargs, source, is_user_source)\u001b[0m\n\u001b[1;32m    292\u001b[0m                                        f\" ({var} is {val.dtype}[{', '.join(map(str, val.shape))}]\")\n\u001b[1;32m    293\u001b[0m             \u001b[0;32melif\u001b[0m \u001b[0mval\u001b[0m\u001b[0;34m.\u001b[0m\u001b[0mndim\u001b[0m \u001b[0;34m!=\u001b[0m \u001b[0;36m1\u001b[0m\u001b[0;34m:\u001b[0m\u001b[0;34m\u001b[0m\u001b[0;34m\u001b[0m\u001b[0m\n\u001b[0;32m--> 294\u001b[0;31m                 \u001b[0;32mraise\u001b[0m \u001b[0mRuntimeError\u001b[0m\u001b[0;34m(\u001b[0m\u001b[0;34mf\"Columns need to be 1D ({var} is not)\"\u001b[0m\u001b[0;34m)\u001b[0m\u001b[0;34m\u001b[0m\u001b[0;34m\u001b[0m\u001b[0m\n\u001b[0m\u001b[1;32m    295\u001b[0m \u001b[0;34m\u001b[0m\u001b[0m\n\u001b[1;32m    296\u001b[0m         \u001b[0;32mif\u001b[0m \u001b[0mis_user_source\u001b[0m\u001b[0;34m:\u001b[0m\u001b[0;34m\u001b[0m\u001b[0;34m\u001b[0m\u001b[0m\n",
            "\u001b[0;31mRuntimeError\u001b[0m: Columns need to be 1D (y is not)"
          ]
        }
      ]
    },
    {
      "cell_type": "code",
      "source": [
        "s=0\n",
        "for i in range(437):\n",
        "      s+=float(y[0][i]-yr[i])\n",
        "RMSE=np.sqrt(s**2/437)\n",
        "RMSE"
      ],
      "metadata": {
        "colab": {
          "base_uri": "https://localhost:8080/"
        },
        "id": "lKFDYnWQn6gP",
        "outputId": "10db6dba-e81a-4bda-e591-69fa0c6db76b"
      },
      "execution_count": null,
      "outputs": [
        {
          "output_type": "execute_result",
          "data": {
            "text/plain": [
              "4.14676396578263e-14"
            ]
          },
          "metadata": {},
          "execution_count": 327
        }
      ]
    },
    {
      "cell_type": "code",
      "source": [
        "s=[]\n",
        "for i in range(437):\n",
        "      s.append(abs(float(y[0][i]-yr[i])))\n",
        "MAE=np.mean(s)/437\n",
        "MAE"
      ],
      "metadata": {
        "colab": {
          "base_uri": "https://localhost:8080/"
        },
        "id": "jCNWqQ2zq3ta",
        "outputId": "4793de8d-58ef-48ed-cbf6-6b50c491aa5c"
      },
      "execution_count": null,
      "outputs": [
        {
          "output_type": "execute_result",
          "data": {
            "text/plain": [
              "0.2290080805120583"
            ]
          },
          "metadata": {},
          "execution_count": 325
        }
      ]
    },
    {
      "cell_type": "code",
      "source": [
        "from sklearn.preprocessing import PolynomialFeatures\n",
        "pf=PolynomialFeatures()\n",
        "#Linear Equation of degree 2\n",
        "X_poly=pf.fit_transform(x[1])\n",
        "#binary_1.fit(X_poly, y)\n",
        "yp=binary_1.predict(X_poly)"
      ],
      "metadata": {
        "colab": {
          "base_uri": "https://localhost:8080/",
          "height": 1000
        },
        "id": "XhMgYR_apD9e",
        "outputId": "8fd67392-daba-40e4-fcf3-76ed3056528e"
      },
      "execution_count": null,
      "outputs": [
        {
          "output_type": "error",
          "ename": "ValueError",
          "evalue": "ignored",
          "traceback": [
            "\u001b[0;31m---------------------------------------------------------------------------\u001b[0m",
            "\u001b[0;31mValueError\u001b[0m                                Traceback (most recent call last)",
            "\u001b[0;32m<ipython-input-316-980b7dbac4e6>\u001b[0m in \u001b[0;36m<cell line: 4>\u001b[0;34m()\u001b[0m\n\u001b[1;32m      2\u001b[0m \u001b[0mpf\u001b[0m\u001b[0;34m=\u001b[0m\u001b[0mPolynomialFeatures\u001b[0m\u001b[0;34m(\u001b[0m\u001b[0;34m)\u001b[0m\u001b[0;34m\u001b[0m\u001b[0;34m\u001b[0m\u001b[0m\n\u001b[1;32m      3\u001b[0m \u001b[0;31m#Linear Equation of degree 2\u001b[0m\u001b[0;34m\u001b[0m\u001b[0;34m\u001b[0m\u001b[0m\n\u001b[0;32m----> 4\u001b[0;31m \u001b[0mX_poly\u001b[0m\u001b[0;34m=\u001b[0m\u001b[0mpf\u001b[0m\u001b[0;34m.\u001b[0m\u001b[0mfit_transform\u001b[0m\u001b[0;34m(\u001b[0m\u001b[0mx\u001b[0m\u001b[0;34m[\u001b[0m\u001b[0;36m1\u001b[0m\u001b[0;34m]\u001b[0m\u001b[0;34m)\u001b[0m\u001b[0;34m\u001b[0m\u001b[0;34m\u001b[0m\u001b[0m\n\u001b[0m\u001b[1;32m      5\u001b[0m \u001b[0;31m#binary_1.fit(X_poly, y)\u001b[0m\u001b[0;34m\u001b[0m\u001b[0;34m\u001b[0m\u001b[0m\n\u001b[1;32m      6\u001b[0m \u001b[0myp\u001b[0m\u001b[0;34m=\u001b[0m\u001b[0mbinary_1\u001b[0m\u001b[0;34m.\u001b[0m\u001b[0mpredict\u001b[0m\u001b[0;34m(\u001b[0m\u001b[0mX_poly\u001b[0m\u001b[0;34m)\u001b[0m\u001b[0;34m\u001b[0m\u001b[0;34m\u001b[0m\u001b[0m\n",
            "\u001b[0;32m/usr/local/lib/python3.10/dist-packages/sklearn/utils/_set_output.py\u001b[0m in \u001b[0;36mwrapped\u001b[0;34m(self, X, *args, **kwargs)\u001b[0m\n\u001b[1;32m    138\u001b[0m     \u001b[0;34m@\u001b[0m\u001b[0mwraps\u001b[0m\u001b[0;34m(\u001b[0m\u001b[0mf\u001b[0m\u001b[0;34m)\u001b[0m\u001b[0;34m\u001b[0m\u001b[0;34m\u001b[0m\u001b[0m\n\u001b[1;32m    139\u001b[0m     \u001b[0;32mdef\u001b[0m \u001b[0mwrapped\u001b[0m\u001b[0;34m(\u001b[0m\u001b[0mself\u001b[0m\u001b[0;34m,\u001b[0m \u001b[0mX\u001b[0m\u001b[0;34m,\u001b[0m \u001b[0;34m*\u001b[0m\u001b[0margs\u001b[0m\u001b[0;34m,\u001b[0m \u001b[0;34m**\u001b[0m\u001b[0mkwargs\u001b[0m\u001b[0;34m)\u001b[0m\u001b[0;34m:\u001b[0m\u001b[0;34m\u001b[0m\u001b[0;34m\u001b[0m\u001b[0m\n\u001b[0;32m--> 140\u001b[0;31m         \u001b[0mdata_to_wrap\u001b[0m \u001b[0;34m=\u001b[0m \u001b[0mf\u001b[0m\u001b[0;34m(\u001b[0m\u001b[0mself\u001b[0m\u001b[0;34m,\u001b[0m \u001b[0mX\u001b[0m\u001b[0;34m,\u001b[0m \u001b[0;34m*\u001b[0m\u001b[0margs\u001b[0m\u001b[0;34m,\u001b[0m \u001b[0;34m**\u001b[0m\u001b[0mkwargs\u001b[0m\u001b[0;34m)\u001b[0m\u001b[0;34m\u001b[0m\u001b[0;34m\u001b[0m\u001b[0m\n\u001b[0m\u001b[1;32m    141\u001b[0m         \u001b[0;32mif\u001b[0m \u001b[0misinstance\u001b[0m\u001b[0;34m(\u001b[0m\u001b[0mdata_to_wrap\u001b[0m\u001b[0;34m,\u001b[0m \u001b[0mtuple\u001b[0m\u001b[0;34m)\u001b[0m\u001b[0;34m:\u001b[0m\u001b[0;34m\u001b[0m\u001b[0;34m\u001b[0m\u001b[0m\n\u001b[1;32m    142\u001b[0m             \u001b[0;31m# only wrap the first output for cross decomposition\u001b[0m\u001b[0;34m\u001b[0m\u001b[0;34m\u001b[0m\u001b[0m\n",
            "\u001b[0;32m/usr/local/lib/python3.10/dist-packages/sklearn/base.py\u001b[0m in \u001b[0;36mfit_transform\u001b[0;34m(self, X, y, **fit_params)\u001b[0m\n\u001b[1;32m    876\u001b[0m         \u001b[0;32mif\u001b[0m \u001b[0my\u001b[0m \u001b[0;32mis\u001b[0m \u001b[0;32mNone\u001b[0m\u001b[0;34m:\u001b[0m\u001b[0;34m\u001b[0m\u001b[0;34m\u001b[0m\u001b[0m\n\u001b[1;32m    877\u001b[0m             \u001b[0;31m# fit method of arity 1 (unsupervised transformation)\u001b[0m\u001b[0;34m\u001b[0m\u001b[0;34m\u001b[0m\u001b[0m\n\u001b[0;32m--> 878\u001b[0;31m             \u001b[0;32mreturn\u001b[0m \u001b[0mself\u001b[0m\u001b[0;34m.\u001b[0m\u001b[0mfit\u001b[0m\u001b[0;34m(\u001b[0m\u001b[0mX\u001b[0m\u001b[0;34m,\u001b[0m \u001b[0;34m**\u001b[0m\u001b[0mfit_params\u001b[0m\u001b[0;34m)\u001b[0m\u001b[0;34m.\u001b[0m\u001b[0mtransform\u001b[0m\u001b[0;34m(\u001b[0m\u001b[0mX\u001b[0m\u001b[0;34m)\u001b[0m\u001b[0;34m\u001b[0m\u001b[0;34m\u001b[0m\u001b[0m\n\u001b[0m\u001b[1;32m    879\u001b[0m         \u001b[0;32melse\u001b[0m\u001b[0;34m:\u001b[0m\u001b[0;34m\u001b[0m\u001b[0;34m\u001b[0m\u001b[0m\n\u001b[1;32m    880\u001b[0m             \u001b[0;31m# fit method of arity 2 (supervised transformation)\u001b[0m\u001b[0;34m\u001b[0m\u001b[0;34m\u001b[0m\u001b[0m\n",
            "\u001b[0;32m/usr/local/lib/python3.10/dist-packages/sklearn/preprocessing/_polynomial.py\u001b[0m in \u001b[0;36mfit\u001b[0;34m(self, X, y)\u001b[0m\n\u001b[1;32m    250\u001b[0m         \"\"\"\n\u001b[1;32m    251\u001b[0m         \u001b[0mself\u001b[0m\u001b[0;34m.\u001b[0m\u001b[0m_validate_params\u001b[0m\u001b[0;34m(\u001b[0m\u001b[0;34m)\u001b[0m\u001b[0;34m\u001b[0m\u001b[0;34m\u001b[0m\u001b[0m\n\u001b[0;32m--> 252\u001b[0;31m         \u001b[0m_\u001b[0m\u001b[0;34m,\u001b[0m \u001b[0mn_features\u001b[0m \u001b[0;34m=\u001b[0m \u001b[0mself\u001b[0m\u001b[0;34m.\u001b[0m\u001b[0m_validate_data\u001b[0m\u001b[0;34m(\u001b[0m\u001b[0mX\u001b[0m\u001b[0;34m,\u001b[0m \u001b[0maccept_sparse\u001b[0m\u001b[0;34m=\u001b[0m\u001b[0;32mTrue\u001b[0m\u001b[0;34m)\u001b[0m\u001b[0;34m.\u001b[0m\u001b[0mshape\u001b[0m\u001b[0;34m\u001b[0m\u001b[0;34m\u001b[0m\u001b[0m\n\u001b[0m\u001b[1;32m    253\u001b[0m \u001b[0;34m\u001b[0m\u001b[0m\n\u001b[1;32m    254\u001b[0m         \u001b[0;32mif\u001b[0m \u001b[0misinstance\u001b[0m\u001b[0;34m(\u001b[0m\u001b[0mself\u001b[0m\u001b[0;34m.\u001b[0m\u001b[0mdegree\u001b[0m\u001b[0;34m,\u001b[0m \u001b[0mIntegral\u001b[0m\u001b[0;34m)\u001b[0m\u001b[0;34m:\u001b[0m\u001b[0;34m\u001b[0m\u001b[0;34m\u001b[0m\u001b[0m\n",
            "\u001b[0;32m/usr/local/lib/python3.10/dist-packages/sklearn/base.py\u001b[0m in \u001b[0;36m_validate_data\u001b[0;34m(self, X, y, reset, validate_separately, **check_params)\u001b[0m\n\u001b[1;32m    563\u001b[0m             \u001b[0;32mraise\u001b[0m \u001b[0mValueError\u001b[0m\u001b[0;34m(\u001b[0m\u001b[0;34m\"Validation should be done on X, y or both.\"\u001b[0m\u001b[0;34m)\u001b[0m\u001b[0;34m\u001b[0m\u001b[0;34m\u001b[0m\u001b[0m\n\u001b[1;32m    564\u001b[0m         \u001b[0;32melif\u001b[0m \u001b[0;32mnot\u001b[0m \u001b[0mno_val_X\u001b[0m \u001b[0;32mand\u001b[0m \u001b[0mno_val_y\u001b[0m\u001b[0;34m:\u001b[0m\u001b[0;34m\u001b[0m\u001b[0;34m\u001b[0m\u001b[0m\n\u001b[0;32m--> 565\u001b[0;31m             \u001b[0mX\u001b[0m \u001b[0;34m=\u001b[0m \u001b[0mcheck_array\u001b[0m\u001b[0;34m(\u001b[0m\u001b[0mX\u001b[0m\u001b[0;34m,\u001b[0m \u001b[0minput_name\u001b[0m\u001b[0;34m=\u001b[0m\u001b[0;34m\"X\"\u001b[0m\u001b[0;34m,\u001b[0m \u001b[0;34m**\u001b[0m\u001b[0mcheck_params\u001b[0m\u001b[0;34m)\u001b[0m\u001b[0;34m\u001b[0m\u001b[0;34m\u001b[0m\u001b[0m\n\u001b[0m\u001b[1;32m    566\u001b[0m             \u001b[0mout\u001b[0m \u001b[0;34m=\u001b[0m \u001b[0mX\u001b[0m\u001b[0;34m\u001b[0m\u001b[0;34m\u001b[0m\u001b[0m\n\u001b[1;32m    567\u001b[0m         \u001b[0;32melif\u001b[0m \u001b[0mno_val_X\u001b[0m \u001b[0;32mand\u001b[0m \u001b[0;32mnot\u001b[0m \u001b[0mno_val_y\u001b[0m\u001b[0;34m:\u001b[0m\u001b[0;34m\u001b[0m\u001b[0;34m\u001b[0m\u001b[0m\n",
            "\u001b[0;32m/usr/local/lib/python3.10/dist-packages/sklearn/utils/validation.py\u001b[0m in \u001b[0;36mcheck_array\u001b[0;34m(array, accept_sparse, accept_large_sparse, dtype, order, copy, force_all_finite, ensure_2d, allow_nd, ensure_min_samples, ensure_min_features, estimator, input_name)\u001b[0m\n\u001b[1;32m    900\u001b[0m             \u001b[0;31m# If input is 1D raise error\u001b[0m\u001b[0;34m\u001b[0m\u001b[0;34m\u001b[0m\u001b[0m\n\u001b[1;32m    901\u001b[0m             \u001b[0;32mif\u001b[0m \u001b[0marray\u001b[0m\u001b[0;34m.\u001b[0m\u001b[0mndim\u001b[0m \u001b[0;34m==\u001b[0m \u001b[0;36m1\u001b[0m\u001b[0;34m:\u001b[0m\u001b[0;34m\u001b[0m\u001b[0;34m\u001b[0m\u001b[0m\n\u001b[0;32m--> 902\u001b[0;31m                 raise ValueError(\n\u001b[0m\u001b[1;32m    903\u001b[0m                     \u001b[0;34m\"Expected 2D array, got 1D array instead:\\narray={}.\\n\"\u001b[0m\u001b[0;34m\u001b[0m\u001b[0;34m\u001b[0m\u001b[0m\n\u001b[1;32m    904\u001b[0m                     \u001b[0;34m\"Reshape your data either using array.reshape(-1, 1) if \"\u001b[0m\u001b[0;34m\u001b[0m\u001b[0;34m\u001b[0m\u001b[0m\n",
            "\u001b[0;31mValueError\u001b[0m: Expected 2D array, got 1D array instead:\narray=[-1.02330755e+00 -1.10838575e+00 -2.13615380e+00 -1.54958635e+00\n -1.08619268e+00 -2.54209973e+00 -2.35820493e-01 -2.75026389e-01\n  3.66380165e-01  4.90892708e-01 -5.76717395e-02  2.26291825e+00\n  1.65304419e+00  3.78454105e-01  2.73692021e-01 -1.62593790e-01\n -2.49339057e-01 -1.78268397e-01 -8.94080890e-01  3.81292915e-01\n -3.84404385e-01 -4.71787951e-01  1.38920929e-01 -7.87143674e-01\n -8.93961592e-01  1.57699822e-01 -2.59822993e+00  3.23789725e-01\n  1.78759654e+00  2.26107880e-01  1.65650045e+00  9.24176562e-02\n  1.04722736e+00  1.00092778e+00 -2.81639458e-01 -7.06805248e-01\n -3.48407367e-01  6.41503526e-01 -8.99993552e-01 -1.94369121e+00\n -1.12014261e+00  2.04613047e-01 -5.27149483e-01  8.50920733e-01\n -3.14530121e-01  6.08499160e-01 -4.12131291e-01  2.61999357e-01\n  4.44621021e-01 -6.85772652e-01 -6.79452369e-01  8.39836597e-01\n  2.34982372e-01  3.68295270e-01  2.95471585e-01 -9.29452882e-02\n -5.06645429e-01  1.38547028e+00  6.05799295e-01  7.74822664e-01\n -1.48561054e+00  1.78404741e+00  3.81553770e-01  1.60274178e+00\n  3.19644421e-01 -1.30080272e+00 -1.19718648e-01  1.30255108e+00\n  1.03460812e+00  1.98000488e+00  9.86458008e-02 -5.20120356e-01\n -7.79270549e-01  1.72749233e+00  5.97769685e-01  9.94301672e-01\n  1.36875392e+00  6.16868139e-01 -2.08644602e+00  1.85960340e+00\n  1.44296926e+00 -2.42375977e+00  1.90885691e-02  9.75269488e-01\n  5.08537806e-01  3.98262793e-01  5.16077236e-01 -6.40950166e-01\n  7.09524620e-01  1.34272031e+00  8.72515446e-01 -2.40556472e-02\n  7.11766174e-01  3.60583329e-01 -8.58389152e-01 -9.42189954e-01\n -2.19109663e-01 -1.82331791e+00  3.22568258e-01 -3.61432704e-01\n -7.81369353e-01 -1.42973755e+00 -3.97682526e-01  2.50394534e-01\n -1.11703414e+00  3.47659223e-01  9.70693978e-01 -7.11878231e-01\n  1.15899659e+00  9.70015945e-01 -9.03611462e-01 -1.51299356e+00\n -6.30405190e-01  8.20167342e-01 -3.13388579e-01 -1.06483843e+00\n  5.70382308e-01  1.52095009e+00  5.42656297e-01 -3.49463086e-01\n -2.74889070e-01  8.29318910e-01 -2.37957776e-01  6.51709533e-02\n -8.71563426e-02 -5.96308766e-01 -9.56847587e-01 -8.75300381e-02\n -9.91824293e-01 -2.67770521e+00  1.02153588e+00 -1.00119127e+00\n  3.25406938e-01 -2.03209415e-01 -9.07651278e-01  1.28753451e+00\n -8.14377844e-02 -2.16871506e-01  1.55736932e+00  1.99280569e+00\n  1.22606702e-01 -1.95143646e-01  1.05969473e+00  1.10857718e+00\n -1.61427975e+00 -4.01075571e-01 -5.82584938e-02  2.35632716e+00\n  2.02882906e-01  1.37367675e+00 -3.04386323e-01 -4.03745406e-01\n -5.05461797e-01 -2.11192740e+00  9.28967210e-01  1.19194035e+00\n  1.55858501e+00 -2.18992742e-01  7.92977236e-01  1.29975488e+00\n -1.51645288e-01 -5.25083615e-01  2.29619547e+00 -3.29047707e-01\n -3.49109122e-01 -1.00921586e+00 -3.85024072e-01  1.81728674e-01\n -6.25360709e-01  1.85338434e+00  6.95402493e-02  1.06623938e-01\n  7.31481500e-01  5.39748738e-01  2.41873029e-01 -4.37972235e-01\n -1.08713317e+00  9.05113302e-01  5.40122351e-01  6.19273765e-01\n -7.56095969e-02 -6.76043982e-01  3.74991459e-01  1.34203184e-01\n  1.06983931e+00 -6.15172044e-01 -6.06160672e-01 -4.99698566e-01\n -1.80262927e+00  1.84689324e-01  3.93198603e-01  8.21915244e-01\n  5.32711143e-01  8.88118446e-01 -5.82783535e-01 -4.43869615e-01\n  1.25000459e+00  1.22990742e-01 -7.71262710e-01 -1.44943432e+00\n -2.97890218e-02 -1.44908072e+00  1.07735130e+00  2.76091276e-01\n  1.72073782e+00 -9.01290131e-01  6.09011024e-02  4.66706345e-01\n  1.03535398e+00 -8.14203094e-01 -1.28726280e-02  2.79464403e-01\n  6.45850569e-01  4.89682134e-01  7.41958404e-01 -9.53422116e-01\n  9.03810545e-04  1.70489894e+00 -6.36043344e-01  3.76870548e-01\n -3.81104011e-01  6.01875178e-01  2.08418998e+00  8.25394330e-01\n -5.72988549e-01 -7.65955095e-01 -1.50595204e+00 -7.71089354e-01\n  8.52304789e-01 -1.89321615e-01 -5.67912734e-01  1.56315021e-01\n  1.64061564e+00  3.58354083e-02 -1.12565462e+00  6.56561173e-02\n -1.72373589e-01 -1.10963852e+00  1.96569027e+00  7.70846627e-01\n  1.06365697e-01  4.85936106e-01 -4.61546450e-01 -4.27686814e-01\n -8.18561765e-01 -6.10567075e-01  5.96360213e-01  3.69793706e-01\n  5.87555570e-01  9.96941604e-03  5.52999617e-02  3.15568349e-01\n  1.30088436e+00 -5.70459265e-01  6.36641916e-01 -1.26729030e+00\n -6.24078473e-01 -1.76225928e+00  9.97920298e-01  6.96634972e-02\n  1.57121683e+00  2.64640003e+00 -1.88157350e+00 -7.11140232e-01\n -1.75998461e-01  1.32250614e+00  7.42118238e-01  6.69847199e-01\n -8.89886380e-01 -4.63401346e-01  2.53797331e-01  7.47929643e-01\n -9.42376332e-01  3.97435601e-01 -5.29937793e-01 -6.24992209e-01\n -5.23004153e-01 -8.73623199e-01 -6.50681987e-01 -1.49781332e+00\n -3.65435967e-01  1.98792434e+00 -1.62819628e-01 -5.81008769e-01\n  2.78564878e-01 -1.25397749e-01 -9.07180711e-01 -5.43318369e-01\n  6.00142510e-01  1.12675119e+00 -1.57931717e-01 -1.98977352e+00\n -1.33883946e+00  9.37639008e-02  3.18165944e-01 -5.04672147e-01\n -1.80843814e+00 -3.23323180e-01 -6.85828252e-01 -6.54375917e-01\n  1.48329542e+00  1.30176035e+00 -3.33833542e-01 -2.39140250e-01\n  7.74293381e-01 -1.16818803e-01  1.80099034e-01 -1.43031115e-02\n  1.60691249e+00 -8.72484546e-01  6.14938727e-01 -5.26231540e-01\n  4.68726910e-01  9.84639089e-01  9.14594184e-01 -6.61406904e-01\n  1.23498450e+00 -3.65803758e-02 -5.25768590e-01  9.23905824e-01\n -9.42990430e-01 -4.98495565e-01 -6.18109898e-01 -8.91206779e-01\n  7.13265374e-01  3.37473363e-01 -7.35750122e-01 -1.44351399e+00\n -1.46969614e+00 -2.27429240e-01 -1.47736675e-01  1.04885172e+00\n -1.11830713e+00 -2.83806849e-01 -8.37332074e-01  1.01978371e+00\n -5.97581419e-01  1.65691410e+00 -5.75601029e-01 -5.42208597e-01\n  7.18658066e-01  6.03773980e-01 -9.98319324e-01  3.62158120e-01\n -2.51438398e+00 -1.23564694e+00  1.95750973e-01 -5.60324887e-01\n  1.37885317e+00  1.25536909e+00 -1.83931986e-02 -7.02468341e-01\n  2.33546268e-01 -3.85430008e-01  4.26698225e-01  1.56293088e+00\n  5.64241772e-01  2.71117813e-01 -1.78006831e+00 -1.48083954e+00\n -1.06654840e+00 -2.66286530e-01 -9.29766462e-01  1.24437125e+00\n -1.68255257e+00  1.79748765e-01 -8.75637579e-01  1.19148260e+00\n  6.07387091e-01 -1.16779138e+00  1.48779624e-01 -1.31879135e+00\n  1.17798381e+00 -2.69885902e-01  1.21722854e+00 -4.89203278e-01\n -2.15799571e-01 -7.76787360e-02  1.26633117e+00 -9.12588052e-01\n -4.49110907e-02  3.09989384e-01  2.35258034e-01  7.44108850e-01\n  2.48116251e+00 -1.91267271e+00 -2.07227860e-01 -5.32777140e-01\n -6.00047144e-01  6.05053475e-01  5.47792234e-01  1.91857008e-01\n -1.78066961e+00 -2.58766971e-01  5.75311182e-01  1.44099776e+00\n  7.58289544e-01  1.68599066e+00  1.64946105e-01  7.09755817e-01\n -3.47768013e-01 -7.64351660e-01  4.05565902e-01  1.15371866e+00\n -2.98852840e-01  4.92213016e-01 -4.29409073e-01  2.71460211e-01\n  4.91418534e-01 -8.60839534e-01  1.91879260e+00  1.24508819e+00\n -4.82214028e-01  1.43396872e-01  1.05655176e-02  2.11977815e-02\n -1.33449309e+00  9.20681036e-01  1.31530920e+00  1.47017302e-01\n -8.12467222e-01  5.57997743e-01  9.26025634e-01  1.79683776e+00\n  3.74089074e-01  2.91885787e-02 -2.83329421e+00  5.68565340e-01\n -5.77674940e-01 -2.33911334e+00  1.18274308e+00  1.43567503e+00\n  3.45084618e-01  1.15444593e+00 -5.76409045e-01  1.89570972e-01\n -1.71930334e+00].\nReshape your data either using array.reshape(-1, 1) if your data has a single feature or array.reshape(1, -1) if it contains a single sample."
          ]
        }
      ]
    },
    {
      "cell_type": "markdown",
      "source": [
        "(*) Замерьте время обучения полиномиальных моделей с разной степенью полинома. Сделайте вывод."
      ],
      "metadata": {
        "id": "1dZqkoGhNWMW"
      }
    },
    {
      "cell_type": "code",
      "source": [],
      "metadata": {
        "colab": {
          "base_uri": "https://localhost:8080/"
        },
        "id": "lqHbMV_1kmZq",
        "outputId": "7b2e6882-85dc-468b-d5c9-e99fd5dceb09"
      },
      "execution_count": null,
      "outputs": [
        {
          "output_type": "execute_result",
          "data": {
            "text/plain": [
              "array([[[-1.02330755e+00,  1.04715835e+00],\n",
              "        [-1.10838575e+00,  1.22851898e+00],\n",
              "        [-2.13615380e+00,  4.56315305e+00],\n",
              "        [-1.54958635e+00,  2.40121785e+00],\n",
              "        [-1.08619268e+00,  1.17981454e+00],\n",
              "        [-2.54209973e+00,  6.46227105e+00],\n",
              "        [-2.35820493e-01,  5.56113047e-02],\n",
              "        [-2.75026389e-01,  7.56395146e-02],\n",
              "        [ 3.66380165e-01,  1.34234425e-01],\n",
              "        [ 4.90892708e-01,  2.40975651e-01],\n",
              "        [-5.76717395e-02,  3.32602954e-03],\n",
              "        [ 2.26291825e+00,  5.12079900e+00],\n",
              "        [ 1.65304419e+00,  2.73255508e+00],\n",
              "        [ 3.78454105e-01,  1.43227510e-01],\n",
              "        [ 2.73692021e-01,  7.49073222e-02],\n",
              "        [-1.62593790e-01,  2.64367404e-02],\n",
              "        [-2.49339057e-01,  6.21699654e-02],\n",
              "        [-1.78268397e-01,  3.17796212e-02],\n",
              "        [-8.94080890e-01,  7.99380638e-01],\n",
              "        [ 3.81292915e-01,  1.45384287e-01],\n",
              "        [-3.84404385e-01,  1.47766731e-01],\n",
              "        [-4.71787951e-01,  2.22583871e-01],\n",
              "        [ 1.38920929e-01,  1.92990244e-02],\n",
              "        [-7.87143674e-01,  6.19595164e-01],\n",
              "        [-8.93961592e-01,  7.99167328e-01],\n",
              "        [ 1.57699822e-01,  2.48692340e-02],\n",
              "        [-2.59822993e+00,  6.75079879e+00],\n",
              "        [ 3.23789725e-01,  1.04839786e-01],\n",
              "        [ 1.78759654e+00,  3.19550138e+00],\n",
              "        [ 2.26107880e-01,  5.11247734e-02],\n",
              "        [ 1.65650045e+00,  2.74399373e+00],\n",
              "        [ 9.24176562e-02,  8.54102317e-03],\n",
              "        [ 1.04722736e+00,  1.09668515e+00],\n",
              "        [ 1.00092778e+00,  1.00185643e+00],\n",
              "        [-2.81639458e-01,  7.93207841e-02],\n",
              "        [-7.06805248e-01,  4.99573659e-01],\n",
              "        [-3.48407367e-01,  1.21387693e-01],\n",
              "        [ 6.41503526e-01,  4.11526773e-01],\n",
              "        [-8.99993552e-01,  8.09988394e-01],\n",
              "        [-1.94369121e+00,  3.77793552e+00],\n",
              "        [-1.12014261e+00,  1.25471946e+00],\n",
              "        [ 2.04613047e-01,  4.18664991e-02],\n",
              "        [-5.27149483e-01,  2.77886578e-01],\n",
              "        [ 8.50920733e-01,  7.24066093e-01],\n",
              "        [-3.14530121e-01,  9.89291970e-02],\n",
              "        [ 6.08499160e-01,  3.70271228e-01],\n",
              "        [-4.12131291e-01,  1.69852201e-01],\n",
              "        [ 2.61999357e-01,  6.86436632e-02],\n",
              "        [ 4.44621021e-01,  1.97687853e-01],\n",
              "        [-6.85772652e-01,  4.70284131e-01],\n",
              "        [-6.79452369e-01,  4.61655522e-01],\n",
              "        [ 8.39836597e-01,  7.05325509e-01],\n",
              "        [ 2.34982372e-01,  5.52167150e-02],\n",
              "        [ 3.68295270e-01,  1.35641406e-01],\n",
              "        [ 2.95471585e-01,  8.73034577e-02],\n",
              "        [-9.29452882e-02,  8.63882659e-03],\n",
              "        [-5.06645429e-01,  2.56689590e-01],\n",
              "        [ 1.38547028e+00,  1.91952789e+00],\n",
              "        [ 6.05799295e-01,  3.66992786e-01],\n",
              "        [ 7.74822664e-01,  6.00350161e-01],\n",
              "        [-1.48561054e+00,  2.20703868e+00],\n",
              "        [ 1.78404741e+00,  3.18282517e+00],\n",
              "        [ 3.81553770e-01,  1.45583280e-01],\n",
              "        [ 1.60274178e+00,  2.56878120e+00],\n",
              "        [ 3.19644421e-01,  1.02172556e-01],\n",
              "        [-1.30080272e+00,  1.69208771e+00],\n",
              "        [-1.19718648e-01,  1.43325548e-02],\n",
              "        [ 1.30255108e+00,  1.69663932e+00],\n",
              "        [ 1.03460812e+00,  1.07041395e+00],\n",
              "        [ 1.98000488e+00,  3.92041932e+00],\n",
              "        [ 9.86458008e-02,  9.73099401e-03],\n",
              "        [-5.20120356e-01,  2.70525184e-01],\n",
              "        [-7.79270549e-01,  6.07262589e-01],\n",
              "        [ 1.72749233e+00,  2.98422973e+00],\n",
              "        [ 5.97769685e-01,  3.57328596e-01],\n",
              "        [ 9.94301672e-01,  9.88635816e-01],\n",
              "        [ 1.36875392e+00,  1.87348728e+00],\n",
              "        [ 6.16868139e-01,  3.80526301e-01],\n",
              "        [-2.08644602e+00,  4.35325699e+00],\n",
              "        [ 1.85960340e+00,  3.45812480e+00],\n",
              "        [ 1.44296926e+00,  2.08216027e+00],\n",
              "        [-2.42375977e+00,  5.87461140e+00],\n",
              "        [ 1.90885691e-02,  3.64373472e-04],\n",
              "        [ 9.75269488e-01,  9.51150573e-01],\n",
              "        [ 5.08537806e-01,  2.58610700e-01],\n",
              "        [ 3.98262793e-01,  1.58613252e-01],\n",
              "        [ 5.16077236e-01,  2.66335714e-01],\n",
              "        [-6.40950166e-01,  4.10817115e-01],\n",
              "        [ 7.09524620e-01,  5.03425187e-01],\n",
              "        [ 1.34272031e+00,  1.80289782e+00],\n",
              "        [ 8.72515446e-01,  7.61283203e-01],\n",
              "        [-2.40556472e-02,  5.78674162e-04],\n",
              "        [ 7.11766174e-01,  5.06611087e-01],\n",
              "        [ 3.60583329e-01,  1.30020337e-01],\n",
              "        [-8.58389152e-01,  7.36831936e-01],\n",
              "        [-9.42189954e-01,  8.87721910e-01],\n",
              "        [-2.19109663e-01,  4.80090442e-02],\n",
              "        [-1.82331791e+00,  3.32448821e+00],\n",
              "        [ 3.22568258e-01,  1.04050281e-01],\n",
              "        [-3.61432704e-01,  1.30633600e-01],\n",
              "        [-7.81369353e-01,  6.10538065e-01],\n",
              "        [-1.42973755e+00,  2.04414946e+00],\n",
              "        [-3.97682526e-01,  1.58151392e-01],\n",
              "        [ 2.50394534e-01,  6.26974227e-02],\n",
              "        [-1.11703414e+00,  1.24776527e+00],\n",
              "        [ 3.47659223e-01,  1.20866935e-01],\n",
              "        [ 9.70693978e-01,  9.42246799e-01],\n",
              "        [-7.11878231e-01,  5.06770616e-01],\n",
              "        [ 1.15899659e+00,  1.34327309e+00],\n",
              "        [ 9.70015945e-01,  9.40930934e-01],\n",
              "        [-9.03611462e-01,  8.16513675e-01],\n",
              "        [-1.51299356e+00,  2.28914953e+00],\n",
              "        [-6.30405190e-01,  3.97410703e-01],\n",
              "        [ 8.20167342e-01,  6.72674468e-01],\n",
              "        [-3.13388579e-01,  9.82124012e-02],\n",
              "        [-1.06483843e+00,  1.13388089e+00],\n",
              "        [ 5.70382308e-01,  3.25335977e-01],\n",
              "        [ 1.52095009e+00,  2.31328919e+00],\n",
              "        [ 5.42656297e-01,  2.94475856e-01],\n",
              "        [-3.49463086e-01,  1.22124449e-01],\n",
              "        [-2.74889070e-01,  7.55640008e-02],\n",
              "        [ 8.29318910e-01,  6.87769855e-01],\n",
              "        [-2.37957776e-01,  5.66239031e-02],\n",
              "        [ 6.51709533e-02,  4.24725315e-03],\n",
              "        [-8.71563426e-02,  7.59622806e-03],\n",
              "        [-5.96308766e-01,  3.55584145e-01],\n",
              "        [-9.56847587e-01,  9.15557305e-01],\n",
              "        [-8.75300381e-02,  7.66150758e-03],\n",
              "        [-9.91824293e-01,  9.83715429e-01],\n",
              "        [-2.67770521e+00,  7.17010522e+00],\n",
              "        [ 1.02153588e+00,  1.04353556e+00],\n",
              "        [-1.00119127e+00,  1.00238396e+00],\n",
              "        [ 3.25406938e-01,  1.05889675e-01],\n",
              "        [-2.03209415e-01,  4.12940662e-02],\n",
              "        [-9.07651278e-01,  8.23830843e-01],\n",
              "        [ 1.28753451e+00,  1.65774511e+00],\n",
              "        [-8.14377844e-02,  6.63211273e-03],\n",
              "        [-2.16871506e-01,  4.70332500e-02],\n",
              "        [ 1.55736932e+00,  2.42539918e+00],\n",
              "        [ 1.99280569e+00,  3.97127451e+00],\n",
              "        [ 1.22606702e-01,  1.50324034e-02],\n",
              "        [-1.95143646e-01,  3.80810426e-02],\n",
              "        [ 1.05969473e+00,  1.12295291e+00],\n",
              "        [ 1.10857718e+00,  1.22894337e+00],\n",
              "        [-1.61427975e+00,  2.60589910e+00],\n",
              "        [-4.01075571e-01,  1.60861614e-01],\n",
              "        [-5.82584938e-02,  3.39405210e-03],\n",
              "        [ 2.35632716e+00,  5.55227769e+00],\n",
              "        [ 2.02882906e-01,  4.11614737e-02],\n",
              "        [ 1.37367675e+00,  1.88698781e+00],\n",
              "        [-3.04386323e-01,  9.26510334e-02],\n",
              "        [-4.03745406e-01,  1.63010353e-01],\n",
              "        [-5.05461797e-01,  2.55491628e-01],\n",
              "        [-2.11192740e+00,  4.46023733e+00],\n",
              "        [ 9.28967210e-01,  8.62980078e-01],\n",
              "        [ 1.19194035e+00,  1.42072179e+00],\n",
              "        [ 1.55858501e+00,  2.42918724e+00],\n",
              "        [-2.18992742e-01,  4.79578210e-02],\n",
              "        [ 7.92977236e-01,  6.28812897e-01],\n",
              "        [ 1.29975488e+00,  1.68936274e+00],\n",
              "        [-1.51645288e-01,  2.29962933e-02],\n",
              "        [-5.25083615e-01,  2.75712802e-01],\n",
              "        [ 2.29619547e+00,  5.27251362e+00],\n",
              "        [-3.29047707e-01,  1.08272393e-01],\n",
              "        [-3.49109122e-01,  1.21877179e-01],\n",
              "        [-1.00921586e+00,  1.01851666e+00],\n",
              "        [-3.85024072e-01,  1.48243536e-01],\n",
              "        [ 1.81728674e-01,  3.30253108e-02],\n",
              "        [-6.25360709e-01,  3.91076017e-01],\n",
              "        [ 1.85338434e+00,  3.43503352e+00],\n",
              "        [ 6.95402493e-02,  4.83584627e-03],\n",
              "        [ 1.06623938e-01,  1.13686641e-02],\n",
              "        [ 7.31481500e-01,  5.35065184e-01],\n",
              "        [ 5.39748738e-01,  2.91328700e-01],\n",
              "        [ 2.41873029e-01,  5.85025622e-02],\n",
              "        [-4.37972235e-01,  1.91819679e-01],\n",
              "        [-1.08713317e+00,  1.18185852e+00],\n",
              "        [ 9.05113302e-01,  8.19230089e-01],\n",
              "        [ 5.40122351e-01,  2.91732154e-01],\n",
              "        [ 6.19273765e-01,  3.83499996e-01],\n",
              "        [-7.56095969e-02,  5.71681114e-03],\n",
              "        [-6.76043982e-01,  4.57035466e-01],\n",
              "        [ 3.74991459e-01,  1.40618594e-01],\n",
              "        [ 1.34203184e-01,  1.80104946e-02],\n",
              "        [ 1.06983931e+00,  1.14455615e+00],\n",
              "        [-6.15172044e-01,  3.78436643e-01],\n",
              "        [-6.06160672e-01,  3.67430761e-01],\n",
              "        [-4.99698566e-01,  2.49698657e-01],\n",
              "        [-1.80262927e+00,  3.24947228e+00],\n",
              "        [ 1.84689324e-01,  3.41101463e-02],\n",
              "        [ 3.93198603e-01,  1.54605142e-01],\n",
              "        [ 8.21915244e-01,  6.75544668e-01],\n",
              "        [ 5.32711143e-01,  2.83781162e-01],\n",
              "        [ 8.88118446e-01,  7.88754375e-01],\n",
              "        [-5.82783535e-01,  3.39636648e-01],\n",
              "        [-4.43869615e-01,  1.97020235e-01],\n",
              "        [ 1.25000459e+00,  1.56251148e+00],\n",
              "        [ 1.22990742e-01,  1.51267227e-02],\n",
              "        [-7.71262710e-01,  5.94846168e-01],\n",
              "        [-1.44943432e+00,  2.10085985e+00],\n",
              "        [-2.97890218e-02,  8.87385818e-04],\n",
              "        [-1.44908072e+00,  2.09983494e+00],\n",
              "        [ 1.07735130e+00,  1.16068583e+00],\n",
              "        [ 2.76091276e-01,  7.62263929e-02],\n",
              "        [ 1.72073782e+00,  2.96093866e+00],\n",
              "        [-9.01290131e-01,  8.12323900e-01],\n",
              "        [ 6.09011024e-02,  3.70894427e-03],\n",
              "        [ 4.66706345e-01,  2.17814813e-01],\n",
              "        [ 1.03535398e+00,  1.07195786e+00],\n",
              "        [-8.14203094e-01,  6.62926678e-01],\n",
              "        [-1.28726280e-02,  1.65704552e-04],\n",
              "        [ 2.79464403e-01,  7.81003523e-02],\n",
              "        [ 6.45850569e-01,  4.17122957e-01],\n",
              "        [ 4.89682134e-01,  2.39788592e-01],\n",
              "        [ 7.41958404e-01,  5.50502273e-01],\n",
              "        [-9.53422116e-01,  9.09013732e-01],\n",
              "        [ 9.03810545e-04,  8.16873501e-07],\n",
              "        [ 1.70489894e+00,  2.90668039e+00],\n",
              "        [-6.36043344e-01,  4.04551136e-01],\n",
              "        [ 3.76870548e-01,  1.42031410e-01],\n",
              "        [-3.81104011e-01,  1.45240267e-01],\n",
              "        [ 6.01875178e-01,  3.62253730e-01],\n",
              "        [ 2.08418998e+00,  4.34384785e+00],\n",
              "        [ 8.25394330e-01,  6.81275799e-01],\n",
              "        [-5.72988549e-01,  3.28315877e-01],\n",
              "        [-7.65955095e-01,  5.86687207e-01],\n",
              "        [-1.50595204e+00,  2.26789154e+00],\n",
              "        [-7.71089354e-01,  5.94578792e-01],\n",
              "        [ 8.52304789e-01,  7.26423453e-01],\n",
              "        [-1.89321615e-01,  3.58426738e-02],\n",
              "        [-5.67912734e-01,  3.22524874e-01],\n",
              "        [ 1.56315021e-01,  2.44343857e-02],\n",
              "        [ 1.64061564e+00,  2.69161968e+00],\n",
              "        [ 3.58354083e-02,  1.28417649e-03],\n",
              "        [-1.12565462e+00,  1.26709833e+00],\n",
              "        [ 6.56561173e-02,  4.31072574e-03],\n",
              "        [-1.72373589e-01,  2.97126542e-02],\n",
              "        [-1.10963852e+00,  1.23129765e+00],\n",
              "        [ 1.96569027e+00,  3.86393824e+00],\n",
              "        [ 7.70846627e-01,  5.94204522e-01],\n",
              "        [ 1.06365697e-01,  1.13136616e-02],\n",
              "        [ 4.85936106e-01,  2.36133900e-01],\n",
              "        [-4.61546450e-01,  2.13025125e-01],\n",
              "        [-4.27686814e-01,  1.82916011e-01],\n",
              "        [-8.18561765e-01,  6.70043364e-01],\n",
              "        [-6.10567075e-01,  3.72792154e-01],\n",
              "        [ 5.96360213e-01,  3.55645504e-01],\n",
              "        [ 3.69793706e-01,  1.36747385e-01],\n",
              "        [ 5.87555570e-01,  3.45221548e-01],\n",
              "        [ 9.96941604e-03,  9.93892561e-05],\n",
              "        [ 5.52999617e-02,  3.05808576e-03],\n",
              "        [ 3.15568349e-01,  9.95833828e-02],\n",
              "        [ 1.30088436e+00,  1.69230011e+00],\n",
              "        [-5.70459265e-01,  3.25423773e-01],\n",
              "        [ 6.36641916e-01,  4.05312930e-01],\n",
              "        [-1.26729030e+00,  1.60602470e+00],\n",
              "        [-6.24078473e-01,  3.89473941e-01],\n",
              "        [-1.76225928e+00,  3.10555778e+00],\n",
              "        [ 9.97920298e-01,  9.95844922e-01],\n",
              "        [ 6.96634972e-02,  4.85300284e-03],\n",
              "        [ 1.57121683e+00,  2.46872232e+00],\n",
              "        [ 2.64640003e+00,  7.00343311e+00],\n",
              "        [-1.88157350e+00,  3.54031884e+00],\n",
              "        [-7.11140232e-01,  5.05720430e-01],\n",
              "        [-1.75998461e-01,  3.09754583e-02],\n",
              "        [ 1.32250614e+00,  1.74902248e+00],\n",
              "        [ 7.42118238e-01,  5.50739479e-01],\n",
              "        [ 6.69847199e-01,  4.48695270e-01],\n",
              "        [-8.89886380e-01,  7.91897770e-01],\n",
              "        [-4.63401346e-01,  2.14740808e-01],\n",
              "        [ 2.53797331e-01,  6.44130854e-02],\n",
              "        [ 7.47929643e-01,  5.59398751e-01],\n",
              "        [-9.42376332e-01,  8.88073151e-01],\n",
              "        [ 3.97435601e-01,  1.57955057e-01],\n",
              "        [-5.29937793e-01,  2.80834064e-01],\n",
              "        [-6.24992209e-01,  3.90615261e-01],\n",
              "        [-5.23004153e-01,  2.73533344e-01],\n",
              "        [-8.73623199e-01,  7.63217494e-01],\n",
              "        [-6.50681987e-01,  4.23387048e-01],\n",
              "        [-1.49781332e+00,  2.24344475e+00],\n",
              "        [-3.65435967e-01,  1.33543446e-01],\n",
              "        [ 1.98792434e+00,  3.95184318e+00],\n",
              "        [-1.62819628e-01,  2.65102312e-02],\n",
              "        [-5.81008769e-01,  3.37571190e-01],\n",
              "        [ 2.78564878e-01,  7.75983915e-02],\n",
              "        [-1.25397749e-01,  1.57245956e-02],\n",
              "        [-9.07180711e-01,  8.22976843e-01],\n",
              "        [-5.43318369e-01,  2.95194850e-01],\n",
              "        [ 6.00142510e-01,  3.60171032e-01],\n",
              "        [ 1.12675119e+00,  1.26956823e+00],\n",
              "        [-1.57931717e-01,  2.49424273e-02],\n",
              "        [-1.98977352e+00,  3.95919864e+00],\n",
              "        [-1.33883946e+00,  1.79249109e+00],\n",
              "        [ 9.37639008e-02,  8.79166910e-03],\n",
              "        [ 3.18165944e-01,  1.01229568e-01],\n",
              "        [-5.04672147e-01,  2.54693976e-01],\n",
              "        [-1.80843814e+00,  3.27044851e+00],\n",
              "        [-3.23323180e-01,  1.04537879e-01],\n",
              "        [-6.85828252e-01,  4.70360391e-01],\n",
              "        [-6.54375917e-01,  4.28207840e-01],\n",
              "        [ 1.48329542e+00,  2.20016531e+00],\n",
              "        [ 1.30176035e+00,  1.69458001e+00],\n",
              "        [-3.33833542e-01,  1.11444834e-01],\n",
              "        [-2.39140250e-01,  5.71880591e-02],\n",
              "        [ 7.74293381e-01,  5.99530239e-01],\n",
              "        [-1.16818803e-01,  1.36466329e-02],\n",
              "        [ 1.80099034e-01,  3.24356622e-02],\n",
              "        [-1.43031115e-02,  2.04579000e-04],\n",
              "        [ 1.60691249e+00,  2.58216774e+00],\n",
              "        [-8.72484546e-01,  7.61229284e-01],\n",
              "        [ 6.14938727e-01,  3.78149638e-01],\n",
              "        [-5.26231540e-01,  2.76919633e-01],\n",
              "        [ 4.68726910e-01,  2.19704916e-01],\n",
              "        [ 9.84639089e-01,  9.69514136e-01],\n",
              "        [ 9.14594184e-01,  8.36482521e-01],\n",
              "        [-6.61406904e-01,  4.37459093e-01],\n",
              "        [ 1.23498450e+00,  1.52518672e+00],\n",
              "        [-3.65803758e-02,  1.33812389e-03],\n",
              "        [-5.25768590e-01,  2.76432610e-01],\n",
              "        [ 9.23905824e-01,  8.53601972e-01],\n",
              "        [-9.42990430e-01,  8.89230952e-01],\n",
              "        [-4.98495565e-01,  2.48497829e-01],\n",
              "        [-6.18109898e-01,  3.82059846e-01],\n",
              "        [-8.91206779e-01,  7.94249523e-01],\n",
              "        [ 7.13265374e-01,  5.08747494e-01],\n",
              "        [ 3.37473363e-01,  1.13888270e-01],\n",
              "        [-7.35750122e-01,  5.41328242e-01],\n",
              "        [-1.44351399e+00,  2.08373263e+00],\n",
              "        [-1.46969614e+00,  2.16000675e+00],\n",
              "        [-2.27429240e-01,  5.17240593e-02],\n",
              "        [-1.47736675e-01,  2.18261251e-02],\n",
              "        [ 1.04885172e+00,  1.10008992e+00],\n",
              "        [-1.11830713e+00,  1.25061083e+00],\n",
              "        [-2.83806849e-01,  8.05463276e-02],\n",
              "        [-8.37332074e-01,  7.01125002e-01],\n",
              "        [ 1.01978371e+00,  1.03995882e+00],\n",
              "        [-5.97581419e-01,  3.57103552e-01],\n",
              "        [ 1.65691410e+00,  2.74536435e+00],\n",
              "        [-5.75601029e-01,  3.31316545e-01],\n",
              "        [-5.42208597e-01,  2.93990162e-01],\n",
              "        [ 7.18658066e-01,  5.16469415e-01],\n",
              "        [ 6.03773980e-01,  3.64543019e-01],\n",
              "        [-9.98319324e-01,  9.96641472e-01],\n",
              "        [ 3.62158120e-01,  1.31158504e-01],\n",
              "        [-2.51438398e+00,  6.32212682e+00],\n",
              "        [-1.23564694e+00,  1.52682336e+00],\n",
              "        [ 1.95750973e-01,  3.83184433e-02],\n",
              "        [-5.60324887e-01,  3.13963979e-01],\n",
              "        [ 1.37885317e+00,  1.90123607e+00],\n",
              "        [ 1.25536909e+00,  1.57595156e+00],\n",
              "        [-1.83931986e-02,  3.38309756e-04],\n",
              "        [-7.02468341e-01,  4.93461770e-01],\n",
              "        [ 2.33546268e-01,  5.45438593e-02],\n",
              "        [-3.85430008e-01,  1.48556291e-01],\n",
              "        [ 4.26698225e-01,  1.82071375e-01],\n",
              "        [ 1.56293088e+00,  2.44275295e+00],\n",
              "        [ 5.64241772e-01,  3.18368777e-01],\n",
              "        [ 2.71117813e-01,  7.35048683e-02],\n",
              "        [-1.78006831e+00,  3.16864319e+00],\n",
              "        [-1.48083954e+00,  2.19288575e+00],\n",
              "        [-1.06654840e+00,  1.13752548e+00],\n",
              "        [-2.66286530e-01,  7.09085163e-02],\n",
              "        [-9.29766462e-01,  8.64465675e-01],\n",
              "        [ 1.24437125e+00,  1.54845981e+00],\n",
              "        [-1.68255257e+00,  2.83098316e+00],\n",
              "        [ 1.79748765e-01,  3.23096185e-02],\n",
              "        [-8.75637579e-01,  7.66741169e-01],\n",
              "        [ 1.19148260e+00,  1.41963080e+00],\n",
              "        [ 6.07387091e-01,  3.68919078e-01],\n",
              "        [-1.16779138e+00,  1.36373670e+00],\n",
              "        [ 1.48779624e-01,  2.21353764e-02],\n",
              "        [-1.31879135e+00,  1.73921063e+00],\n",
              "        [ 1.17798381e+00,  1.38764587e+00],\n",
              "        [-2.69885902e-01,  7.28384002e-02],\n",
              "        [ 1.21722854e+00,  1.48164531e+00],\n",
              "        [-4.89203278e-01,  2.39319848e-01],\n",
              "        [-2.15799571e-01,  4.65694547e-02],\n",
              "        [-7.76787360e-02,  6.03398602e-03],\n",
              "        [ 1.26633117e+00,  1.60359463e+00],\n",
              "        [-9.12588052e-01,  8.32816952e-01],\n",
              "        [-4.49110907e-02,  2.01700607e-03],\n",
              "        [ 3.09989384e-01,  9.60934181e-02],\n",
              "        [ 2.35258034e-01,  5.53463425e-02],\n",
              "        [ 7.44108850e-01,  5.53697981e-01],\n",
              "        [ 2.48116251e+00,  6.15616739e+00],\n",
              "        [-1.91267271e+00,  3.65831689e+00],\n",
              "        [-2.07227860e-01,  4.29433861e-02],\n",
              "        [-5.32777140e-01,  2.83851481e-01],\n",
              "        [-6.00047144e-01,  3.60056575e-01],\n",
              "        [ 6.05053475e-01,  3.66089707e-01],\n",
              "        [ 5.47792234e-01,  3.00076332e-01],\n",
              "        [ 1.91857008e-01,  3.68091117e-02],\n",
              "        [-1.78066961e+00,  3.17078425e+00],\n",
              "        [-2.58766971e-01,  6.69603450e-02],\n",
              "        [ 5.75311182e-01,  3.30982956e-01],\n",
              "        [ 1.44099776e+00,  2.07647455e+00],\n",
              "        [ 7.58289544e-01,  5.75003033e-01],\n",
              "        [ 1.68599066e+00,  2.84256452e+00],\n",
              "        [ 1.64946105e-01,  2.72072175e-02],\n",
              "        [ 7.09755817e-01,  5.03753319e-01],\n",
              "        [-3.47768013e-01,  1.20942591e-01],\n",
              "        [-7.64351660e-01,  5.84233460e-01],\n",
              "        [ 4.05565902e-01,  1.64483701e-01],\n",
              "        [ 1.15371866e+00,  1.33106675e+00],\n",
              "        [-2.98852840e-01,  8.93130199e-02],\n",
              "        [ 4.92213016e-01,  2.42273653e-01],\n",
              "        [-4.29409073e-01,  1.84392152e-01],\n",
              "        [ 2.71460211e-01,  7.36906463e-02],\n",
              "        [ 4.91418534e-01,  2.41492175e-01],\n",
              "        [-8.60839534e-01,  7.41044703e-01],\n",
              "        [ 1.91879260e+00,  3.68176503e+00],\n",
              "        [ 1.24508819e+00,  1.55024461e+00],\n",
              "        [-4.82214028e-01,  2.32530369e-01],\n",
              "        [ 1.43396872e-01,  2.05626628e-02],\n",
              "        [ 1.05655176e-02,  1.11630162e-04],\n",
              "        [ 2.11977815e-02,  4.49345941e-04],\n",
              "        [-1.33449309e+00,  1.78087180e+00],\n",
              "        [ 9.20681036e-01,  8.47653570e-01],\n",
              "        [ 1.31530920e+00,  1.73003830e+00],\n",
              "        [ 1.47017302e-01,  2.16140870e-02],\n",
              "        [-8.12467222e-01,  6.60102986e-01],\n",
              "        [ 5.57997743e-01,  3.11361481e-01],\n",
              "        [ 9.26025634e-01,  8.57523476e-01],\n",
              "        [ 1.79683776e+00,  3.22862592e+00],\n",
              "        [ 3.74089074e-01,  1.39942636e-01],\n",
              "        [ 2.91885787e-02,  8.51973124e-04],\n",
              "        [-2.83329421e+00,  8.02755609e+00],\n",
              "        [ 5.68565340e-01,  3.23266545e-01],\n",
              "        [-5.77674940e-01,  3.33708336e-01],\n",
              "        [-2.33911334e+00,  5.47145123e+00],\n",
              "        [ 1.18274308e+00,  1.39888119e+00],\n",
              "        [ 1.43567503e+00,  2.06116278e+00],\n",
              "        [ 3.45084618e-01,  1.19083394e-01],\n",
              "        [ 1.15444593e+00,  1.33274540e+00],\n",
              "        [-5.76409045e-01,  3.32247387e-01],\n",
              "        [ 1.89570972e-01,  3.59371535e-02],\n",
              "        [-1.71930334e+00,  2.95600397e+00]]])"
            ]
          },
          "metadata": {},
          "execution_count": 268
        }
      ]
    }
  ]
}
